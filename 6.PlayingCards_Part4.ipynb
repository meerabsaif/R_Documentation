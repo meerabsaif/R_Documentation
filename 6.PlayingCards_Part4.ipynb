{
 "cells": [
  {
   "cell_type": "markdown",
   "id": "9c19a7a9-c5ca-4801-831a-dcaa7071e552",
   "metadata": {},
   "source": [
    "### DAY 5 | Feb 4th, 2025 \n",
    "### Project 2 : Playing Cards \n",
    "##  Part 4 : Environments "
   ]
  },
  {
   "cell_type": "code",
   "execution_count": 57,
   "id": "2c5f1555-16c2-409c-ae09-98123a7171e3",
   "metadata": {},
   "outputs": [],
   "source": [
    "# Uploading the deck of cards dataset here \n",
    "deck <- data.frame(\n",
    "  face = c(\"king\", \"queen\", \"jack\", \"ten\", \"nine\", \"eight\", \"seven\", \"six\",\n",
    "    \"five\", \"four\", \"three\", \"two\", \"ace\", \"king\", \"queen\", \"jack\", \"ten\", \n",
    "    \"nine\", \"eight\", \"seven\", \"six\", \"five\", \"four\", \"three\", \"two\", \"ace\", \n",
    "    \"king\", \"queen\", \"jack\", \"ten\", \"nine\", \"eight\", \"seven\", \"six\", \"five\", \n",
    "    \"four\", \"three\", \"two\", \"ace\", \"king\", \"queen\", \"jack\", \"ten\", \"nine\", \n",
    "    \"eight\", \"seven\", \"six\", \"five\", \"four\", \"three\", \"two\", \"ace\"),  \n",
    "  suit = c(\"spades\", \"spades\", \"spades\", \"spades\", \"spades\", \"spades\", \n",
    "    \"spades\", \"spades\", \"spades\", \"spades\", \"spades\", \"spades\", \"spades\", \n",
    "    \"clubs\", \"clubs\", \"clubs\", \"clubs\", \"clubs\", \"clubs\", \"clubs\", \"clubs\", \n",
    "    \"clubs\", \"clubs\", \"clubs\", \"clubs\", \"clubs\", \"diamonds\", \"diamonds\", \n",
    "    \"diamonds\", \"diamonds\", \"diamonds\", \"diamonds\", \"diamonds\", \"diamonds\", \n",
    "    \"diamonds\", \"diamonds\", \"diamonds\", \"diamonds\", \"diamonds\", \"hearts\", \n",
    "    \"hearts\", \"hearts\", \"hearts\", \"hearts\", \"hearts\", \"hearts\", \"hearts\", \n",
    "    \"hearts\", \"hearts\", \"hearts\", \"hearts\", \"hearts\"), \n",
    "  value = c(13, 12, 11, 10, 9, 8, 7, 6, 5, 4, 3, 2, 1, 13, 12, 11, 10, 9, 8, \n",
    "    7, 6, 5, 4, 3, 2, 1, 13, 12, 11, 10, 9, 8, 7, 6, 5, 4, 3, 2, 1, 13, 12, 11, \n",
    "    10, 9, 8, 7, 6, 5, 4, 3, 2, 1)\n",
    ")"
   ]
  },
  {
   "cell_type": "markdown",
   "id": "efc16ab8-38f7-401a-b75f-30b014f2fc7d",
   "metadata": {},
   "source": [
    "# Part 4 : Environments \n",
    "- From Part one to three, we learnt creating a deck and then replacing its values for each of the three games. \n",
    "- BUT, our shuffle and deal function are not upto a required standard.\n",
    "- They both use deck but dont manipulate it.\n",
    "- To fix these functions, we need to learn how R stores, looks up, and manipulates objects like deck. R does all of these things with the help of an environment system."
   ]
  },
  {
   "cell_type": "markdown",
   "id": "9d95d69e-6b31-4608-81f5-66af2d737abb",
   "metadata": {},
   "source": [
    "## 4.1 Environment in R \n",
    "- Each object is saved inside an environment, it is a list-like object that resembles a folder on our computer.\n",
    "- Each environment is connected to a parent environment, a higher-level environment, which creates a hierarchy of environments.\n",
    "- R’s environments exist in our RAM memory not in our file system.\n",
    "- Also, R environments aren’t technically saved inside one another. Each environment is connected to a parent environment, this  makes it easy to search up R’s environment tree.\n",
    "- This connection is one-way: there’s no way to look at one environment and tell what its “children” are.\n",
    "- So we cannot search down R’s environment tree. "
   ]
  },
  {
   "cell_type": "markdown",
   "id": "8aa338fa-d86e-4bf6-9cac-3fffe88c08ab",
   "metadata": {},
   "source": [
    "## 4.2 Working with Environments\n",
    "- We can use helper functions to explore environment tree."
   ]
  },
  {
   "cell_type": "code",
   "execution_count": 5,
   "id": "73e1e481-b6cc-4898-a996-8204a0f2265a",
   "metadata": {
    "scrolled": true
   },
   "outputs": [
    {
     "data": {
      "text/plain": [
       "<environment: package:stats>\n",
       "attr(,\"name\")\n",
       "[1] \"package:stats\"\n",
       "attr(,\"path\")\n",
       "[1] \"C:/Users/hp/anaconda3/Lib/R/library/stats\""
      ]
     },
     "metadata": {},
     "output_type": "display_data"
    }
   ],
   "source": [
    "as.environment(\"package:stats\")     #as.environment takes an environment name (as a character string) and returns the corresponding environment."
   ]
  },
  {
   "cell_type": "markdown",
   "id": "47992e79-8f65-4a7a-ae63-fce306a642ee",
   "metadata": {},
   "source": [
    "- Three environments in our tree also come with their own accessor functions:"
   ]
  },
  {
   "cell_type": "code",
   "execution_count": 8,
   "id": "adb1cfae-151a-470e-b414-432cc5017ec3",
   "metadata": {},
   "outputs": [
    {
     "data": {
      "text/plain": [
       "<environment: R_GlobalEnv>"
      ]
     },
     "metadata": {},
     "output_type": "display_data"
    },
    {
     "data": {
      "text/plain": [
       "<environment: base>"
      ]
     },
     "metadata": {},
     "output_type": "display_data"
    },
    {
     "data": {
      "text/plain": [
       "<environment: R_EmptyEnv>"
      ]
     },
     "metadata": {},
     "output_type": "display_data"
    }
   ],
   "source": [
    "globalenv()          #global environment \n",
    "baseenv()            #base environment \n",
    "emptyenv()           #empty environment "
   ]
  },
  {
   "cell_type": "code",
   "execution_count": 10,
   "id": "02f466bf-b709-41b3-b9c7-309fe1f9ff64",
   "metadata": {},
   "outputs": [
    {
     "data": {
      "text/plain": [
       "<environment: 0x000000002a58aee8>\n",
       "attr(,\"name\")\n",
       "[1] \"jupyter:irkernel\""
      ]
     },
     "metadata": {},
     "output_type": "display_data"
    }
   ],
   "source": [
    "parent.env(globalenv())      #to look up an environments parent "
   ]
  },
  {
   "cell_type": "code",
   "execution_count": 12,
   "id": "1b22940c-0fdd-4655-94c5-70bcc2577b30",
   "metadata": {},
   "outputs": [
    {
     "ename": "ERROR",
     "evalue": "Error in parent.env(emptyenv()): the empty environment has no parent\n",
     "output_type": "error",
     "traceback": [
      "Error in parent.env(emptyenv()): the empty environment has no parent\nTraceback:\n",
      "1. parent.env(emptyenv())"
     ]
    }
   ],
   "source": [
    "parent.env(emptyenv())       #empty env is the only env without a parent"
   ]
  },
  {
   "cell_type": "markdown",
   "id": "c679bdf3-dfb8-4cad-92bf-f1515d9986e1",
   "metadata": {},
   "source": [
    "### To view the objects saved in an environment \" ls or ls.str \" \n",
    "- ls will return just the object names.\n",
    "- ls.str will display a little about each object’s structure."
   ]
  },
  {
   "cell_type": "code",
   "execution_count": 15,
   "id": "5d5d97ed-4689-436c-88bf-397ca100390e",
   "metadata": {},
   "outputs": [
    {
     "data": {
      "text/html": [],
      "text/latex": [],
      "text/markdown": [],
      "text/plain": [
       "character(0)"
      ]
     },
     "metadata": {},
     "output_type": "display_data"
    }
   ],
   "source": [
    "ls(emptyenv())"
   ]
  },
  {
   "cell_type": "code",
   "execution_count": 17,
   "id": "51aea957-0661-4d33-9a23-a4a47fcdaf0d",
   "metadata": {},
   "outputs": [
    {
     "data": {
      "text/html": [],
      "text/latex": [],
      "text/markdown": [],
      "text/plain": [
       "character(0)"
      ]
     },
     "metadata": {},
     "output_type": "display_data"
    }
   ],
   "source": [
    "ls(globalenv())"
   ]
  },
  {
   "cell_type": "code",
   "execution_count": 19,
   "id": "82452c6b-613c-4b3a-92c9-e0203a4ba5b4",
   "metadata": {},
   "outputs": [
    {
     "data": {
      "text/plain": [
       "NULL"
      ]
     },
     "metadata": {},
     "output_type": "display_data"
    }
   ],
   "source": [
    "head(globalenv()$deck, 3)           #accessing an object in a specific environment."
   ]
  },
  {
   "cell_type": "code",
   "execution_count": 21,
   "id": "d53c4e24-f5c3-453d-964a-e41ba215cd24",
   "metadata": {},
   "outputs": [
    {
     "data": {
      "text/html": [
       "'The Global'"
      ],
      "text/latex": [
       "'The Global'"
      ],
      "text/markdown": [
       "'The Global'"
      ],
      "text/plain": [
       "[1] \"The Global\""
      ]
     },
     "metadata": {},
     "output_type": "display_data"
    }
   ],
   "source": [
    "assign(\"new\", \"The Global\", envir = globalenv())     #assign function to save an object into a particular environment\n",
    "#give assign the name of new object (as character string). Then, give assign value of new object, and then environment to save the object in.\n",
    "\n",
    "globalenv()$new"
   ]
  },
  {
   "cell_type": "markdown",
   "id": "9f832560-d35e-420e-9746-389bfbe0f64b",
   "metadata": {},
   "source": [
    "- Assign works similar to <-. If an object already exists with the given name in the given environment, \n",
    "assign will overwrite it without asking for permission. This makes assign useful for updating objects."
   ]
  },
  {
   "cell_type": "markdown",
   "id": "b4546c26-d92a-4065-a148-1cc90e430ac0",
   "metadata": {},
   "source": [
    "### Active Environment \n",
    "- At a time, R works closely with a single environment. New objects are stored in this environment.\n",
    "- This environment is used as a starting point to look up existing objects. Such env is called active environment.\n",
    "- The active environment is usually the global environment, but this may change when we run a function."
   ]
  },
  {
   "cell_type": "code",
   "execution_count": 25,
   "id": "c4205de4-9bb6-4e54-8025-d04070abf647",
   "metadata": {},
   "outputs": [
    {
     "data": {
      "text/plain": [
       "<environment: R_GlobalEnv>"
      ]
     },
     "metadata": {},
     "output_type": "display_data"
    }
   ],
   "source": [
    "environment()                    #to see the current active environment:"
   ]
  },
  {
   "cell_type": "markdown",
   "id": "87da96c7-afc6-480e-b71a-648491e64a3d",
   "metadata": {},
   "source": [
    "- It is the active environment for every command we run at the command line.\n",
    "- Any object that we create at the command line is saved in the global environment. (think of it as your user workspace)"
   ]
  },
  {
   "cell_type": "markdown",
   "id": "c4aadc9c-13f3-4a60-9a62-4e9ca8f15278",
   "metadata": {},
   "source": [
    "## 4.3 Scoping Rules\n",
    "R follows a special set of rules to look up objects. These rules are known as R’s scoping rules.\n",
    "1. R looks for objects in the current active environment.\n",
    "2. Working at the command line, active environment is the global environment. R looks up objects called at command line in the global environment.\n",
    "3. Finding objects that are not in the active environment:\n",
    "- Its looks in environment’s parent environment, then the parent of the parent, and so on, until R finds the object or reaches the empty environment.\n",
    "\n",
    "(If object cant be found in any environment, it will return an error that says the object is not found)"
   ]
  },
  {
   "cell_type": "markdown",
   "id": "6ceb4fe7-3b01-4571-9885-674eb706f21c",
   "metadata": {},
   "source": [
    "## 4.4 Assignment\n",
    "A value assigned to an object is saved in active environment under the object’s name. If an object with same name already exists in the active environment, R overwrites it. "
   ]
  },
  {
   "cell_type": "code",
   "execution_count": 30,
   "id": "698d5ce8-5d09-4361-815f-c5cbcf63da58",
   "metadata": {},
   "outputs": [
    {
     "data": {
      "text/html": [
       "'The Global'"
      ],
      "text/latex": [
       "'The Global'"
      ],
      "text/markdown": [
       "'The Global'"
      ],
      "text/plain": [
       "[1] \"The Global\""
      ]
     },
     "metadata": {},
     "output_type": "display_data"
    },
    {
     "data": {
      "text/html": [
       "'The Active'"
      ],
      "text/latex": [
       "'The Active'"
      ],
      "text/markdown": [
       "'The Active'"
      ],
      "text/plain": [
       "[1] \"The Active\""
      ]
     },
     "metadata": {},
     "output_type": "display_data"
    }
   ],
   "source": [
    "new                     #an object named new exists in the global environment:\n",
    "new <- \"The Active\"       #saving a new object named new to global environment with this command. \n",
    "new                         #R will overwrite the old object as a result"
   ]
  },
  {
   "cell_type": "markdown",
   "id": "d713033f-0d4e-4aa6-b8a7-a96f445382e2",
   "metadata": {},
   "source": [
    "This arrangement creates a quandary for R whenever R runs a function. "
   ]
  },
  {
   "cell_type": "code",
   "execution_count": 33,
   "id": "b570cd5d-33cd-49d6-8be3-83c3e75492ae",
   "metadata": {},
   "outputs": [],
   "source": [
    "#Many functions save temporary objects that help them do their jobs. For example:\n",
    "roll <- function() {                #roll function from Project 1 saved an object named die and an object named dice.\n",
    "  die <- 1:6\n",
    "  dice <- sample(die, size = 2, replace = TRUE)\n",
    "  sum(dice)\n",
    "}                               #R must save temporary objects in active environment; but if R does that, it may overwrite existing objects"
   ]
  },
  {
   "cell_type": "markdown",
   "id": "a9a8b0de-02a9-44cc-9e2b-0b2d953458cb",
   "metadata": {},
   "source": [
    "## 4.5 Evaluation\n",
    "- A new environment is created every time a function is evaluated.\n",
    "- New environment is taken as active environment while it runs the function.\n",
    "- R will return the environment that we called the function from.\n",
    "### Runtime Environment \n",
    "- New environments called runtime environments as they are created at runtime to evaluate functions."
   ]
  },
  {
   "cell_type": "code",
   "execution_count": 36,
   "id": "09cecfe5-08fe-4059-a27e-8f08c23231c3",
   "metadata": {},
   "outputs": [
    {
     "data": {
      "text/plain": [
       "$ran.in\n",
       "<environment: 0x000000003493ad10>\n",
       "\n",
       "$parent\n",
       "<environment: R_GlobalEnv>\n",
       "\n",
       "$objects\n"
      ]
     },
     "metadata": {},
     "output_type": "display_data"
    }
   ],
   "source": [
    "#function to explore R’s runtime environments\n",
    "show_env <- function(){\n",
    "  list(ran.in = environment(), \n",
    "    parent = parent.env(environment()), \n",
    "    objects = ls.str(environment()))\n",
    "}\n",
    "show_env()       #a runtime env created to evaluate a fn. Results tell us the name of the runtime environment, its parent, and objects it contains:\n",
    "#new environment named 0x7ff711d12e28 created to run show_env() in. Env had no objects in it, and its parent was the global environment."
   ]
  },
  {
   "cell_type": "code",
   "execution_count": 38,
   "id": "bb73fbb6-9d7b-46a6-8750-f893763027ee",
   "metadata": {},
   "outputs": [
    {
     "data": {
      "text/plain": [
       "$ran.in\n",
       "<environment: 0x00000000352cda28>\n",
       "\n",
       "$parent\n",
       "<environment: R_GlobalEnv>\n",
       "\n",
       "$objects\n"
      ]
     },
     "metadata": {},
     "output_type": "display_data"
    }
   ],
   "source": [
    "show_env()     #new env created again"
   ]
  },
  {
   "cell_type": "markdown",
   "id": "fe92cc01-28b0-49fd-b9f0-a5857a13c37c",
   "metadata": {},
   "source": [
    "### origin environment\n",
    "- function’s runtime environment is connected to the environment that the function was first created in, called orgigin environment.\n",
    "- All of the function’s runtime environments will use it as a parent. "
   ]
  },
  {
   "cell_type": "code",
   "execution_count": 41,
   "id": "f43aa214-a71d-4576-a434-4a7397ec4947",
   "metadata": {},
   "outputs": [
    {
     "data": {
      "text/plain": [
       "<environment: R_GlobalEnv>"
      ]
     },
     "metadata": {},
     "output_type": "display_data"
    }
   ],
   "source": [
    "environment(show_env)            #to look up a function’s origin environment, run environment on the function.\n",
    "                               #origin environment of show_env is the global environment because we created show_env at the command line."
   ]
  },
  {
   "cell_type": "markdown",
   "id": "8d045a33-53fa-4ea5-a132-719e7a2ee140",
   "metadata": {},
   "source": [
    "- parent of a runtime environment will not always be the global environment; it will be whichever environment the function was first created in."
   ]
  },
  {
   "cell_type": "markdown",
   "id": "0531f43a-de5f-441a-b59e-2af7cc4d50f6",
   "metadata": {},
   "source": [
    "Creating objects in ( show_env )'s body of code. Objects are created in its runtime environment. As it is the active environment when those objects are created:"
   ]
  },
  {
   "cell_type": "code",
   "execution_count": 45,
   "id": "1b23c001-e1eb-4924-8157-0f38712a896b",
   "metadata": {},
   "outputs": [],
   "source": [
    "show_env <- function(){\n",
    "  a <- 10\n",
    "  b <- 20\n",
    "  c <- 30\n",
    "  list(ran.in = environment(), \n",
    "    parent = parent.env(environment()), \n",
    "    objects = ls.str(environment()))\n",
    "}"
   ]
  },
  {
   "cell_type": "code",
   "execution_count": 47,
   "id": "da76e3d6-1623-4472-bdfc-f87fc6f1ac2e",
   "metadata": {},
   "outputs": [
    {
     "data": {
      "text/plain": [
       "$ran.in\n",
       "<environment: 0x0000000035789ab8>\n",
       "\n",
       "$parent\n",
       "<environment: R_GlobalEnv>\n",
       "\n",
       "$objects\n",
       "a :  num 10\n",
       "b :  num 20\n",
       "c :  num 30\n"
      ]
     },
     "metadata": {},
     "output_type": "display_data"
    }
   ],
   "source": [
    "show_env()"
   ]
  },
  {
   "cell_type": "code",
   "execution_count": 51,
   "id": "51b8842e-1cf7-4d15-b78f-ec1431391014",
   "metadata": {},
   "outputs": [],
   "source": [
    "#fixing deal and shuffle \n",
    "deal <- function() {\n",
    "  deck[1, ]\n",
    "}"
   ]
  },
  {
   "cell_type": "code",
   "execution_count": 53,
   "id": "fa52709a-f433-4e5c-98dd-0a9cafe5d96a",
   "metadata": {},
   "outputs": [
    {
     "data": {
      "text/plain": [
       "<environment: R_GlobalEnv>"
      ]
     },
     "metadata": {},
     "output_type": "display_data"
    }
   ],
   "source": [
    "environment(deal)"
   ]
  },
  {
   "cell_type": "markdown",
   "id": "4c7da58a-d468-407d-8a12-7c6f52c95185",
   "metadata": {},
   "source": [
    "### Deal function\n",
    "- fixing the deal function to remove the cards it has dealt from deck.\n",
    "- Recall that deal returns the top card of deck but does not remove the card from the deck. As a result, deal always returns the same card:"
   ]
  },
  {
   "cell_type": "code",
   "execution_count": 61,
   "id": "3faea896-ad79-493d-a6a4-d10e2781a540",
   "metadata": {},
   "outputs": [
    {
     "data": {
      "text/html": [
       "<table>\n",
       "<thead><tr><th scope=col>face</th><th scope=col>suit</th><th scope=col>value</th></tr></thead>\n",
       "<tbody>\n",
       "\t<tr><td>king  </td><td>spades</td><td>13    </td></tr>\n",
       "</tbody>\n",
       "</table>\n"
      ],
      "text/latex": [
       "\\begin{tabular}{r|lll}\n",
       " face & suit & value\\\\\n",
       "\\hline\n",
       "\t king   & spades & 13    \\\\\n",
       "\\end{tabular}\n"
      ],
      "text/markdown": [
       "\n",
       "| face | suit | value |\n",
       "|---|---|---|\n",
       "| king   | spades | 13     |\n",
       "\n"
      ],
      "text/plain": [
       "  face suit   value\n",
       "1 king spades 13   "
      ]
     },
     "metadata": {},
     "output_type": "display_data"
    }
   ],
   "source": [
    "deal()      #deal calls deck, R looks up the deck object. R’s scoping rules will lead it to the version of the deck in the global environment"
   ]
  },
  {
   "cell_type": "code",
   "execution_count": 65,
   "id": "c9ceb950-27ca-4b29-8b45-a8f6e86e8d30",
   "metadata": {},
   "outputs": [
    {
     "data": {
      "text/html": [
       "<table>\n",
       "<thead><tr><th></th><th scope=col>face</th><th scope=col>suit</th><th scope=col>value</th></tr></thead>\n",
       "<tbody>\n",
       "\t<tr><th scope=row>2</th><td>queen </td><td>spades</td><td>12    </td></tr>\n",
       "\t<tr><th scope=row>3</th><td>jack  </td><td>spades</td><td>11    </td></tr>\n",
       "\t<tr><th scope=row>4</th><td>ten   </td><td>spades</td><td>10    </td></tr>\n",
       "</tbody>\n",
       "</table>\n"
      ],
      "text/latex": [
       "\\begin{tabular}{r|lll}\n",
       "  & face & suit & value\\\\\n",
       "\\hline\n",
       "\t2 & queen  & spades & 12    \\\\\n",
       "\t3 & jack   & spades & 11    \\\\\n",
       "\t4 & ten    & spades & 10    \\\\\n",
       "\\end{tabular}\n"
      ],
      "text/markdown": [
       "\n",
       "| <!--/--> | face | suit | value |\n",
       "|---|---|---|---|\n",
       "| 2 | queen  | spades | 12     |\n",
       "| 3 | jack   | spades | 11     |\n",
       "| 4 | ten    | spades | 10     |\n",
       "\n"
      ],
      "text/plain": [
       "  face  suit   value\n",
       "2 queen spades 12   \n",
       "3 jack  spades 11   \n",
       "4 ten   spades 10   "
      ]
     },
     "metadata": {},
     "output_type": "display_data"
    }
   ],
   "source": [
    "#saving a prisitine copy of deck and then removing the top card.\n",
    "DECK <- deck\n",
    "deck <- deck[-1, ]\n",
    "head(deck, 3)"
   ]
  },
  {
   "cell_type": "markdown",
   "id": "8195c626-9c0d-4a86-9182-76619708fff4",
   "metadata": {},
   "source": [
    "Now let’s add the code to deal. Here deal saves (and then returns) the top card of deck."
   ]
  },
  {
   "cell_type": "code",
   "execution_count": 67,
   "id": "4b8c00d8-ccf9-4c07-b34a-e6c87bb297bd",
   "metadata": {},
   "outputs": [],
   "source": [
    "deal <- function() {\n",
    "  card <- deck[1, ]\n",
    "  deck <- deck[-1, ]\n",
    "  card\n",
    "}"
   ]
  },
  {
   "cell_type": "markdown",
   "id": "a56375bd-1779-40d6-b96c-2dabcccf40a6",
   "metadata": {},
   "source": [
    "- This code won’t work because R will be in a runtime environment when it executes deck <- deck[-1, ].\n",
    "- Instead of overwriting the global copy of deck with deck[-1, ], deal will just create a slightly altered copy of deck in its runtime environment. "
   ]
  },
  {
   "cell_type": "markdown",
   "id": "6cdb1349-a8a7-41dd-9f00-24ac5a24f0da",
   "metadata": {},
   "source": [
    "### Overwriting deck\n",
    "- Rewrite the deck <- deck[-1, ] line of deal to assign deck[-1, ] to an object named deck in the global environment. (consider the assign function)\n",
    "- Assign an object to a specific environment with the assign function:"
   ]
  },
  {
   "cell_type": "code",
   "execution_count": 76,
   "id": "d46e1be6-45e1-4010-8118-45c1c1088a0f",
   "metadata": {},
   "outputs": [],
   "source": [
    "deal <- function() {\n",
    "  card <- deck[1, ]\n",
    "  assign(\"deck\", deck[-1, ], envir = globalenv())\n",
    "  card\n",
    "}"
   ]
  },
  {
   "cell_type": "code",
   "execution_count": 78,
   "id": "59417f45-f004-474c-94a2-4582a6b35f78",
   "metadata": {},
   "outputs": [
    {
     "data": {
      "text/html": [
       "<table>\n",
       "<thead><tr><th></th><th scope=col>face</th><th scope=col>suit</th><th scope=col>value</th></tr></thead>\n",
       "<tbody>\n",
       "\t<tr><th scope=row>2</th><td>queen </td><td>spades</td><td>12    </td></tr>\n",
       "</tbody>\n",
       "</table>\n"
      ],
      "text/latex": [
       "\\begin{tabular}{r|lll}\n",
       "  & face & suit & value\\\\\n",
       "\\hline\n",
       "\t2 & queen  & spades & 12    \\\\\n",
       "\\end{tabular}\n"
      ],
      "text/markdown": [
       "\n",
       "| <!--/--> | face | suit | value |\n",
       "|---|---|---|---|\n",
       "| 2 | queen  | spades | 12     |\n",
       "\n"
      ],
      "text/plain": [
       "  face  suit   value\n",
       "2 queen spades 12   "
      ]
     },
     "metadata": {},
     "output_type": "display_data"
    },
    {
     "data": {
      "text/html": [
       "<table>\n",
       "<thead><tr><th></th><th scope=col>face</th><th scope=col>suit</th><th scope=col>value</th></tr></thead>\n",
       "<tbody>\n",
       "\t<tr><th scope=row>3</th><td>jack  </td><td>spades</td><td>11    </td></tr>\n",
       "</tbody>\n",
       "</table>\n"
      ],
      "text/latex": [
       "\\begin{tabular}{r|lll}\n",
       "  & face & suit & value\\\\\n",
       "\\hline\n",
       "\t3 & jack   & spades & 11    \\\\\n",
       "\\end{tabular}\n"
      ],
      "text/markdown": [
       "\n",
       "| <!--/--> | face | suit | value |\n",
       "|---|---|---|---|\n",
       "| 3 | jack   | spades | 11     |\n",
       "\n"
      ],
      "text/plain": [
       "  face suit   value\n",
       "3 jack spades 11   "
      ]
     },
     "metadata": {},
     "output_type": "display_data"
    },
    {
     "data": {
      "text/html": [
       "<table>\n",
       "<thead><tr><th></th><th scope=col>face</th><th scope=col>suit</th><th scope=col>value</th></tr></thead>\n",
       "<tbody>\n",
       "\t<tr><th scope=row>4</th><td>ten   </td><td>spades</td><td>10    </td></tr>\n",
       "</tbody>\n",
       "</table>\n"
      ],
      "text/latex": [
       "\\begin{tabular}{r|lll}\n",
       "  & face & suit & value\\\\\n",
       "\\hline\n",
       "\t4 & ten    & spades & 10    \\\\\n",
       "\\end{tabular}\n"
      ],
      "text/markdown": [
       "\n",
       "| <!--/--> | face | suit | value |\n",
       "|---|---|---|---|\n",
       "| 4 | ten    | spades | 10     |\n",
       "\n"
      ],
      "text/plain": [
       "  face suit   value\n",
       "4 ten  spades 10   "
      ]
     },
     "metadata": {},
     "output_type": "display_data"
    }
   ],
   "source": [
    "#Now deal will finally clean up the global copy of deck, and we can deal cards just as we would in real life.\n",
    "deal()\n",
    "deal()\n",
    "deal()"
   ]
  },
  {
   "cell_type": "markdown",
   "id": "2e61f2c0-1243-41fb-a961-bb6501c37409",
   "metadata": {},
   "source": [
    "### Shuffle function\n",
    "It doesn’t shuffle the deck object; it returns a shuffled copy of the deck object:"
   ]
  },
  {
   "cell_type": "code",
   "execution_count": 83,
   "id": "01cf6634-3d48-4f83-a867-2329cce483d9",
   "metadata": {},
   "outputs": [],
   "source": [
    "shuffle <- function(cards) { \n",
    "  random <- sample(1:52, size = 52)\n",
    "  cards[random, ]\n",
    "}"
   ]
  },
  {
   "cell_type": "code",
   "execution_count": 85,
   "id": "c72d0f32-6221-4dab-9ee0-a6ce92061423",
   "metadata": {},
   "outputs": [
    {
     "data": {
      "text/html": [
       "<table>\n",
       "<thead><tr><th></th><th scope=col>face</th><th scope=col>suit</th><th scope=col>value</th></tr></thead>\n",
       "<tbody>\n",
       "\t<tr><th scope=row>5</th><td>nine  </td><td>spades</td><td>9     </td></tr>\n",
       "\t<tr><th scope=row>6</th><td>eight </td><td>spades</td><td>8     </td></tr>\n",
       "\t<tr><th scope=row>7</th><td>seven </td><td>spades</td><td>7     </td></tr>\n",
       "</tbody>\n",
       "</table>\n"
      ],
      "text/latex": [
       "\\begin{tabular}{r|lll}\n",
       "  & face & suit & value\\\\\n",
       "\\hline\n",
       "\t5 & nine   & spades & 9     \\\\\n",
       "\t6 & eight  & spades & 8     \\\\\n",
       "\t7 & seven  & spades & 7     \\\\\n",
       "\\end{tabular}\n"
      ],
      "text/markdown": [
       "\n",
       "| <!--/--> | face | suit | value |\n",
       "|---|---|---|---|\n",
       "| 5 | nine   | spades | 9      |\n",
       "| 6 | eight  | spades | 8      |\n",
       "| 7 | seven  | spades | 7      |\n",
       "\n"
      ],
      "text/plain": [
       "  face  suit   value\n",
       "5 nine  spades 9    \n",
       "6 eight spades 8    \n",
       "7 seven spades 7    "
      ]
     },
     "metadata": {},
     "output_type": "display_data"
    },
    {
     "data": {
      "text/html": [
       "<table>\n",
       "<thead><tr><th></th><th scope=col>face</th><th scope=col>suit</th><th scope=col>value</th></tr></thead>\n",
       "<tbody>\n",
       "\t<tr><th scope=row>5</th><td>nine  </td><td>spades</td><td>9     </td></tr>\n",
       "\t<tr><th scope=row>6</th><td>eight </td><td>spades</td><td>8     </td></tr>\n",
       "\t<tr><th scope=row>7</th><td>seven </td><td>spades</td><td>7     </td></tr>\n",
       "</tbody>\n",
       "</table>\n"
      ],
      "text/latex": [
       "\\begin{tabular}{r|lll}\n",
       "  & face & suit & value\\\\\n",
       "\\hline\n",
       "\t5 & nine   & spades & 9     \\\\\n",
       "\t6 & eight  & spades & 8     \\\\\n",
       "\t7 & seven  & spades & 7     \\\\\n",
       "\\end{tabular}\n"
      ],
      "text/markdown": [
       "\n",
       "| <!--/--> | face | suit | value |\n",
       "|---|---|---|---|\n",
       "| 5 | nine   | spades | 9      |\n",
       "| 6 | eight  | spades | 8      |\n",
       "| 7 | seven  | spades | 7      |\n",
       "\n"
      ],
      "text/plain": [
       "  face  suit   value\n",
       "5 nine  spades 9    \n",
       "6 eight spades 8    \n",
       "7 seven spades 7    "
      ]
     },
     "metadata": {},
     "output_type": "display_data"
    },
    {
     "data": {
      "text/html": [
       "<table>\n",
       "<thead><tr><th></th><th scope=col>face</th><th scope=col>suit</th><th scope=col>value</th></tr></thead>\n",
       "<tbody>\n",
       "\t<tr><th scope=row>21</th><td>six     </td><td>clubs   </td><td> 6      </td></tr>\n",
       "\t<tr><th scope=row>29</th><td>jack    </td><td>diamonds</td><td>11      </td></tr>\n",
       "\t<tr><th scope=row>40</th><td>king    </td><td>hearts  </td><td>13      </td></tr>\n",
       "</tbody>\n",
       "</table>\n"
      ],
      "text/latex": [
       "\\begin{tabular}{r|lll}\n",
       "  & face & suit & value\\\\\n",
       "\\hline\n",
       "\t21 & six      & clubs    &  6      \\\\\n",
       "\t29 & jack     & diamonds & 11      \\\\\n",
       "\t40 & king     & hearts   & 13      \\\\\n",
       "\\end{tabular}\n"
      ],
      "text/markdown": [
       "\n",
       "| <!--/--> | face | suit | value |\n",
       "|---|---|---|---|\n",
       "| 21 | six      | clubs    |  6       |\n",
       "| 29 | jack     | diamonds | 11       |\n",
       "| 40 | king     | hearts   | 13       |\n",
       "\n"
      ],
      "text/plain": [
       "   face suit     value\n",
       "21 six  clubs     6   \n",
       "29 jack diamonds 11   \n",
       "40 king hearts   13   "
      ]
     },
     "metadata": {},
     "output_type": "display_data"
    }
   ],
   "source": [
    "head(deck, 3)\n",
    "a <- shuffle(deck)\n",
    "head(deck, 3)\n",
    "head(a, 3)"
   ]
  },
  {
   "cell_type": "markdown",
   "id": "c0059005-71dc-46fd-b030-68d5bc52f6d4",
   "metadata": {},
   "source": [
    "#### Rewriting shuffle: \n",
    "- Rewrite shuffle so that it replaces the copy of deck that lives in the global environment with a shuffled version of DECK (intact copy of deck that also lives in the global environment) The new version of shuffle should have no arguments and return no output.\n",
    "- Solution: You can update shuffle in the same way that you updated deck. The following version will do the job:"
   ]
  },
  {
   "cell_type": "code",
   "execution_count": 89,
   "id": "950b4a66-364a-438c-b38f-0ad9644100f4",
   "metadata": {},
   "outputs": [],
   "source": [
    "shuffle <- function(){\n",
    "  random <- sample(1:52, size = 52)\n",
    "  assign(\"deck\", DECK[random, ], envir = globalenv())\n",
    "}"
   ]
  },
  {
   "cell_type": "markdown",
   "id": "9540d733-e2d6-4810-8228-ff419a36290b",
   "metadata": {},
   "source": [
    "- DECK lives in the global environment, shuffle’s environment of origin, shuffle will be able to find DECK at runtime.\n",
    "- R will search for DECK first in shuffle’s runtime environment, and then in shuffle’s origin environment—the global environment—which is where DECK is stored.\n",
    "- second line of shuffle will create a reordered copy of DECK and save it as deck in the global environment.\n",
    "- This will overwrite the previous, nonshuffled version of deck."
   ]
  },
  {
   "cell_type": "markdown",
   "id": "5f65a9f9-6629-400a-b136-4662cbd24180",
   "metadata": {},
   "source": [
    "## 4.6 Closures"
   ]
  },
  {
   "cell_type": "code",
   "execution_count": 101,
   "id": "a0fd4182-6dfa-40f6-b7d2-123cc55146ca",
   "metadata": {},
   "outputs": [
    {
     "data": {
      "text/html": [
       "<table>\n",
       "<thead><tr><th></th><th scope=col>face</th><th scope=col>suit</th><th scope=col>value</th></tr></thead>\n",
       "<tbody>\n",
       "\t<tr><th scope=row>4</th><td>ten   </td><td>spades</td><td>10    </td></tr>\n",
       "</tbody>\n",
       "</table>\n"
      ],
      "text/latex": [
       "\\begin{tabular}{r|lll}\n",
       "  & face & suit & value\\\\\n",
       "\\hline\n",
       "\t4 & ten    & spades & 10    \\\\\n",
       "\\end{tabular}\n"
      ],
      "text/markdown": [
       "\n",
       "| <!--/--> | face | suit | value |\n",
       "|---|---|---|---|\n",
       "| 4 | ten    | spades | 10     |\n",
       "\n"
      ],
      "text/plain": [
       "  face suit   value\n",
       "4 ten  spades 10   "
      ]
     },
     "metadata": {},
     "output_type": "display_data"
    },
    {
     "data": {
      "text/html": [
       "<table>\n",
       "<thead><tr><th></th><th scope=col>face</th><th scope=col>suit</th><th scope=col>value</th></tr></thead>\n",
       "<tbody>\n",
       "\t<tr><th scope=row>39</th><td>ace     </td><td>diamonds</td><td>1       </td></tr>\n",
       "</tbody>\n",
       "</table>\n"
      ],
      "text/latex": [
       "\\begin{tabular}{r|lll}\n",
       "  & face & suit & value\\\\\n",
       "\\hline\n",
       "\t39 & ace      & diamonds & 1       \\\\\n",
       "\\end{tabular}\n"
      ],
      "text/markdown": [
       "\n",
       "| <!--/--> | face | suit | value |\n",
       "|---|---|---|---|\n",
       "| 39 | ace      | diamonds | 1        |\n",
       "\n"
      ],
      "text/plain": [
       "   face suit     value\n",
       "39 ace  diamonds 1    "
      ]
     },
     "metadata": {},
     "output_type": "display_data"
    }
   ],
   "source": [
    "shuffle ()              #shuffling the cards and then dealing with a hand of blackjack\n",
    "deal()\n",
    "deal()"
   ]
  },
  {
   "cell_type": "markdown",
   "id": "1ce0cd57-9f91-4d72-aaa7-56b38da3c6d4",
   "metadata": {},
   "source": [
    "- System requires deck and DECK to exist in the global environment, it is possible that deck may get modified or erased by accident.\n",
    "- It would be better to store deck in a safe, out-of-the-way place, like out-of-the-way environments that R creates to run functions in. \n",
    "\n",
    "Creating a function that takes deck as an argument and saves a copy of deck as DECK. The function could also save its own copies of deal and shuffle:"
   ]
  },
  {
   "cell_type": "code",
   "execution_count": 104,
   "id": "baae2831-6f8f-4395-aa18-a62f3be541b8",
   "metadata": {},
   "outputs": [],
   "source": [
    "setting <- function(deck) {\n",
    "  DECK <- deck\n",
    "\n",
    "  DEAL <- function() {\n",
    "    card <- deck[1, ]\n",
    "    assign(\"deck\", deck[-1, ], envir = globalenv())\n",
    "    card\n",
    "  }\n",
    "\n",
    "  SHUFFLE <- function(){\n",
    "    random <- sample(1:52, size = 52)\n",
    "    assign(\"deck\", DECK[random, ], envir = globalenv())\n",
    " }\n",
    "}"
   ]
  },
  {
   "cell_type": "markdown",
   "id": "4b44c847-3dfa-453d-8bf9-77e75b242e9e",
   "metadata": {},
   "source": [
    "- When we run \"setting\", a runtime environment is created to store these objects.\n",
    "Asking \"setting\" to return DEAL and SHUFFLE so we can use them. The best way to do this is to return the functions as a list:"
   ]
  },
  {
   "cell_type": "code",
   "execution_count": 108,
   "id": "e8add2e3-617e-4895-8aa7-f739d633c492",
   "metadata": {},
   "outputs": [],
   "source": [
    "setting <- function(deck) {\n",
    "  DECK <- deck\n",
    "\n",
    "  DEAL <- function() {\n",
    "    card <- deck[1, ]\n",
    "    assign(\"deck\", deck[-1, ], envir = globalenv())\n",
    "    card\n",
    "  }\n",
    "\n",
    "  SHUFFLE <- function(){\n",
    "    random <- sample(1:52, size = 52)\n",
    "    assign(\"deck\", DECK[random, ], envir = globalenv())\n",
    " }\n",
    "\n",
    " list(deal = DEAL, shuffle = SHUFFLE)\n",
    "}\n",
    "\n",
    "cards <- setting(deck)"
   ]
  },
  {
   "cell_type": "markdown",
   "id": "88e3f34a-f3e1-4176-8182-5d6ab1601fed",
   "metadata": {},
   "source": [
    "- Running \"setting\" stores deck and DECK in an out-of-the-way place, creating a DEAL and SHUFFLE function. Each of these objects stores an environment whose parent is the global environment."
   ]
  },
  {
   "cell_type": "code",
   "execution_count": 112,
   "id": "ca17be1d-8d14-4f4a-ba18-c2ba13e00377",
   "metadata": {},
   "outputs": [],
   "source": [
    "#saving each of the elements of the list to a dedicated object in the global environment:\n",
    "deal <- cards$deal\n",
    "shuffle <- cards$shuffle"
   ]
  },
  {
   "cell_type": "code",
   "execution_count": 116,
   "id": "b4852ab5-4d2a-4479-b2fa-fa1a9327fe90",
   "metadata": {},
   "outputs": [
    {
     "data": {
      "text/html": [
       "<pre class=language-r><code>function () \n",
       "{\n",
       "<span style=white-space:pre-wrap>    card &lt;- deck[1, ]</span>\n",
       "<span style=white-space:pre-wrap>    assign(\"deck\", deck[-1, ], envir = globalenv())</span>\n",
       "<span style=white-space:pre-wrap>    card</span>\n",
       "}</code></pre>"
      ],
      "text/latex": [
       "\\begin{minted}{r}\n",
       "function () \n",
       "\\{\n",
       "    card <- deck{[}1, {]}\n",
       "    assign(\"deck\", deck{[}-1, {]}, envir = globalenv())\n",
       "    card\n",
       "\\}\n",
       "\\end{minted}"
      ],
      "text/markdown": [
       "```r\n",
       "function () \n",
       "{\n",
       "    card <- deck[1, ]\n",
       "    assign(\"deck\", deck[-1, ], envir = globalenv())\n",
       "    card\n",
       "}\n",
       "```"
      ],
      "text/plain": [
       "function() {\n",
       "    card <- deck[1, ]\n",
       "    assign(\"deck\", deck[-1, ], envir = globalenv())\n",
       "    card\n",
       "  }\n",
       "<environment: 0x00000000291d7390>"
      ]
     },
     "metadata": {},
     "output_type": "display_data"
    },
    {
     "data": {
      "text/html": [
       "<pre class=language-r><code>function () \n",
       "{\n",
       "<span style=white-space:pre-wrap>    random &lt;- sample(1:52, size = 52)</span>\n",
       "<span style=white-space:pre-wrap>    assign(\"deck\", DECK[random, ], envir = globalenv())</span>\n",
       "}</code></pre>"
      ],
      "text/latex": [
       "\\begin{minted}{r}\n",
       "function () \n",
       "\\{\n",
       "    random <- sample(1:52, size = 52)\n",
       "    assign(\"deck\", DECK{[}random, {]}, envir = globalenv())\n",
       "\\}\n",
       "\\end{minted}"
      ],
      "text/markdown": [
       "```r\n",
       "function () \n",
       "{\n",
       "    random <- sample(1:52, size = 52)\n",
       "    assign(\"deck\", DECK[random, ], envir = globalenv())\n",
       "}\n",
       "```"
      ],
      "text/plain": [
       "function(){\n",
       "    random <- sample(1:52, size = 52)\n",
       "    assign(\"deck\", DECK[random, ], envir = globalenv())\n",
       " }\n",
       "<environment: 0x00000000291d7390>"
      ]
     },
     "metadata": {},
     "output_type": "display_data"
    }
   ],
   "source": [
    "#running deal and shuffle. Each object contains the same code as the original deal and shuffle:\n",
    "\n",
    "deal\n",
    "\n",
    "shuffle"
   ]
  },
  {
   "cell_type": "markdown",
   "id": "1b300a47-a500-4043-94d0-6aa37ae1a715",
   "metadata": {},
   "source": [
    "- functions now have one important difference: Their origin environment is no longer the global environment (although deal and shuffle are currently saved there). Their origin environment is the runtime environment that R made when we ran setting. That’s where R created DEAL and SHUFFLE, the functions copied into the new deal and shuffle, as shown in:"
   ]
  },
  {
   "cell_type": "code",
   "execution_count": 119,
   "id": "b0b6c02f-c34f-4a3f-a9b6-2c7ce1d82732",
   "metadata": {},
   "outputs": [
    {
     "data": {
      "text/plain": [
       "<environment: 0x00000000291d7390>"
      ]
     },
     "metadata": {},
     "output_type": "display_data"
    },
    {
     "data": {
      "text/plain": [
       "<environment: 0x00000000291d7390>"
      ]
     },
     "metadata": {},
     "output_type": "display_data"
    }
   ],
   "source": [
    "environment(deal)\n",
    "\n",
    "environment(shuffle)"
   ]
  },
  {
   "cell_type": "markdown",
   "id": "be312f3e-954a-40e2-9d11-a0b184727724",
   "metadata": {},
   "source": [
    "- when we run deal or shuffle, R evaluates the functions in a runtime environment that uses 0x7ff7169c3390 as its parent. DECK and deck are in this parent environment,it means that deal and shuffle are able to find them at runtime. DECK and deck will be in the functions’ search path but still out of the way in every other respect.\n",
    "- Now deal and shuffle will run in an environment that has the protected deck and DECK in its search path.\n",
    "\n",
    "- This arrangement is called a closure. setup’s runtime environment “encloses” the deal and shuffle functions. Both deal and shuffle can work closely with the objects contained in the enclosing environment, but almost nothing else can. The enclosing environment is not on the search path for any other R function or environment.\n",
    "\n",
    "- We want deal and shuffle to work exclusively with the objects in the parent (enclosing) environment of their runtime environments. Instead of having each function reference the global environment to update deck, you can have them reference their parent environment at runtime."
   ]
  },
  {
   "cell_type": "code",
   "execution_count": 123,
   "id": "adb80fe7-66ba-425f-af3f-eeb45fb53666",
   "metadata": {},
   "outputs": [],
   "source": [
    "setting <- function(deck) {\n",
    "  DECK <- deck\n",
    "\n",
    "  DEAL <- function() {\n",
    "    card <- deck[1, ]\n",
    "    assign(\"deck\", deck[-1, ], envir = parent.env(environment()))\n",
    "    card\n",
    "  }\n",
    "\n",
    "  SHUFFLE <- function(){\n",
    "    random <- sample(1:52, size = 52)\n",
    "    assign(\"deck\", DECK[random, ], envir = parent.env(environment()))\n",
    " }\n",
    "\n",
    " list(deal = DEAL, shuffle = SHUFFLE)\n",
    "}\n",
    "\n",
    "cards <- setting(deck)\n",
    "deal <- cards$deal\n",
    "shuffle <- cards$shuffle"
   ]
  },
  {
   "cell_type": "markdown",
   "id": "d71f2608-142a-4f57-b610-e293c3110e55",
   "metadata": {},
   "source": [
    "deal and shuffle goes from updating the global environment to updating their parent environment."
   ]
  },
  {
   "cell_type": "code",
   "execution_count": 138,
   "id": "301a81fb-0f1a-423e-88a0-fb7cec222d25",
   "metadata": {},
   "outputs": [
    {
     "name": "stderr",
     "output_type": "stream",
     "text": [
      "Warning message in rm(deck):\n",
      "\"object 'deck' not found\""
     ]
    },
    {
     "data": {
      "text/html": [
       "<table>\n",
       "<thead><tr><th></th><th scope=col>face</th><th scope=col>suit</th><th scope=col>value</th></tr></thead>\n",
       "<tbody>\n",
       "\t<tr><th scope=row>18</th><td>nine </td><td>clubs</td><td>9    </td></tr>\n",
       "</tbody>\n",
       "</table>\n"
      ],
      "text/latex": [
       "\\begin{tabular}{r|lll}\n",
       "  & face & suit & value\\\\\n",
       "\\hline\n",
       "\t18 & nine  & clubs & 9    \\\\\n",
       "\\end{tabular}\n"
      ],
      "text/markdown": [
       "\n",
       "| <!--/--> | face | suit | value |\n",
       "|---|---|---|---|\n",
       "| 18 | nine  | clubs | 9     |\n",
       "\n"
      ],
      "text/plain": [
       "   face suit  value\n",
       "18 nine clubs 9    "
      ]
     },
     "metadata": {},
     "output_type": "display_data"
    }
   ],
   "source": [
    "rm(deck)\n",
    "shuffle()\n",
    "deal()"
   ]
  },
  {
   "cell_type": "code",
   "execution_count": 134,
   "id": "efb20c1b-cda0-489c-bbcb-08e3b2e8e885",
   "metadata": {},
   "outputs": [
    {
     "data": {
      "text/html": [
       "<table>\n",
       "<thead><tr><th></th><th scope=col>face</th><th scope=col>suit</th><th scope=col>value</th></tr></thead>\n",
       "<tbody>\n",
       "\t<tr><th scope=row>5</th><td>nine  </td><td>spades</td><td>9     </td></tr>\n",
       "</tbody>\n",
       "</table>\n"
      ],
      "text/latex": [
       "\\begin{tabular}{r|lll}\n",
       "  & face & suit & value\\\\\n",
       "\\hline\n",
       "\t5 & nine   & spades & 9     \\\\\n",
       "\\end{tabular}\n"
      ],
      "text/markdown": [
       "\n",
       "| <!--/--> | face | suit | value |\n",
       "|---|---|---|---|\n",
       "| 5 | nine   | spades | 9      |\n",
       "\n"
      ],
      "text/plain": [
       "  face suit   value\n",
       "5 nine spades 9    "
      ]
     },
     "metadata": {},
     "output_type": "display_data"
    }
   ],
   "source": [
    "deal()"
   ]
  },
  {
   "cell_type": "markdown",
   "id": "29c958b2-8056-49df-beea-6f82e512af7c",
   "metadata": {},
   "source": [
    "## Project 2 Wrap-up\n",
    "- We have full control over the data sets and values that we can load into R. We can store data objects, retrieve and manipulate data values, predict how R stores and look up objects in computer’s memory.\n"
   ]
  },
  {
   "cell_type": "code",
   "execution_count": null,
   "id": "7f7a7373-64ba-45ca-8765-b343ecbf5ace",
   "metadata": {},
   "outputs": [],
   "source": []
  }
 ],
 "metadata": {
  "kernelspec": {
   "display_name": "R [conda env:base] *",
   "language": "R",
   "name": "conda-base-r"
  },
  "language_info": {
   "codemirror_mode": "r",
   "file_extension": ".r",
   "mimetype": "text/x-r-source",
   "name": "R",
   "pygments_lexer": "r",
   "version": "3.6.1"
  }
 },
 "nbformat": 4,
 "nbformat_minor": 5
}
