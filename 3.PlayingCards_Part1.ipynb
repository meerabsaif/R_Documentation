{
 "cells": [
  {
   "cell_type": "markdown",
   "id": "5c59c5bd-f3d4-40c2-b4ef-5e1fa238daab",
   "metadata": {},
   "source": [
    "### DAY 3 | Feb 1st, 2025\n",
    "## Project 2 : Playing Cards\n",
    "#### Design a deck of playing cards that you can shuffle and deal from"
   ]
  },
  {
   "cell_type": "markdown",
   "id": "888970e7-d9a9-450e-a4ad-9074a59d433d",
   "metadata": {},
   "source": [
    "## Part 1: R Objects\n",
    "- We will be using R to assemble a deck of 52 playing cards.\n",
    "- We can load most data sets into R with one simple step. But here we will learn how R stores data, and how to assemble or disassemble own data sets. \n",
    "### 1.1 Atomic vectors\n",
    "- It is a simple vector of data.\n",
    "- can be made by grouping values. for eg:"
   ]
  },
  {
   "cell_type": "code",
   "execution_count": null,
   "id": "8e872ba1-abbf-4054-892d-4f0051eb43f1",
   "metadata": {},
   "outputs": [],
   "source": [
    "die <- c(1,2,3,4,5,6)     #we used c here to group/combine values\n",
    "die"
   ]
  },
  {
   "cell_type": "code",
   "execution_count": null,
   "id": "6255e56d-55ae-4fe3-82ec-36feeb8dd8e7",
   "metadata": {},
   "outputs": [],
   "source": [
    "is.vector(die)           #to check if its a vector"
   ]
  },
  {
   "cell_type": "code",
   "execution_count": null,
   "id": "cf16f070-ebd8-40bb-8070-cfbf5071c035",
   "metadata": {},
   "outputs": [],
   "source": [
    "flowers <- 8             #vector of one value \n",
    "flowers\n",
    "is.vector(flowers)\n",
    "length(die)              #checking length \n",
    "length(flowers)"
   ]
  },
  {
   "cell_type": "markdown",
   "id": "ef19155f-2732-4f08-b9a9-dce15e40badb",
   "metadata": {},
   "source": [
    "- Each atomic vector stores values as a one-dimensional vector, each atomic vector can only store one type of data.\n",
    "- You can save different types of data in R by using different types of atomic vectors. types: "
   ]
  },
  {
   "cell_type": "markdown",
   "id": "df710033-e391-4031-af14-d75a578915d8",
   "metadata": {},
   "source": [
    "### 1.1.1 Doubles\n",
    "It stores regular numbers, can be positive or negative, large or small, and have digits to the right of the decimal place or not."
   ]
  },
  {
   "cell_type": "code",
   "execution_count": null,
   "id": "e52e31c2-45f4-4f37-98db-8ac3a50e83e8",
   "metadata": {},
   "outputs": [],
   "source": [
    "hi <- c(3,4,5) \n",
    "typeof(hi)      #used to check type of vector"
   ]
  },
  {
   "cell_type": "markdown",
   "id": "57c0ddec-0229-426b-8f66-bca3944d38db",
   "metadata": {},
   "source": [
    "### 5.1.2 Integers\n",
    "It stores integers, numbers that can be written without a decimal component. "
   ]
  },
  {
   "cell_type": "code",
   "execution_count": null,
   "id": "6d7fb1a1-395e-4ba3-81e9-168a4fa9e334",
   "metadata": {},
   "outputs": [],
   "source": [
    "litre <- c(-2L, -4L, 4L, 6L)      #integers can be created by typing a number followed by an uppercase L. \n",
    "litre                             #integers without L will be saved as numbers\n",
    "typeof(litre)"
   ]
  },
  {
   "cell_type": "markdown",
   "id": "69b78a0d-06b3-42e7-b87e-366cea770400",
   "metadata": {},
   "source": [
    "#### Doubles vs Integers \n",
    "- Computers handle integers more precisely doubles. Decimal numbers sometimes can't be stored exactly and need to be rounded.\n",
    "- For example, π or sqrt of 2 have endless decimal places, so computers approximate them.\n",
    "- This rounding can cause tiny errors called floating-point errors. These errors are small, but lead to unexpected results.\n",
    "- Using integers avoids these errors because they don't need rounding.\n",
    "- However, most real-world math needs decimals, so data scientists still use doubles, knowing that small errors might happen but are usually not a big problem.\n",
    "\n",
    "\n",
    "\n",
    "\n",
    "\n",
    "\n",
    "\n"
   ]
  },
  {
   "cell_type": "markdown",
   "id": "3b6b769f-5cbc-4266-8799-5145645da6ee",
   "metadata": {},
   "source": [
    "### 1.1.3 Characters\n",
    "It stores small pieces of text. You can create a character vector by typing a character or string of characters surrounded by quotes"
   ]
  },
  {
   "cell_type": "code",
   "execution_count": null,
   "id": "cc6855ff-137f-4657-b156-90be0cd721bd",
   "metadata": {},
   "outputs": [],
   "source": [
    "good <- c(\"bye\",  \"#123@\")      #string can contain numbers or symbols also\n",
    "good\n",
    "\n",
    "typeof(good)\n",
    "typeof(\"bye\")\n",
    "typeof(\"#123@\")"
   ]
  },
  {
   "cell_type": "markdown",
   "id": "8e5cf1f6-7ce4-4112-ad31-4267551d5af6",
   "metadata": {},
   "source": [
    "### 1.1.4 Logicals\n",
    "Logical vectors store TRUE and FALSE, R’s form of Boolean data. They are very helpful for doing things comparisons:"
   ]
  },
  {
   "cell_type": "code",
   "execution_count": null,
   "id": "698f9c9a-9a90-4d8c-be62-c901a12c3783",
   "metadata": {},
   "outputs": [],
   "source": [
    "2 < 6\n",
    "check <- c (TRUE, FALSE, FALSE)    #type TRUE or FALSE in capital letters (without quotation marks), R treats input as logical data.\n",
    "check\n",
    "typeof(check)\n",
    "typeof(FALSE)"
   ]
  },
  {
   "cell_type": "markdown",
   "id": "2264ee86-76b4-4266-9680-d598007138e7",
   "metadata": {},
   "source": [
    "### 1.1.5 Complex \n",
    "Rarely used, stores complex numbers. "
   ]
  },
  {
   "cell_type": "code",
   "execution_count": null,
   "id": "4075eb02-2299-4446-92a3-08215fa0f3c7",
   "metadata": {},
   "outputs": [],
   "source": [
    "com <- c(1 + 9i, 2 + 2i, 6 + 3i)       #add an imaginary term to a number with i\n",
    "com\n",
    "typeof(com)"
   ]
  },
  {
   "cell_type": "markdown",
   "id": "d0b1a226-7b23-46d7-98bd-b3064d7ce40c",
   "metadata": {},
   "source": [
    "### 1.1.6 Raw \n",
    "They store raw bytes of data. Rarely used"
   ]
  },
  {
   "cell_type": "code",
   "execution_count": null,
   "id": "76c2d568-f4e9-402a-a909-c0820b97f12d",
   "metadata": {},
   "outputs": [],
   "source": [
    "raw(2)               #Making raw vectors gets complicated, but you can make an empty raw vector of length n with raw(n)\n",
    "raw\n",
    "typeof(raw(2))"
   ]
  },
  {
   "cell_type": "markdown",
   "id": "87ea922f-972e-4a0a-b161-4aebaa918122",
   "metadata": {},
   "source": [
    "## 1.2 Attributes\n",
    "- A piece of information attached to an atomic vector.\n",
    "- Doesn't affect any of the values in the object.\n",
    "- It is a convenient place to put information associated with an object. "
   ]
  },
  {
   "cell_type": "code",
   "execution_count": null,
   "id": "a3f858e1-97b5-4fd2-be26-bf535ead8313",
   "metadata": {},
   "outputs": [],
   "source": [
    "attributes(die)    #to see which attributes an object has. \n",
    "                   #it returns NULL if an object has no attributes. An atomic vector, like die, won’t have any attributes unless we give it.             "
   ]
  },
  {
   "cell_type": "markdown",
   "id": "f32056cc-1d52-401c-a14f-d3cd72248298",
   "metadata": {},
   "source": [
    "The most common attributes to give an atomic vector are names, dimensions (dim), and classes. \n",
    "### 1.2.1 Names:"
   ]
  },
  {
   "cell_type": "code",
   "execution_count": null,
   "id": "a66452ed-39f4-4b3a-b039-9ba81496e930",
   "metadata": {},
   "outputs": [],
   "source": [
    "#Assigning name attribute to die, by assigning a character vector to the output of names. \n",
    "names(die) <- c(\"one\", \"two\", \"three\", \"four\", \"five\", \"six\")           #The vector should include one name for each element in die."
   ]
  },
  {
   "cell_type": "code",
   "execution_count": null,
   "id": "6f50c023-96c3-4831-baee-d7ae9b44fe15",
   "metadata": {},
   "outputs": [],
   "source": [
    "die         #displaying die"
   ]
  },
  {
   "cell_type": "code",
   "execution_count": null,
   "id": "6d58d9db-2d8f-4ad4-b759-443025224d68",
   "metadata": {},
   "outputs": [],
   "source": [
    "names(die)         #checking names of die\n",
    "attributes(die)    #checking which attribute has been assigned to die"
   ]
  },
  {
   "cell_type": "markdown",
   "id": "e76c3760-8001-4bc3-a49b-ea32a11ff9f3",
   "metadata": {},
   "source": [
    "- names won’t affect the actual values of the vector.\n",
    "- names aren't affected when we manipulate the values of the vector"
   ]
  },
  {
   "cell_type": "code",
   "execution_count": null,
   "id": "51a8fca8-fc20-43a1-92d7-c4eceade0342",
   "metadata": {},
   "outputs": [],
   "source": [
    "die+10"
   ]
  },
  {
   "cell_type": "code",
   "execution_count": null,
   "id": "38808c83-0437-47fc-8606-826fe2fb23f0",
   "metadata": {},
   "outputs": [],
   "source": [
    "names(die) <- c(\"ek\", \"do\", \"tin\", \"char\", \"panch\", \"chey\" )   #changing the names by assigning a new set of labels to names.\n",
    "die"
   ]
  },
  {
   "cell_type": "code",
   "execution_count": null,
   "id": "51f972ff-7434-4eb1-8286-0acc8c19ea7a",
   "metadata": {},
   "outputs": [],
   "source": [
    "names(die) <- NULL                      #To remove the names attribute, set it to NULL.\n",
    "die"
   ]
  },
  {
   "cell_type": "markdown",
   "id": "a277f1bf-ddee-4cdf-9128-e133a1184f62",
   "metadata": {},
   "source": [
    "### 1.2.2 Dimensions \n",
    "- An atomic vector can be transformed into an n-dimensional array by giving it a dimensions attribute with dim.\n",
    "- Set the dim attribute to a numeric vector of length n. R will reorganize the elements of the vector into n dimensions. \n",
    "- R will always use the first value in dim for the number of rows and the second value for the number of columns."
   ]
  },
  {
   "cell_type": "code",
   "execution_count": null,
   "id": "6fe18f6c-8613-4ff7-961a-ff72d806f6ef",
   "metadata": {},
   "outputs": [],
   "source": [
    "dim(die) <- c(2, 3)         #reorganzing die into 2x3 matrix (2 rows, 3 columns)\n",
    "die"
   ]
  },
  {
   "cell_type": "code",
   "execution_count": null,
   "id": "4f452236-73be-45e4-9774-45e1225352ca",
   "metadata": {},
   "outputs": [],
   "source": [
    "dim(die) <- c(3, 2)        #reorganizng into 3 × 2 matrix (3 rows, 2 columns):\n",
    "die"
   ]
  },
  {
   "cell_type": "code",
   "execution_count": null,
   "id": "f104e5aa-ca79-41c0-8164-697e0e8f9282",
   "metadata": {},
   "outputs": [],
   "source": [
    "dim(die) <-c(1,6)          #converting die into a horizontal array\n",
    "die"
   ]
  },
  {
   "cell_type": "markdown",
   "id": "c0be2f0a-bde4-4ca8-a9fe-cc4a9d77f64e",
   "metadata": {},
   "source": [
    "## 1.3 Matrices\n",
    "- Matrices store values in a two-dimensional array.\n",
    "- First, give matrix an atomic vector to reorganize into a matrix. Then, define how many rows should be in the matrix by setting the nrow argument to a number. Matrix organizes the vector of values into a matrix with specified number of rows."
   ]
  },
  {
   "cell_type": "code",
   "execution_count": null,
   "id": "295053c3-85ae-4f2a-bd8f-1c82648b8fde",
   "metadata": {},
   "outputs": [],
   "source": [
    "m1 <- matrix (die, nrow=2)\n",
    "m1"
   ]
  },
  {
   "cell_type": "code",
   "execution_count": null,
   "id": "f1c50841-2fc3-4b08-b741-72b71c52b7cb",
   "metadata": {},
   "outputs": [],
   "source": [
    "m2 <- matrix (die, ncol=2)      #you can set the ncol argument, which tells how many columns to include in the matrix\n",
    "m2"
   ]
  },
  {
   "cell_type": "markdown",
   "id": "3708f8a7-a310-4511-bdf5-f63b435d4235",
   "metadata": {},
   "source": [
    "Matrix fills up the matrix column by column by default, but you can fill the matrix row by row if you include the argument byrow = TRUE"
   ]
  },
  {
   "cell_type": "code",
   "execution_count": null,
   "id": "3ce5077b-87d8-444c-adba-eaa0bd3c8db5",
   "metadata": {},
   "outputs": [],
   "source": [
    "m3 <- matrix (die, nrow=2, byrow=TRUE )\n",
    "m3"
   ]
  },
  {
   "cell_type": "markdown",
   "id": "4abc4710-4ca8-4797-b9bc-ee4a2424927b",
   "metadata": {},
   "source": [
    "## 1.4 Arrays \n",
    "- Array function creates an n-dimensional array.\n",
    "- It can be used to sort values into a cube of three dimensions or a hypercube in 4, 5, or n dimensions.\n",
    "- It is not as customizable as matrix, does the same thing as setting the dim attribute.\n",
    "- To use array, provide an atomic vector as the first argument, and a vector of dimensions as the second argument, now called dim."
   ]
  },
  {
   "cell_type": "code",
   "execution_count": null,
   "id": "b1c7e2f5-655b-4169-a62a-8b7076855222",
   "metadata": {},
   "outputs": [],
   "source": [
    "arr <- array (c(11:14, 21:24, 31:34), dim=c(2,3,3))\n",
    "arr                       #jupyter notebook DOES NOT represent in the correct dimensions. "
   ]
  },
  {
   "cell_type": "markdown",
   "id": "0d52ecab-7848-4ac3-a11f-74e64054a4f5",
   "metadata": {},
   "source": [
    "### Making a Matrix"
   ]
  },
  {
   "cell_type": "code",
   "execution_count": null,
   "id": "30579460-a25a-4352-a0d9-6335db86cc6c",
   "metadata": {},
   "outputs": [],
   "source": [
    "hand1 <- c(\"ace\", \"king\", \"queen\", \"jack\", \"ten\", \"spades\", \"spades\", \n",
    "  \"spades\", \"spades\", \"spades\")                                        #make a character vector with the 10 values\n",
    "matrix(hand1, nrow=5)\n",
    "matrix(hand1, ncol=2)\n",
    "dim(hand1) <- c(5,2) "
   ]
  },
  {
   "cell_type": "code",
   "execution_count": null,
   "id": "4abc001f-a2b3-4f12-bc38-5eb112f35ddc",
   "metadata": {},
   "outputs": [],
   "source": [
    "#second method: #If character vector lists the cards in a slightly different order. \n",
    "#In this case, fill the matrix row by row instead of column by column, by using byrow=true \n",
    "\n",
    "hand2 <- c(\"ace\", \"spades\", \"king\", \"spades\", \"queen\", \"spades\", \"jack\", \n",
    "  \"spades\", \"ten\", \"spades\")             \n",
    "\n",
    "matrix(hand2, nrow = 5, byrow = TRUE)\n",
    "matrix(hand2, ncol = 2, byrow = TRUE)"
   ]
  },
  {
   "cell_type": "markdown",
   "id": "3b4f09d7-00f8-4dff-b9bb-34fc1a98caa6",
   "metadata": {},
   "source": [
    "## 1.5 Classes \n",
    "changing the dimensions of object will not change the type of the object, but it will change the object’s class attribute"
   ]
  },
  {
   "cell_type": "code",
   "execution_count": null,
   "id": "19461727-9387-4c8b-99ce-8740fc2ee972",
   "metadata": {},
   "outputs": [],
   "source": [
    "dim(die) <- c(2,3)\n",
    "typeof(die)                  #Every element in the matrix is still a double, but the elements have been arranged into a new structure\n",
    "class(die)             #R added a class attribute to die when we changed its dimensions. This class describes die’s new format"
   ]
  },
  {
   "cell_type": "code",
   "execution_count": null,
   "id": "70484d78-d450-48e4-b012-2a546d90345c",
   "metadata": {},
   "outputs": [],
   "source": [
    "attributes(die)    #object’s class attribute will not appear when we run attributes, we specifically search for it using class."
   ]
  },
  {
   "cell_type": "code",
   "execution_count": null,
   "id": "e2a7c41c-951c-4c43-beab-e5642ada7afb",
   "metadata": {},
   "outputs": [],
   "source": [
    "class(\"bye\")   #we can also apply \"class\" to objects that do not have a class attribute. class returns a value based on the object’s atomic type."
   ]
  },
  {
   "cell_type": "markdown",
   "id": "d18e8dc1-7ac4-4fb6-81ef-0da94b48145b",
   "metadata": {},
   "source": [
    "### 1.5.1 Date and time \n",
    "*class: \"POSIXct\" \"POSIXt\"*\n",
    "- The time looks like a character string when we display it, but its data type is actually \"double\", and its class is \"POSIXct\" \"POSIXt\" (2 classes)\n",
    "- POSIXct is a widely used framework for representing dates and times.\n",
    "- In the POSIXct framework, each time is represented by the number of seconds that have passed between the time and 12:00 AM January 1st 1970"
   ]
  },
  {
   "cell_type": "code",
   "execution_count": null,
   "id": "5300f8e1-d385-4fda-8bc3-69694b5ce261",
   "metadata": {},
   "outputs": [],
   "source": [
    "current <- Sys.time()               #displays the current time\n",
    "current"
   ]
  },
  {
   "cell_type": "code",
   "execution_count": null,
   "id": "b19e67b1-ed8e-42b9-8a75-477f8dbee742",
   "metadata": {},
   "outputs": [],
   "source": [
    "typeof(current)     #data type is double\n",
    "class(current)      #class is POSIXct & POSIXt"
   ]
  },
  {
   "cell_type": "code",
   "execution_count": null,
   "id": "158c9281-5ee3-4060-9a51-cd5097ced389",
   "metadata": {},
   "outputs": [],
   "source": [
    "unclass(current)       #to view the time that has passed between now and 12 am Jan 1st 1970 \n",
    "                      #the time above (current) occured (output) seconds after 12 am Jan 1st 1970 "
   ]
  },
  {
   "cell_type": "code",
   "execution_count": null,
   "id": "dd41011e-3341-40cc-965b-4a565dc93185",
   "metadata": {},
   "outputs": [],
   "source": [
    "mil <- 1000000       #checking the time 1 million seconds after 12 am, jan 1st, 1970\n",
    "mil\n",
    " \n",
    "class(mil) <- c(\"POSIXct\", \"POSIXt\")\n",
    "mil                                        #it was 12 jan\n"
   ]
  },
  {
   "cell_type": "markdown",
   "id": "8fa2ea68-b53a-482b-8427-508fd382713a",
   "metadata": {},
   "source": [
    "There are many different classes of data in R and its packages, wait to learn about a class until you encounter it. \n",
    "There is one class that should be learnt alongside the atomic data types. That class is factors."
   ]
  },
  {
   "cell_type": "markdown",
   "id": "49d1fc46-84cc-4d9a-87fd-7bb22bdefaa5",
   "metadata": {},
   "source": [
    "### 1.5.2 FACTORS \n",
    "- Used to store categorical information, like ethnicity, complexion, gender."
   ]
  },
  {
   "cell_type": "code",
   "execution_count": null,
   "id": "a03bd5b5-c1b1-460c-a7a4-b6198502fde6",
   "metadata": {},
   "outputs": [],
   "source": [
    "gender <- factor(c(\"male\", \"female\", \"female\", \"male\"))   #To make a factor, pass an atomic vector into the factor function"
   ]
  },
  {
   "cell_type": "code",
   "execution_count": null,
   "id": "94a706a4-e499-47da-989b-e574958cb70d",
   "metadata": {},
   "outputs": [],
   "source": [
    "typeof(gender)       #R recodes data in the vector as integers and stors the results in an integer vector, so output of datatype will be integer"
   ]
  },
  {
   "cell_type": "markdown",
   "id": "67b10109-c99f-4e2f-936d-b76c50a76c6d",
   "metadata": {},
   "source": [
    " - R adds, *levels* attribute to the integer, which contains a set of labels for displaying the factor values.\n",
    "- *class* attribute, which contains the class."
   ]
  },
  {
   "cell_type": "code",
   "execution_count": null,
   "id": "6f93305d-f4c3-4293-b6a9-530c175f28f1",
   "metadata": {},
   "outputs": [],
   "source": [
    "attributes(gender)"
   ]
  },
  {
   "cell_type": "code",
   "execution_count": null,
   "id": "7f7b30fe-f973-4295-a4ae-c534dd4fbdee",
   "metadata": {},
   "outputs": [],
   "source": [
    "unclass(gender)      #to see how data is stored\n",
    "#it uses the levels attribute when it displays the factor. each 1 as female, first label in the levels vector. each 2 as male, the second label."
   ]
  },
  {
   "cell_type": "code",
   "execution_count": null,
   "id": "c5b929f3-e647-40a4-a652-e39f24cb6102",
   "metadata": {},
   "outputs": [],
   "source": [
    "gender"
   ]
  },
  {
   "cell_type": "markdown",
   "id": "525c918e-8b8f-4fb1-82f2-c2a913cfcea9",
   "metadata": {},
   "source": [
    "Factors make it easy to put categorical variables into a statistical model because the variables are already coded as numbers. \n",
    "But factors can be confusing as they look like character strings but behave like integers.\n",
    "\n",
    "R will often try to convert character strings to factors when you load and create data. Do not let R make factors until you ask for them. \n",
    "\n",
    "You can convert a factor to a character string with the as.character function. R will retain the display version of the factor, not the integers stored in memory:"
   ]
  },
  {
   "cell_type": "code",
   "execution_count": null,
   "id": "4803594d-e0d0-4d30-b9b3-70c19b74dbaf",
   "metadata": {},
   "outputs": [],
   "source": [
    "as.character(gender)"
   ]
  },
  {
   "cell_type": "code",
   "execution_count": null,
   "id": "238cecba-7ed0-4e70-9313-0676e21f58e8",
   "metadata": {},
   "outputs": [],
   "source": [
    "#Make a virtual playing card by combining “ace,” “heart,” and 1 into a vector\n",
    "card <- c(\"ace\", \"hearts\", 1)\n",
    "card"
   ]
  },
  {
   "cell_type": "markdown",
   "id": "dd80a97a-7e9d-4807-96a8-643b5517dd6e",
   "metadata": {},
   "source": [
    " - Each atomic vector can only store one type of data. As a result, R coerced all of the values to character strings.\n",
    " - If you try to put multiple types of data into a vector, R will convert the elements to a single type of data."
   ]
  },
  {
   "cell_type": "markdown",
   "id": "6f8fb2ec-3109-4e81-9c2b-c3d6d90433bc",
   "metadata": {},
   "source": [
    "## 1.6 Coercion\n",
    "R follows specific rules while coercing data types: \n",
    "- If a character string is present in an atomic vector, R will convert everything else in the vector to character strings.\n",
    "- If a vector only contains logicals and numbers, R will convert the logicals to numbers, TRUE becomes 1, FALSE becomes 0. "
   ]
  },
  {
   "cell_type": "code",
   "execution_count": 261,
   "id": "ada35828-51bc-4350-8c32-42663c714710",
   "metadata": {},
   "outputs": [
    {
     "data": {
      "text/html": [
       "4"
      ],
      "text/latex": [
       "4"
      ],
      "text/markdown": [
       "4"
      ],
      "text/plain": [
       "[1] 4"
      ]
     },
     "metadata": {},
     "output_type": "display_data"
    }
   ],
   "source": [
    "#R uses the same coercion rules when we do math with logical values\n",
    "sum (c(TRUE,TRUE,FALSE,TRUE,FALSE,FALSE,TRUE))    #this becomes [sum(s(1,1,0,1,0,0,1))] "
   ]
  },
  {
   "cell_type": "code",
   "execution_count": 267,
   "id": "06ba116d-37e7-4da9-9e9a-2da56236b70e",
   "metadata": {},
   "outputs": [
    {
     "data": {
      "text/html": [
       "0.5"
      ],
      "text/latex": [
       "0.5"
      ],
      "text/markdown": [
       "0.5"
      ],
      "text/plain": [
       "[1] 0.5"
      ]
     },
     "metadata": {},
     "output_type": "display_data"
    }
   ],
   "source": [
    "mean (c(TRUE,TRUE,FALSE,FALSE))     #mean calculates the proportion of TRUE's"
   ]
  },
  {
   "cell_type": "code",
   "execution_count": 269,
   "id": "fb222432-5891-42fc-a838-5037ebc1b2ac",
   "metadata": {},
   "outputs": [
    {
     "data": {
      "text/html": [
       "<ol class=list-inline>\n",
       "\t<li>'1'</li>\n",
       "\t<li>'2'</li>\n",
       "\t<li>'3'</li>\n",
       "\t<li>'4'</li>\n",
       "\t<li>'5'</li>\n",
       "\t<li>'6'</li>\n",
       "</ol>\n"
      ],
      "text/latex": [
       "\\begin{enumerate*}\n",
       "\\item '1'\n",
       "\\item '2'\n",
       "\\item '3'\n",
       "\\item '4'\n",
       "\\item '5'\n",
       "\\item '6'\n",
       "\\end{enumerate*}\n"
      ],
      "text/markdown": [
       "1. '1'\n",
       "2. '2'\n",
       "3. '3'\n",
       "4. '4'\n",
       "5. '5'\n",
       "6. '6'\n",
       "\n",
       "\n"
      ],
      "text/plain": [
       "[1] \"1\" \"2\" \"3\" \"4\" \"5\" \"6\""
      ]
     },
     "metadata": {},
     "output_type": "display_data"
    }
   ],
   "source": [
    "as.character(1)        #using \"as\" function to convert datatypes\n",
    "as.logical(1)\n",
    "as.numeric(FALSE)"
   ]
  },
  {
   "cell_type": "markdown",
   "id": "d38ef425-4fb0-4261-b2ee-9c62afcc9688",
   "metadata": {},
   "source": [
    "In some cases, using a single type of data is a huge advantage. Vectors, matrices, and arrays make it easy to do math on large sets of numbers as each value can be manipulated in the same way. These operations tend to be fast because the objects are simple to store in memory.\n"
   ]
  },
  {
   "cell_type": "markdown",
   "id": "58b0e268-c35b-492c-ba75-94d708d2195e",
   "metadata": {},
   "source": [
    "## 1.7 Lists \n",
    "- Lists are like atomic vectors, they group data into a one-dimensional set. \n",
    "- lists do not group together individual values, they group together R objects, such as atomic vectors and other lists.\n",
    "  \n",
    "-> Making a list that contains a numeric vector of length 6 in its first element, a character vector of length 3 in its second element, and a new list of length 2 in its third element. To do this, use the list function."
   ]
  },
  {
   "cell_type": "code",
   "execution_count": 282,
   "id": "5c83722a-7e39-42c1-adfa-d0aea6032da5",
   "metadata": {},
   "outputs": [
    {
     "data": {
      "text/html": [
       "<ol>\n",
       "\t<li><ol class=list-inline>\n",
       "\t<li>5</li>\n",
       "\t<li>6</li>\n",
       "\t<li>7</li>\n",
       "\t<li>8</li>\n",
       "\t<li>9</li>\n",
       "\t<li>10</li>\n",
       "</ol>\n",
       "</li>\n",
       "\t<li>'numbers'</li>\n",
       "\t<li><ol>\n",
       "\t<li>TRUE</li>\n",
       "\t<li>FALSE</li>\n",
       "</ol>\n",
       "</li>\n",
       "</ol>\n"
      ],
      "text/latex": [
       "\\begin{enumerate}\n",
       "\\item \\begin{enumerate*}\n",
       "\\item 5\n",
       "\\item 6\n",
       "\\item 7\n",
       "\\item 8\n",
       "\\item 9\n",
       "\\item 10\n",
       "\\end{enumerate*}\n",
       "\n",
       "\\item 'numbers'\n",
       "\\item \\begin{enumerate}\n",
       "\\item TRUE\n",
       "\\item FALSE\n",
       "\\end{enumerate}\n",
       "\n",
       "\\end{enumerate}\n"
      ],
      "text/markdown": [
       "1. 1. 5\n",
       "2. 6\n",
       "3. 7\n",
       "4. 8\n",
       "5. 9\n",
       "6. 10\n",
       "\n",
       "\n",
       "\n",
       "2. 'numbers'\n",
       "3. 1. TRUE\n",
       "2. FALSE\n",
       "\n",
       "\n",
       "\n",
       "\n",
       "\n"
      ],
      "text/plain": [
       "[[1]]\n",
       "[1]  5  6  7  8  9 10\n",
       "\n",
       "[[2]]\n",
       "[1] \"numbers\"\n",
       "\n",
       "[[3]]\n",
       "[[3]][[1]]\n",
       "[1] TRUE\n",
       "\n",
       "[[3]][[2]]\n",
       "[1] FALSE\n",
       "\n"
      ]
     },
     "metadata": {},
     "output_type": "display_data"
    }
   ],
   "source": [
    "list1 <- list(5:10, \"numbers\" , list (TRUE, FALSE))\n",
    "list1"
   ]
  },
  {
   "cell_type": "markdown",
   "id": "32d78db9-1541-413c-ad74-18c8a5ad3f58",
   "metadata": {},
   "source": [
    "#### Using list to make a card"
   ]
  },
  {
   "cell_type": "code",
   "execution_count": 285,
   "id": "a8821cf7-1a8f-4ddf-85d1-ad941fe6732a",
   "metadata": {},
   "outputs": [
    {
     "data": {
      "text/html": [
       "<ol>\n",
       "\t<li>'ace'</li>\n",
       "\t<li>'heart'</li>\n",
       "\t<li>'1'</li>\n",
       "</ol>\n"
      ],
      "text/latex": [
       "\\begin{enumerate}\n",
       "\\item 'ace'\n",
       "\\item 'heart'\n",
       "\\item '1'\n",
       "\\end{enumerate}\n"
      ],
      "text/markdown": [
       "1. 'ace'\n",
       "2. 'heart'\n",
       "3. '1'\n",
       "\n",
       "\n"
      ],
      "text/plain": [
       "[[1]]\n",
       "[1] \"ace\"\n",
       "\n",
       "[[2]]\n",
       "[1] \"heart\"\n",
       "\n",
       "[[3]]\n",
       "[1] \"1\"\n"
      ]
     },
     "metadata": {},
     "output_type": "display_data"
    }
   ],
   "source": [
    "card <- list(\"ace\", \"heart\", \"1\")     #first and second element are character vectors, third is a numerical vector\n",
    "card"
   ]
  },
  {
   "cell_type": "markdown",
   "id": "911f2dd6-a902-47d4-aa8d-ec575ecc1457",
   "metadata": {},
   "source": [
    "List can be used to store a deck of playing cards by saving an indivual list of one card and saving a deck of cards as 52 sublists (one for each card)"
   ]
  },
  {
   "cell_type": "markdown",
   "id": "1905d7d4-043f-41df-acce-414a5025bb60",
   "metadata": {},
   "source": [
    "## 1.8 Data Frame\n",
    "- These are two dimensional lists, they provide an ideal way to store a deck of cards.\n",
    "- They group vectors together into a two dimensional group. Each vector becomes a column in the table. Each column contains a different type of data, but within a column every cell contains same type of data, also every column must be the same length.\n",
    "\n",
    "creating dataframe by hand requires laborous typing, it can be done as follows: "
   ]
  },
  {
   "cell_type": "code",
   "execution_count": 292,
   "id": "80802762-1243-4d41-9d2d-5cfa2c046358",
   "metadata": {},
   "outputs": [
    {
     "data": {
      "text/html": [
       "<table>\n",
       "<thead><tr><th scope=col>face</th><th scope=col>suit</th><th scope=col>value</th></tr></thead>\n",
       "<tbody>\n",
       "\t<tr><td>king </td><td>heart</td><td>13   </td></tr>\n",
       "\t<tr><td>queen</td><td>heart</td><td>12   </td></tr>\n",
       "\t<tr><td>jack </td><td>heart</td><td>11   </td></tr>\n",
       "</tbody>\n",
       "</table>\n"
      ],
      "text/latex": [
       "\\begin{tabular}{r|lll}\n",
       " face & suit & value\\\\\n",
       "\\hline\n",
       "\t king  & heart & 13   \\\\\n",
       "\t queen & heart & 12   \\\\\n",
       "\t jack  & heart & 11   \\\\\n",
       "\\end{tabular}\n"
      ],
      "text/markdown": [
       "\n",
       "| face | suit | value |\n",
       "|---|---|---|\n",
       "| king  | heart | 13    |\n",
       "| queen | heart | 12    |\n",
       "| jack  | heart | 11    |\n",
       "\n"
      ],
      "text/plain": [
       "  face  suit  value\n",
       "1 king  heart 13   \n",
       "2 queen heart 12   \n",
       "3 jack  heart 11   "
      ]
     },
     "metadata": {},
     "output_type": "display_data"
    }
   ],
   "source": [
    "df <- data.frame (face=c(\"king\", \"queen\", \"jack\"), suit=c(\"heart\", \"heart\" ,\"heart\"), value=c(13,12,11))\n",
    "df                            #we can name the arguments according to our choice, arguments name the column in dataframe.(face,suit,value)"
   ]
  },
  {
   "cell_type": "code",
   "execution_count": 298,
   "id": "310c2b20-a455-437b-ac8c-75d77da4acaf",
   "metadata": {},
   "outputs": [
    {
     "data": {
      "text/html": [
       "'list'"
      ],
      "text/latex": [
       "'list'"
      ],
      "text/markdown": [
       "'list'"
      ],
      "text/plain": [
       "[1] \"list\""
      ]
     },
     "metadata": {},
     "output_type": "display_data"
    },
    {
     "data": {
      "text/html": [
       "'data.frame'"
      ],
      "text/latex": [
       "'data.frame'"
      ],
      "text/markdown": [
       "'data.frame'"
      ],
      "text/plain": [
       "[1] \"data.frame\""
      ]
     },
     "metadata": {},
     "output_type": "display_data"
    },
    {
     "data": {
      "text/html": [
       "<dl>\n",
       "\t<dt>$names</dt>\n",
       "\t\t<dd><ol class=list-inline>\n",
       "\t<li>'face'</li>\n",
       "\t<li>'suit'</li>\n",
       "\t<li>'value'</li>\n",
       "</ol>\n",
       "</dd>\n",
       "\t<dt>$class</dt>\n",
       "\t\t<dd>'data.frame'</dd>\n",
       "\t<dt>$row.names</dt>\n",
       "\t\t<dd><ol class=list-inline>\n",
       "\t<li>1</li>\n",
       "\t<li>2</li>\n",
       "\t<li>3</li>\n",
       "</ol>\n",
       "</dd>\n",
       "</dl>\n"
      ],
      "text/latex": [
       "\\begin{description}\n",
       "\\item[\\$names] \\begin{enumerate*}\n",
       "\\item 'face'\n",
       "\\item 'suit'\n",
       "\\item 'value'\n",
       "\\end{enumerate*}\n",
       "\n",
       "\\item[\\$class] 'data.frame'\n",
       "\\item[\\$row.names] \\begin{enumerate*}\n",
       "\\item 1\n",
       "\\item 2\n",
       "\\item 3\n",
       "\\end{enumerate*}\n",
       "\n",
       "\\end{description}\n"
      ],
      "text/markdown": [
       "$names\n",
       ":   1. 'face'\n",
       "2. 'suit'\n",
       "3. 'value'\n",
       "\n",
       "\n",
       "\n",
       "$class\n",
       ":   'data.frame'\n",
       "$row.names\n",
       ":   1. 1\n",
       "2. 2\n",
       "3. 3\n",
       "\n",
       "\n",
       "\n",
       "\n",
       "\n"
      ],
      "text/plain": [
       "$names\n",
       "[1] \"face\"  \"suit\"  \"value\"\n",
       "\n",
       "$class\n",
       "[1] \"data.frame\"\n",
       "\n",
       "$row.names\n",
       "[1] 1 2 3\n"
      ]
     },
     "metadata": {},
     "output_type": "display_data"
    }
   ],
   "source": [
    "typeof(df)               #its data type is a list\n",
    "class(df)                #its class is data frame \n",
    "attributes(df)           #this will print the attributes "
   ]
  },
  {
   "cell_type": "code",
   "execution_count": 300,
   "id": "f26dd72a-529d-40e7-99fa-ddc93423c643",
   "metadata": {},
   "outputs": [
    {
     "data": {
      "text/html": [
       "<dl>\n",
       "\t<dt>$face</dt>\n",
       "\t\t<dd><ol class=list-inline>\n",
       "\t<li>king</li>\n",
       "\t<li>queen</li>\n",
       "\t<li>jack</li>\n",
       "</ol>\n",
       "\n",
       "<details>\n",
       "\t<summary style=display:list-item;cursor:pointer>\n",
       "\t\t<strong>Levels</strong>:\n",
       "\t</summary>\n",
       "\t<ol class=list-inline>\n",
       "\t\t<li>'jack'</li>\n",
       "\t\t<li>'king'</li>\n",
       "\t\t<li>'queen'</li>\n",
       "\t</ol>\n",
       "</details></dd>\n",
       "\t<dt>$suit</dt>\n",
       "\t\t<dd><ol class=list-inline>\n",
       "\t<li>heart</li>\n",
       "\t<li>heart</li>\n",
       "\t<li>heart</li>\n",
       "</ol>\n",
       "\n",
       "<details>\n",
       "\t<summary style=display:list-item;cursor:pointer>\n",
       "\t\t<strong>Levels</strong>:\n",
       "\t</summary>\n",
       "\t'heart'\n",
       "</details></dd>\n",
       "\t<dt>$value</dt>\n",
       "\t\t<dd><ol class=list-inline>\n",
       "\t<li>13</li>\n",
       "\t<li>12</li>\n",
       "\t<li>11</li>\n",
       "</ol>\n",
       "</dd>\n",
       "</dl>\n"
      ],
      "text/latex": [
       "\\begin{description}\n",
       "\\item[\\$face] \\begin{enumerate*}\n",
       "\\item king\n",
       "\\item queen\n",
       "\\item jack\n",
       "\\end{enumerate*}\n",
       "\n",
       "\\emph{Levels}: \\begin{enumerate*}\n",
       "\\item 'jack'\n",
       "\\item 'king'\n",
       "\\item 'queen'\n",
       "\\end{enumerate*}\n",
       "\n",
       "\\item[\\$suit] \\begin{enumerate*}\n",
       "\\item heart\n",
       "\\item heart\n",
       "\\item heart\n",
       "\\end{enumerate*}\n",
       "\n",
       "\\emph{Levels}: 'heart'\n",
       "\\item[\\$value] \\begin{enumerate*}\n",
       "\\item 13\n",
       "\\item 12\n",
       "\\item 11\n",
       "\\end{enumerate*}\n",
       "\n",
       "\\end{description}\n"
      ],
      "text/markdown": [
       "$face\n",
       ":   1. king\n",
       "2. queen\n",
       "3. jack\n",
       "\n",
       "\n",
       "\n",
       "**Levels**: 1. 'jack'\n",
       "2. 'king'\n",
       "3. 'queen'\n",
       "\n",
       "\n",
       "\n",
       "$suit\n",
       ":   1. heart\n",
       "2. heart\n",
       "3. heart\n",
       "\n",
       "\n",
       "\n",
       "**Levels**: 'heart'\n",
       "$value\n",
       ":   1. 13\n",
       "2. 12\n",
       "3. 11\n",
       "\n",
       "\n",
       "\n",
       "\n",
       "\n"
      ],
      "text/plain": [
       "$face\n",
       "[1] king  queen jack \n",
       "Levels: jack king queen\n",
       "\n",
       "$suit\n",
       "[1] heart heart heart\n",
       "Levels: heart\n",
       "\n",
       "$value\n",
       "[1] 13 12 11\n",
       "\n",
       "attr(,\"row.names\")\n",
       "[1] 1 2 3"
      ]
     },
     "metadata": {},
     "output_type": "display_data"
    }
   ],
   "source": [
    "unclass(df)     #to see how values are stored"
   ]
  },
  {
   "cell_type": "markdown",
   "id": "0ed52322-6b2c-4766-9ca4-7e5dac804d55",
   "metadata": {},
   "source": [
    "To create a data frame for whole deck of cards, we write 3 vectors with 52 elements. "
   ]
  },
  {
   "cell_type": "code",
   "execution_count": 305,
   "id": "f6805377-c6b6-41d5-80e5-d56fda61cc00",
   "metadata": {},
   "outputs": [],
   "source": [
    "deck <- data.frame(\n",
    "  face = c(\"king\", \"queen\", \"jack\", \"ten\", \"nine\", \"eight\", \"seven\", \"six\",\n",
    "    \"five\", \"four\", \"three\", \"two\", \"ace\", \"king\", \"queen\", \"jack\", \"ten\", \n",
    "    \"nine\", \"eight\", \"seven\", \"six\", \"five\", \"four\", \"three\", \"two\", \"ace\", \n",
    "    \"king\", \"queen\", \"jack\", \"ten\", \"nine\", \"eight\", \"seven\", \"six\", \"five\", \n",
    "    \"four\", \"three\", \"two\", \"ace\", \"king\", \"queen\", \"jack\", \"ten\", \"nine\", \n",
    "    \"eight\", \"seven\", \"six\", \"five\", \"four\", \"three\", \"two\", \"ace\"),  \n",
    "  suit = c(\"spades\", \"spades\", \"spades\", \"spades\", \"spades\", \"spades\", \n",
    "    \"spades\", \"spades\", \"spades\", \"spades\", \"spades\", \"spades\", \"spades\", \n",
    "    \"clubs\", \"clubs\", \"clubs\", \"clubs\", \"clubs\", \"clubs\", \"clubs\", \"clubs\", \n",
    "    \"clubs\", \"clubs\", \"clubs\", \"clubs\", \"clubs\", \"diamonds\", \"diamonds\", \n",
    "    \"diamonds\", \"diamonds\", \"diamonds\", \"diamonds\", \"diamonds\", \"diamonds\", \n",
    "    \"diamonds\", \"diamonds\", \"diamonds\", \"diamonds\", \"diamonds\", \"hearts\", \n",
    "    \"hearts\", \"hearts\", \"hearts\", \"hearts\", \"hearts\", \"hearts\", \"hearts\", \n",
    "    \"hearts\", \"hearts\", \"hearts\", \"hearts\", \"hearts\"), \n",
    "  value = c(13, 12, 11, 10, 9, 8, 7, 6, 5, 4, 3, 2, 1, 13, 12, 11, 10, 9, 8, \n",
    "    7, 6, 5, 4, 3, 2, 1, 13, 12, 11, 10, 9, 8, 7, 6, 5, 4, 3, 2, 1, 13, 12, 11, \n",
    "    10, 9, 8, 7, 6, 5, 4, 3, 2, 1)\n",
    ")"
   ]
  },
  {
   "cell_type": "markdown",
   "id": "bb4079ee-16be-4969-887b-0d5f2beb9b5c",
   "metadata": {},
   "source": [
    "Always avoid writing large data sets by hand, if possible. The most convenient approach is to load data. \n",
    "Here, I only typed all of it to learn. "
   ]
  },
  {
   "cell_type": "code",
   "execution_count": 311,
   "id": "bcb3410f-bb12-4e79-8eb5-74e755c9c9ca",
   "metadata": {},
   "outputs": [
    {
     "data": {
      "text/html": [
       "<table>\n",
       "<thead><tr><th scope=col>face</th><th scope=col>suit</th><th scope=col>value</th></tr></thead>\n",
       "<tbody>\n",
       "\t<tr><td>king    </td><td>spades  </td><td>13      </td></tr>\n",
       "\t<tr><td>queen   </td><td>spades  </td><td>12      </td></tr>\n",
       "\t<tr><td>jack    </td><td>spades  </td><td>11      </td></tr>\n",
       "\t<tr><td>ten     </td><td>spades  </td><td>10      </td></tr>\n",
       "\t<tr><td>nine    </td><td>spades  </td><td> 9      </td></tr>\n",
       "\t<tr><td>eight   </td><td>spades  </td><td> 8      </td></tr>\n",
       "\t<tr><td>seven   </td><td>spades  </td><td> 7      </td></tr>\n",
       "\t<tr><td>six     </td><td>spades  </td><td> 6      </td></tr>\n",
       "\t<tr><td>five    </td><td>spades  </td><td> 5      </td></tr>\n",
       "\t<tr><td>four    </td><td>spades  </td><td> 4      </td></tr>\n",
       "\t<tr><td>three   </td><td>spades  </td><td> 3      </td></tr>\n",
       "\t<tr><td>two     </td><td>spades  </td><td> 2      </td></tr>\n",
       "\t<tr><td>ace     </td><td>spades  </td><td> 1      </td></tr>\n",
       "\t<tr><td>king    </td><td>clubs   </td><td>13      </td></tr>\n",
       "\t<tr><td>queen   </td><td>clubs   </td><td>12      </td></tr>\n",
       "\t<tr><td>jack    </td><td>clubs   </td><td>11      </td></tr>\n",
       "\t<tr><td>ten     </td><td>clubs   </td><td>10      </td></tr>\n",
       "\t<tr><td>nine    </td><td>clubs   </td><td> 9      </td></tr>\n",
       "\t<tr><td>eight   </td><td>clubs   </td><td> 8      </td></tr>\n",
       "\t<tr><td>seven   </td><td>clubs   </td><td> 7      </td></tr>\n",
       "\t<tr><td>six     </td><td>clubs   </td><td> 6      </td></tr>\n",
       "\t<tr><td>five    </td><td>clubs   </td><td> 5      </td></tr>\n",
       "\t<tr><td>four    </td><td>clubs   </td><td> 4      </td></tr>\n",
       "\t<tr><td>three   </td><td>clubs   </td><td> 3      </td></tr>\n",
       "\t<tr><td>two     </td><td>clubs   </td><td> 2      </td></tr>\n",
       "\t<tr><td>ace     </td><td>clubs   </td><td> 1      </td></tr>\n",
       "\t<tr><td>king    </td><td>diamonds</td><td>13      </td></tr>\n",
       "\t<tr><td>queen   </td><td>diamonds</td><td>12      </td></tr>\n",
       "\t<tr><td>jack    </td><td>diamonds</td><td>11      </td></tr>\n",
       "\t<tr><td>ten     </td><td>diamonds</td><td>10      </td></tr>\n",
       "\t<tr><td>nine    </td><td>diamonds</td><td> 9      </td></tr>\n",
       "\t<tr><td>eight   </td><td>diamonds</td><td> 8      </td></tr>\n",
       "\t<tr><td>seven   </td><td>diamonds</td><td> 7      </td></tr>\n",
       "\t<tr><td>six     </td><td>diamonds</td><td> 6      </td></tr>\n",
       "\t<tr><td>five    </td><td>diamonds</td><td> 5      </td></tr>\n",
       "\t<tr><td>four    </td><td>diamonds</td><td> 4      </td></tr>\n",
       "\t<tr><td>three   </td><td>diamonds</td><td> 3      </td></tr>\n",
       "\t<tr><td>two     </td><td>diamonds</td><td> 2      </td></tr>\n",
       "\t<tr><td>ace     </td><td>diamonds</td><td> 1      </td></tr>\n",
       "\t<tr><td>king    </td><td>hearts  </td><td>13      </td></tr>\n",
       "\t<tr><td>queen   </td><td>hearts  </td><td>12      </td></tr>\n",
       "\t<tr><td>jack    </td><td>hearts  </td><td>11      </td></tr>\n",
       "\t<tr><td>ten     </td><td>hearts  </td><td>10      </td></tr>\n",
       "\t<tr><td>nine    </td><td>hearts  </td><td> 9      </td></tr>\n",
       "\t<tr><td>eight   </td><td>hearts  </td><td> 8      </td></tr>\n",
       "\t<tr><td>seven   </td><td>hearts  </td><td> 7      </td></tr>\n",
       "\t<tr><td>six     </td><td>hearts  </td><td> 6      </td></tr>\n",
       "\t<tr><td>five    </td><td>hearts  </td><td> 5      </td></tr>\n",
       "\t<tr><td>four    </td><td>hearts  </td><td> 4      </td></tr>\n",
       "\t<tr><td>three   </td><td>hearts  </td><td> 3      </td></tr>\n",
       "\t<tr><td>two     </td><td>hearts  </td><td> 2      </td></tr>\n",
       "\t<tr><td>ace     </td><td>hearts  </td><td> 1      </td></tr>\n",
       "</tbody>\n",
       "</table>\n"
      ],
      "text/latex": [
       "\\begin{tabular}{r|lll}\n",
       " face & suit & value\\\\\n",
       "\\hline\n",
       "\t king     & spades   & 13      \\\\\n",
       "\t queen    & spades   & 12      \\\\\n",
       "\t jack     & spades   & 11      \\\\\n",
       "\t ten      & spades   & 10      \\\\\n",
       "\t nine     & spades   &  9      \\\\\n",
       "\t eight    & spades   &  8      \\\\\n",
       "\t seven    & spades   &  7      \\\\\n",
       "\t six      & spades   &  6      \\\\\n",
       "\t five     & spades   &  5      \\\\\n",
       "\t four     & spades   &  4      \\\\\n",
       "\t three    & spades   &  3      \\\\\n",
       "\t two      & spades   &  2      \\\\\n",
       "\t ace      & spades   &  1      \\\\\n",
       "\t king     & clubs    & 13      \\\\\n",
       "\t queen    & clubs    & 12      \\\\\n",
       "\t jack     & clubs    & 11      \\\\\n",
       "\t ten      & clubs    & 10      \\\\\n",
       "\t nine     & clubs    &  9      \\\\\n",
       "\t eight    & clubs    &  8      \\\\\n",
       "\t seven    & clubs    &  7      \\\\\n",
       "\t six      & clubs    &  6      \\\\\n",
       "\t five     & clubs    &  5      \\\\\n",
       "\t four     & clubs    &  4      \\\\\n",
       "\t three    & clubs    &  3      \\\\\n",
       "\t two      & clubs    &  2      \\\\\n",
       "\t ace      & clubs    &  1      \\\\\n",
       "\t king     & diamonds & 13      \\\\\n",
       "\t queen    & diamonds & 12      \\\\\n",
       "\t jack     & diamonds & 11      \\\\\n",
       "\t ten      & diamonds & 10      \\\\\n",
       "\t nine     & diamonds &  9      \\\\\n",
       "\t eight    & diamonds &  8      \\\\\n",
       "\t seven    & diamonds &  7      \\\\\n",
       "\t six      & diamonds &  6      \\\\\n",
       "\t five     & diamonds &  5      \\\\\n",
       "\t four     & diamonds &  4      \\\\\n",
       "\t three    & diamonds &  3      \\\\\n",
       "\t two      & diamonds &  2      \\\\\n",
       "\t ace      & diamonds &  1      \\\\\n",
       "\t king     & hearts   & 13      \\\\\n",
       "\t queen    & hearts   & 12      \\\\\n",
       "\t jack     & hearts   & 11      \\\\\n",
       "\t ten      & hearts   & 10      \\\\\n",
       "\t nine     & hearts   &  9      \\\\\n",
       "\t eight    & hearts   &  8      \\\\\n",
       "\t seven    & hearts   &  7      \\\\\n",
       "\t six      & hearts   &  6      \\\\\n",
       "\t five     & hearts   &  5      \\\\\n",
       "\t four     & hearts   &  4      \\\\\n",
       "\t three    & hearts   &  3      \\\\\n",
       "\t two      & hearts   &  2      \\\\\n",
       "\t ace      & hearts   &  1      \\\\\n",
       "\\end{tabular}\n"
      ],
      "text/markdown": [
       "\n",
       "| face | suit | value |\n",
       "|---|---|---|\n",
       "| king     | spades   | 13       |\n",
       "| queen    | spades   | 12       |\n",
       "| jack     | spades   | 11       |\n",
       "| ten      | spades   | 10       |\n",
       "| nine     | spades   |  9       |\n",
       "| eight    | spades   |  8       |\n",
       "| seven    | spades   |  7       |\n",
       "| six      | spades   |  6       |\n",
       "| five     | spades   |  5       |\n",
       "| four     | spades   |  4       |\n",
       "| three    | spades   |  3       |\n",
       "| two      | spades   |  2       |\n",
       "| ace      | spades   |  1       |\n",
       "| king     | clubs    | 13       |\n",
       "| queen    | clubs    | 12       |\n",
       "| jack     | clubs    | 11       |\n",
       "| ten      | clubs    | 10       |\n",
       "| nine     | clubs    |  9       |\n",
       "| eight    | clubs    |  8       |\n",
       "| seven    | clubs    |  7       |\n",
       "| six      | clubs    |  6       |\n",
       "| five     | clubs    |  5       |\n",
       "| four     | clubs    |  4       |\n",
       "| three    | clubs    |  3       |\n",
       "| two      | clubs    |  2       |\n",
       "| ace      | clubs    |  1       |\n",
       "| king     | diamonds | 13       |\n",
       "| queen    | diamonds | 12       |\n",
       "| jack     | diamonds | 11       |\n",
       "| ten      | diamonds | 10       |\n",
       "| nine     | diamonds |  9       |\n",
       "| eight    | diamonds |  8       |\n",
       "| seven    | diamonds |  7       |\n",
       "| six      | diamonds |  6       |\n",
       "| five     | diamonds |  5       |\n",
       "| four     | diamonds |  4       |\n",
       "| three    | diamonds |  3       |\n",
       "| two      | diamonds |  2       |\n",
       "| ace      | diamonds |  1       |\n",
       "| king     | hearts   | 13       |\n",
       "| queen    | hearts   | 12       |\n",
       "| jack     | hearts   | 11       |\n",
       "| ten      | hearts   | 10       |\n",
       "| nine     | hearts   |  9       |\n",
       "| eight    | hearts   |  8       |\n",
       "| seven    | hearts   |  7       |\n",
       "| six      | hearts   |  6       |\n",
       "| five     | hearts   |  5       |\n",
       "| four     | hearts   |  4       |\n",
       "| three    | hearts   |  3       |\n",
       "| two      | hearts   |  2       |\n",
       "| ace      | hearts   |  1       |\n",
       "\n"
      ],
      "text/plain": [
       "   face  suit     value\n",
       "1  king  spades   13   \n",
       "2  queen spades   12   \n",
       "3  jack  spades   11   \n",
       "4  ten   spades   10   \n",
       "5  nine  spades    9   \n",
       "6  eight spades    8   \n",
       "7  seven spades    7   \n",
       "8  six   spades    6   \n",
       "9  five  spades    5   \n",
       "10 four  spades    4   \n",
       "11 three spades    3   \n",
       "12 two   spades    2   \n",
       "13 ace   spades    1   \n",
       "14 king  clubs    13   \n",
       "15 queen clubs    12   \n",
       "16 jack  clubs    11   \n",
       "17 ten   clubs    10   \n",
       "18 nine  clubs     9   \n",
       "19 eight clubs     8   \n",
       "20 seven clubs     7   \n",
       "21 six   clubs     6   \n",
       "22 five  clubs     5   \n",
       "23 four  clubs     4   \n",
       "24 three clubs     3   \n",
       "25 two   clubs     2   \n",
       "26 ace   clubs     1   \n",
       "27 king  diamonds 13   \n",
       "28 queen diamonds 12   \n",
       "29 jack  diamonds 11   \n",
       "30 ten   diamonds 10   \n",
       "31 nine  diamonds  9   \n",
       "32 eight diamonds  8   \n",
       "33 seven diamonds  7   \n",
       "34 six   diamonds  6   \n",
       "35 five  diamonds  5   \n",
       "36 four  diamonds  4   \n",
       "37 three diamonds  3   \n",
       "38 two   diamonds  2   \n",
       "39 ace   diamonds  1   \n",
       "40 king  hearts   13   \n",
       "41 queen hearts   12   \n",
       "42 jack  hearts   11   \n",
       "43 ten   hearts   10   \n",
       "44 nine  hearts    9   \n",
       "45 eight hearts    8   \n",
       "46 seven hearts    7   \n",
       "47 six   hearts    6   \n",
       "48 five  hearts    5   \n",
       "49 four  hearts    4   \n",
       "50 three hearts    3   \n",
       "51 two   hearts    2   \n",
       "52 ace   hearts    1   "
      ]
     },
     "metadata": {},
     "output_type": "display_data"
    }
   ],
   "source": [
    "deck                            #the complete deck of cards"
   ]
  }
 ],
 "metadata": {
  "kernelspec": {
   "display_name": "R [conda env:base] *",
   "language": "R",
   "name": "conda-base-r"
  },
  "language_info": {
   "codemirror_mode": "r",
   "file_extension": ".r",
   "mimetype": "text/x-r-source",
   "name": "R",
   "pygments_lexer": "r",
   "version": "3.6.1"
  }
 },
 "nbformat": 4,
 "nbformat_minor": 5
}
