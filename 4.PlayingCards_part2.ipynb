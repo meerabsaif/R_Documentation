{
 "cells": [
  {
   "cell_type": "markdown",
   "id": "f5c16e03-76e1-4043-b068-944a58fae76c",
   "metadata": {},
   "source": [
    "## Playing Cards: Project 2\n",
    "### DAY 3 | 1st Feb, 2025\n",
    "# Part 2 : R Notation\n",
    "### Learning how to access values once they’ve been stored. Writing; shuffle function and a deal function.\n",
    "- We have to reshuffle the deck from time to time and have to deal cards from the deck.\n",
    "- To do this we need to work with the individual values inside our data frame, a task essential to data science. "
   ]
  },
  {
   "cell_type": "code",
   "execution_count": 12,
   "id": "91c535a5-c434-46fb-85fb-32038512c7cc",
   "metadata": {},
   "outputs": [],
   "source": [
    "#learnt writing a dataset in part 1\n",
    "deck <- data.frame(\n",
    "  face = c(\"king\", \"queen\", \"jack\", \"ten\", \"nine\", \"eight\", \"seven\", \"six\",\n",
    "    \"five\", \"four\", \"three\", \"two\", \"ace\", \"king\", \"queen\", \"jack\", \"ten\", \n",
    "    \"nine\", \"eight\", \"seven\", \"six\", \"five\", \"four\", \"three\", \"two\", \"ace\", \n",
    "    \"king\", \"queen\", \"jack\", \"ten\", \"nine\", \"eight\", \"seven\", \"six\", \"five\", \n",
    "    \"four\", \"three\", \"two\", \"ace\", \"king\", \"queen\", \"jack\", \"ten\", \"nine\", \n",
    "    \"eight\", \"seven\", \"six\", \"five\", \"four\", \"three\", \"two\", \"ace\"),  \n",
    "  suit = c(\"spades\", \"spades\", \"spades\", \"spades\", \"spades\", \"spades\", \n",
    "    \"spades\", \"spades\", \"spades\", \"spades\", \"spades\", \"spades\", \"spades\", \n",
    "    \"clubs\", \"clubs\", \"clubs\", \"clubs\", \"clubs\", \"clubs\", \"clubs\", \"clubs\", \n",
    "    \"clubs\", \"clubs\", \"clubs\", \"clubs\", \"clubs\", \"diamonds\", \"diamonds\", \n",
    "    \"diamonds\", \"diamonds\", \"diamonds\", \"diamonds\", \"diamonds\", \"diamonds\", \n",
    "    \"diamonds\", \"diamonds\", \"diamonds\", \"diamonds\", \"diamonds\", \"hearts\", \n",
    "    \"hearts\", \"hearts\", \"hearts\", \"hearts\", \"hearts\", \"hearts\", \"hearts\", \n",
    "    \"hearts\", \"hearts\", \"hearts\", \"hearts\", \"hearts\"), \n",
    "  value = c(13, 12, 11, 10, 9, 8, 7, 6, 5, 4, 3, 2, 1, 13, 12, 11, 10, 9, 8, \n",
    "    7, 6, 5, 4, 3, 2, 1, 13, 12, 11, 10, 9, 8, 7, 6, 5, 4, 3, 2, 1, 13, 12, 11, \n",
    "    10, 9, 8, 7, 6, 5, 4, 3, 2, 1)\n",
    ")"
   ]
  },
  {
   "cell_type": "markdown",
   "id": "6574ed55-68d8-4506-a5c7-dd82d1ba4090",
   "metadata": {},
   "source": [
    "## 2.1 Selecting Values \n",
    "We can extract values from R objects. Syntax to extract values: \n",
    "- Write the data frame’s name followed by a pair of square brackets,for eg deck[ , ]\n",
    "- Write the two indexes separated by comma between the brackets. Indexes tell R which values to return. R will use the first index to subset the rows of the data frame and the second index to subset the columns.\n",
    "- There are 6 ways to write an index:"
   ]
  },
  {
   "cell_type": "markdown",
   "id": "73ab74f3-586b-45a4-8908-ac14f7b9e12d",
   "metadata": {},
   "source": [
    "### 2.1.1 Positive integers\n",
    "It treats +ve integers just like ij notation in linear algebra: deck [i,j] returns the value of deck that is in the ith row and the jth column"
   ]
  },
  {
   "cell_type": "code",
   "execution_count": 23,
   "id": "bf0ffcfa-cef0-43ae-b434-53b46ed6b86d",
   "metadata": {},
   "outputs": [
    {
     "data": {
      "text/html": [
       "<table>\n",
       "<thead><tr><th scope=col>face</th><th scope=col>suit</th><th scope=col>value</th></tr></thead>\n",
       "<tbody>\n",
       "\t<tr><td>king  </td><td>spades</td><td>13    </td></tr>\n",
       "\t<tr><td>queen </td><td>spades</td><td>12    </td></tr>\n",
       "\t<tr><td>jack  </td><td>spades</td><td>11    </td></tr>\n",
       "\t<tr><td>ten   </td><td>spades</td><td>10    </td></tr>\n",
       "\t<tr><td>nine  </td><td>spades</td><td> 9    </td></tr>\n",
       "</tbody>\n",
       "</table>\n"
      ],
      "text/latex": [
       "\\begin{tabular}{r|lll}\n",
       " face & suit & value\\\\\n",
       "\\hline\n",
       "\t king   & spades & 13    \\\\\n",
       "\t queen  & spades & 12    \\\\\n",
       "\t jack   & spades & 11    \\\\\n",
       "\t ten    & spades & 10    \\\\\n",
       "\t nine   & spades &  9    \\\\\n",
       "\\end{tabular}\n"
      ],
      "text/markdown": [
       "\n",
       "| face | suit | value |\n",
       "|---|---|---|\n",
       "| king   | spades | 13     |\n",
       "| queen  | spades | 12     |\n",
       "| jack   | spades | 11     |\n",
       "| ten    | spades | 10     |\n",
       "| nine   | spades |  9     |\n",
       "\n"
      ],
      "text/plain": [
       "  face  suit   value\n",
       "1 king  spades 13   \n",
       "2 queen spades 12   \n",
       "3 jack  spades 11   \n",
       "4 ten   spades 10   \n",
       "5 nine  spades  9   "
      ]
     },
     "metadata": {},
     "output_type": "display_data"
    }
   ],
   "source": [
    "head(deck,5)          "
   ]
  },
  {
   "cell_type": "code",
   "execution_count": 29,
   "id": "b8e46029-98d4-4a5e-9f6f-93a21bc9787d",
   "metadata": {},
   "outputs": [
    {
     "data": {
      "text/html": [
       "king\n",
       "<details>\n",
       "\t<summary style=display:list-item;cursor:pointer>\n",
       "\t\t<strong>Levels</strong>:\n",
       "\t</summary>\n",
       "\t<ol class=list-inline>\n",
       "\t\t<li>'ace'</li>\n",
       "\t\t<li>'eight'</li>\n",
       "\t\t<li>'five'</li>\n",
       "\t\t<li>'four'</li>\n",
       "\t\t<li>'jack'</li>\n",
       "\t\t<li>'king'</li>\n",
       "\t\t<li>'nine'</li>\n",
       "\t\t<li>'queen'</li>\n",
       "\t\t<li>'seven'</li>\n",
       "\t\t<li>'six'</li>\n",
       "\t\t<li>'ten'</li>\n",
       "\t\t<li>'three'</li>\n",
       "\t\t<li>'two'</li>\n",
       "\t</ol>\n",
       "</details>"
      ],
      "text/latex": [
       "king\n",
       "\\emph{Levels}: \\begin{enumerate*}\n",
       "\\item 'ace'\n",
       "\\item 'eight'\n",
       "\\item 'five'\n",
       "\\item 'four'\n",
       "\\item 'jack'\n",
       "\\item 'king'\n",
       "\\item 'nine'\n",
       "\\item 'queen'\n",
       "\\item 'seven'\n",
       "\\item 'six'\n",
       "\\item 'ten'\n",
       "\\item 'three'\n",
       "\\item 'two'\n",
       "\\end{enumerate*}\n"
      ],
      "text/markdown": [
       "king\n",
       "**Levels**: 1. 'ace'\n",
       "2. 'eight'\n",
       "3. 'five'\n",
       "4. 'four'\n",
       "5. 'jack'\n",
       "6. 'king'\n",
       "7. 'nine'\n",
       "8. 'queen'\n",
       "9. 'seven'\n",
       "10. 'six'\n",
       "11. 'ten'\n",
       "12. 'three'\n",
       "13. 'two'\n",
       "\n",
       "\n"
      ],
      "text/plain": [
       "[1] king\n",
       "Levels: ace eight five four jack king nine queen seven six ten three two"
      ]
     },
     "metadata": {},
     "output_type": "display_data"
    },
    {
     "data": {
      "text/html": [
       "jack\n",
       "<details>\n",
       "\t<summary style=display:list-item;cursor:pointer>\n",
       "\t\t<strong>Levels</strong>:\n",
       "\t</summary>\n",
       "\t<ol class=list-inline>\n",
       "\t\t<li>'ace'</li>\n",
       "\t\t<li>'eight'</li>\n",
       "\t\t<li>'five'</li>\n",
       "\t\t<li>'four'</li>\n",
       "\t\t<li>'jack'</li>\n",
       "\t\t<li>'king'</li>\n",
       "\t\t<li>'nine'</li>\n",
       "\t\t<li>'queen'</li>\n",
       "\t\t<li>'seven'</li>\n",
       "\t\t<li>'six'</li>\n",
       "\t\t<li>'ten'</li>\n",
       "\t\t<li>'three'</li>\n",
       "\t\t<li>'two'</li>\n",
       "\t</ol>\n",
       "</details>"
      ],
      "text/latex": [
       "jack\n",
       "\\emph{Levels}: \\begin{enumerate*}\n",
       "\\item 'ace'\n",
       "\\item 'eight'\n",
       "\\item 'five'\n",
       "\\item 'four'\n",
       "\\item 'jack'\n",
       "\\item 'king'\n",
       "\\item 'nine'\n",
       "\\item 'queen'\n",
       "\\item 'seven'\n",
       "\\item 'six'\n",
       "\\item 'ten'\n",
       "\\item 'three'\n",
       "\\item 'two'\n",
       "\\end{enumerate*}\n"
      ],
      "text/markdown": [
       "jack\n",
       "**Levels**: 1. 'ace'\n",
       "2. 'eight'\n",
       "3. 'five'\n",
       "4. 'four'\n",
       "5. 'jack'\n",
       "6. 'king'\n",
       "7. 'nine'\n",
       "8. 'queen'\n",
       "9. 'seven'\n",
       "10. 'six'\n",
       "11. 'ten'\n",
       "12. 'three'\n",
       "13. 'two'\n",
       "\n",
       "\n"
      ],
      "text/plain": [
       "[1] jack\n",
       "Levels: ace eight five four jack king nine queen seven six ten three two"
      ]
     },
     "metadata": {},
     "output_type": "display_data"
    }
   ],
   "source": [
    "deck[1,1]            \n",
    "deck[3,1]"
   ]
  },
  {
   "cell_type": "code",
   "execution_count": 31,
   "id": "5a875590-3ba9-4ba7-b49b-3657f23f0e8c",
   "metadata": {},
   "outputs": [
    {
     "data": {
      "text/html": [
       "<table>\n",
       "<thead><tr><th></th><th scope=col>face</th><th scope=col>suit</th><th scope=col>value</th></tr></thead>\n",
       "<tbody>\n",
       "\t<tr><th scope=row>2</th><td>queen </td><td>spades</td><td>12    </td></tr>\n",
       "</tbody>\n",
       "</table>\n"
      ],
      "text/latex": [
       "\\begin{tabular}{r|lll}\n",
       "  & face & suit & value\\\\\n",
       "\\hline\n",
       "\t2 & queen  & spades & 12    \\\\\n",
       "\\end{tabular}\n"
      ],
      "text/markdown": [
       "\n",
       "| <!--/--> | face | suit | value |\n",
       "|---|---|---|---|\n",
       "| 2 | queen  | spades | 12     |\n",
       "\n"
      ],
      "text/plain": [
       "  face  suit   value\n",
       "2 queen spades 12   "
      ]
     },
     "metadata": {},
     "output_type": "display_data"
    }
   ],
   "source": [
    "#extracting more than one value, use a vector of +ve integers \n",
    "deck[2, c(1,2,3)]       #representing second row of deck "
   ]
  },
  {
   "cell_type": "code",
   "execution_count": 35,
   "id": "4d13953d-88db-4743-81c8-19a62f45ad4b",
   "metadata": {},
   "outputs": [],
   "source": [
    "row3 <- deck[3, c(1,2,3)]     #assiging it to a R object"
   ]
  },
  {
   "cell_type": "markdown",
   "id": "17c7aa56-81d5-47d6-b8ac-0a075cddba1b",
   "metadata": {},
   "source": [
    "#### Indexing\n",
    "In R, it begins at 1"
   ]
  },
  {
   "cell_type": "code",
   "execution_count": 46,
   "id": "6ebe06f2-979a-4bcd-bc68-b86e57436b3e",
   "metadata": {},
   "outputs": [
    {
     "data": {
      "text/html": [
       "<table>\n",
       "<thead><tr><th scope=col>face</th></tr></thead>\n",
       "<tbody>\n",
       "\t<tr><td>king </td></tr>\n",
       "\t<tr><td>queen</td></tr>\n",
       "</tbody>\n",
       "</table>\n"
      ],
      "text/latex": [
       "\\begin{tabular}{r|l}\n",
       " face\\\\\n",
       "\\hline\n",
       "\t king \\\\\n",
       "\t queen\\\\\n",
       "\\end{tabular}\n"
      ],
      "text/markdown": [
       "\n",
       "| face |\n",
       "|---|\n",
       "| king  |\n",
       "| queen |\n",
       "\n"
      ],
      "text/plain": [
       "  face \n",
       "1 king \n",
       "2 queen"
      ]
     },
     "metadata": {},
     "output_type": "display_data"
    }
   ],
   "source": [
    "deck[1:2, 1, drop = FALSE]               #when we select one column, we get a vector(it appears as a vector in Rstudio, not in jupyter notebook). so we use drop=false if we prefer a dataframe                          "
   ]
  },
  {
   "cell_type": "markdown",
   "id": "0a8925cc-910c-43dc-bebd-137b37c4d1c4",
   "metadata": {},
   "source": [
    "### 2.1.2 Negative integers\n",
    "Negative integers do the exact opposite of positive integers when indexing.\n",
    "R will return every element except the elements in a negative index."
   ]
  },
  {
   "cell_type": "code",
   "execution_count": 66,
   "id": "e6ffa570-858b-4a0e-a2c0-656b7fab6916",
   "metadata": {},
   "outputs": [
    {
     "data": {
      "text/html": [
       "<table>\n",
       "<thead><tr><th></th><th scope=col>face</th><th scope=col>suit</th></tr></thead>\n",
       "<tbody>\n",
       "\t<tr><th scope=row>51</th><td>two   </td><td>hearts</td></tr>\n",
       "\t<tr><th scope=row>52</th><td>ace   </td><td>hearts</td></tr>\n",
       "</tbody>\n",
       "</table>\n"
      ],
      "text/latex": [
       "\\begin{tabular}{r|ll}\n",
       "  & face & suit\\\\\n",
       "\\hline\n",
       "\t51 & two    & hearts\\\\\n",
       "\t52 & ace    & hearts\\\\\n",
       "\\end{tabular}\n"
      ],
      "text/markdown": [
       "\n",
       "| <!--/--> | face | suit |\n",
       "|---|---|---|\n",
       "| 51 | two    | hearts |\n",
       "| 52 | ace    | hearts |\n",
       "\n"
      ],
      "text/plain": [
       "   face suit  \n",
       "51 two  hearts\n",
       "52 ace  hearts"
      ]
     },
     "metadata": {},
     "output_type": "display_data"
    }
   ],
   "source": [
    "deck[-(1:50), 1:2]                                #returns last two rows, excluding 1 to 50 and only 2 columns\n"
   ]
  },
  {
   "cell_type": "code",
   "execution_count": 68,
   "id": "22ee8384-0c23-4cf1-875c-7c39ff21f75b",
   "metadata": {},
   "outputs": [
    {
     "data": {
      "text/html": [
       "<table>\n",
       "<thead><tr><th scope=col>face</th><th scope=col>suit</th><th scope=col>value</th></tr></thead>\n",
       "<tbody>\n",
       "\t<tr><td>king  </td><td>spades</td><td>13    </td></tr>\n",
       "</tbody>\n",
       "</table>\n"
      ],
      "text/latex": [
       "\\begin{tabular}{r|lll}\n",
       " face & suit & value\\\\\n",
       "\\hline\n",
       "\t king   & spades & 13    \\\\\n",
       "\\end{tabular}\n"
      ],
      "text/markdown": [
       "\n",
       "| face | suit | value |\n",
       "|---|---|---|\n",
       "| king   | spades | 13     |\n",
       "\n"
      ],
      "text/plain": [
       "  face suit   value\n",
       "1 king spades 13   "
      ]
     },
     "metadata": {},
     "output_type": "display_data"
    }
   ],
   "source": [
    "deck[-(2:52), 1:3]                           #returns the first row (exclude everything else)"
   ]
  },
  {
   "cell_type": "markdown",
   "id": "c142d001-c5d0-41af-830f-74377816fd6d",
   "metadata": {},
   "source": [
    "Negative integers are a more efficient way to subset than positive integers if you want to include the majority of a data frame’s rows or columns.\n",
    "### 2.1.3 Zero \n",
    "It returns nothing from a dimension when you use zero as an index. This creates an empty object."
   ]
  },
  {
   "cell_type": "code",
   "execution_count": 81,
   "id": "50499493-9f58-4237-9962-b70ee224e8e8",
   "metadata": {},
   "outputs": [
    {
     "data": {
      "text/html": [],
      "text/latex": [],
      "text/markdown": [],
      "text/plain": [
       "<0 x 0 matrix>"
      ]
     },
     "metadata": {},
     "output_type": "display_data"
    }
   ],
   "source": [
    "deck[0,0]               #no output"
   ]
  },
  {
   "cell_type": "markdown",
   "id": "621bb1fe-2b6e-4a6c-8f3d-3a8638221ac2",
   "metadata": {},
   "source": [
    "### 2.1.4 Blank Spaces \n",
    "Every value in a dimension can be extracted. This lets subset an object on one dimension but not the others, it is useful for extracting entire rows or columns from a data frame."
   ]
  },
  {
   "cell_type": "code",
   "execution_count": 88,
   "id": "0c267001-2c22-4aa6-9bd3-f3923968629d",
   "metadata": {},
   "outputs": [
    {
     "data": {
      "text/html": [
       "<table>\n",
       "<thead><tr><th scope=col>face</th><th scope=col>suit</th><th scope=col>value</th></tr></thead>\n",
       "<tbody>\n",
       "\t<tr><td>king  </td><td>spades</td><td>13    </td></tr>\n",
       "</tbody>\n",
       "</table>\n"
      ],
      "text/latex": [
       "\\begin{tabular}{r|lll}\n",
       " face & suit & value\\\\\n",
       "\\hline\n",
       "\t king   & spades & 13    \\\\\n",
       "\\end{tabular}\n"
      ],
      "text/markdown": [
       "\n",
       "| face | suit | value |\n",
       "|---|---|---|\n",
       "| king   | spades | 13     |\n",
       "\n"
      ],
      "text/plain": [
       "  face suit   value\n",
       "1 king spades 13   "
      ]
     },
     "metadata": {},
     "output_type": "display_data"
    },
    {
     "data": {
      "text/html": [
       "<table>\n",
       "<thead><tr><th></th><th scope=col>face</th><th scope=col>suit</th><th scope=col>value</th></tr></thead>\n",
       "<tbody>\n",
       "\t<tr><th scope=row>5</th><td>nine  </td><td>spades</td><td>9     </td></tr>\n",
       "</tbody>\n",
       "</table>\n"
      ],
      "text/latex": [
       "\\begin{tabular}{r|lll}\n",
       "  & face & suit & value\\\\\n",
       "\\hline\n",
       "\t5 & nine   & spades & 9     \\\\\n",
       "\\end{tabular}\n"
      ],
      "text/markdown": [
       "\n",
       "| <!--/--> | face | suit | value |\n",
       "|---|---|---|---|\n",
       "| 5 | nine   | spades | 9      |\n",
       "\n"
      ],
      "text/plain": [
       "  face suit   value\n",
       "5 nine spades 9    "
      ]
     },
     "metadata": {},
     "output_type": "display_data"
    }
   ],
   "source": [
    "deck[1, ]           #displaying the complete row 1 and 5\n",
    "deck[5 , ]"
   ]
  },
  {
   "cell_type": "markdown",
   "id": "3be9bd19-1b52-4162-a261-fb51484b4c2c",
   "metadata": {},
   "source": [
    "### 2.1.5 Logical Values \n",
    "If you use a vector of TRUEs and FALSEs as an index:\n",
    "- Each TRUE means \"keep this row (or column)\"\n",
    "- Each FALSE means \"skip this row (or column)\""
   ]
  },
  {
   "cell_type": "code",
   "execution_count": 92,
   "id": "a7d994c8-78db-48aa-9438-01d27477c541",
   "metadata": {},
   "outputs": [
    {
     "data": {
      "text/html": [
       "<table>\n",
       "<thead><tr><th scope=col>face</th><th scope=col>suit</th></tr></thead>\n",
       "<tbody>\n",
       "\t<tr><td>king  </td><td>spades</td></tr>\n",
       "</tbody>\n",
       "</table>\n"
      ],
      "text/latex": [
       "\\begin{tabular}{r|ll}\n",
       " face & suit\\\\\n",
       "\\hline\n",
       "\t king   & spades\\\\\n",
       "\\end{tabular}\n"
      ],
      "text/markdown": [
       "\n",
       "| face | suit |\n",
       "|---|---|\n",
       "| king   | spades |\n",
       "\n"
      ],
      "text/plain": [
       "  face suit  \n",
       "1 king spades"
      ]
     },
     "metadata": {},
     "output_type": "display_data"
    }
   ],
   "source": [
    "deck[1, c(TRUE, TRUE, FALSE)]   #display row 1 with column 1 and 2 but skip column 3"
   ]
  },
  {
   "cell_type": "markdown",
   "id": "09396d81-08f5-4c13-a624-6f16943a2c0a",
   "metadata": {},
   "source": [
    "### 2.1.6 Names\n",
    "we can ask for the desired elements by name (if the object have names). This is a common way to extract the columns of a data frame, since columns almost always have names."
   ]
  },
  {
   "cell_type": "code",
   "execution_count": 99,
   "id": "f9c515f5-f2fa-4a7f-bf07-61031d0e36ce",
   "metadata": {},
   "outputs": [
    {
     "data": {
      "text/html": [
       "<table>\n",
       "<thead><tr><th></th><th scope=col>face</th><th scope=col>suit</th><th scope=col>value</th></tr></thead>\n",
       "<tbody>\n",
       "\t<tr><th scope=row>2</th><td>queen </td><td>spades</td><td>12    </td></tr>\n",
       "</tbody>\n",
       "</table>\n"
      ],
      "text/latex": [
       "\\begin{tabular}{r|lll}\n",
       "  & face & suit & value\\\\\n",
       "\\hline\n",
       "\t2 & queen  & spades & 12    \\\\\n",
       "\\end{tabular}\n"
      ],
      "text/markdown": [
       "\n",
       "| <!--/--> | face | suit | value |\n",
       "|---|---|---|---|\n",
       "| 2 | queen  | spades | 12     |\n",
       "\n"
      ],
      "text/plain": [
       "  face  suit   value\n",
       "2 queen spades 12   "
      ]
     },
     "metadata": {},
     "output_type": "display_data"
    }
   ],
   "source": [
    "deck[2 , c(\"face\",\"suit\",\"value\")]             "
   ]
  },
  {
   "cell_type": "code",
   "execution_count": 103,
   "id": "239442cf-c15d-44be-8a02-97c835beb214",
   "metadata": {},
   "outputs": [
    {
     "data": {
      "text/html": [
       "<ol class=list-inline>\n",
       "\t<li>13</li>\n",
       "\t<li>12</li>\n",
       "</ol>\n"
      ],
      "text/latex": [
       "\\begin{enumerate*}\n",
       "\\item 13\n",
       "\\item 12\n",
       "\\end{enumerate*}\n"
      ],
      "text/markdown": [
       "1. 13\n",
       "2. 12\n",
       "\n",
       "\n"
      ],
      "text/plain": [
       "[1] 13 12"
      ]
     },
     "metadata": {},
     "output_type": "display_data"
    }
   ],
   "source": [
    "deck[ -(3:52), \"value\"]          #extracting values for column 1 to 2, exluding 3 to 52. here we also used -ve integer operation"
   ]
  },
  {
   "cell_type": "markdown",
   "id": "391cd268-cbdf-4ae5-b465-78be20e713dd",
   "metadata": {},
   "source": [
    "## 2.2 Deal A Card "
   ]
  },
  {
   "cell_type": "code",
   "execution_count": 118,
   "id": "a8214f02-ef5c-4f9a-9713-65630734ddb8",
   "metadata": {},
   "outputs": [
    {
     "data": {
      "text/html": [
       "<table>\n",
       "<thead><tr><th scope=col>face</th><th scope=col>suit</th><th scope=col>value</th></tr></thead>\n",
       "<tbody>\n",
       "\t<tr><td>king  </td><td>spades</td><td>13    </td></tr>\n",
       "</tbody>\n",
       "</table>\n"
      ],
      "text/latex": [
       "\\begin{tabular}{r|lll}\n",
       " face & suit & value\\\\\n",
       "\\hline\n",
       "\t king   & spades & 13    \\\\\n",
       "\\end{tabular}\n"
      ],
      "text/markdown": [
       "\n",
       "| face | suit | value |\n",
       "|---|---|---|\n",
       "| king   | spades | 13     |\n",
       "\n"
      ],
      "text/plain": [
       "  face suit   value\n",
       "1 king spades 13   "
      ]
     },
     "metadata": {},
     "output_type": "display_data"
    }
   ],
   "source": [
    "deal <- function(deck){                #making a function that returns first row of a data frame\n",
    "    deck[1, ] }   \n",
    "deal(deck)"
   ]
  },
  {
   "cell_type": "code",
   "execution_count": 120,
   "id": "206d88c0-343b-4bcc-a931-748b7a996de3",
   "metadata": {},
   "outputs": [
    {
     "data": {
      "text/html": [
       "<table>\n",
       "<thead><tr><th scope=col>face</th><th scope=col>suit</th><th scope=col>value</th></tr></thead>\n",
       "<tbody>\n",
       "\t<tr><td>king  </td><td>spades</td><td>13    </td></tr>\n",
       "</tbody>\n",
       "</table>\n"
      ],
      "text/latex": [
       "\\begin{tabular}{r|lll}\n",
       " face & suit & value\\\\\n",
       "\\hline\n",
       "\t king   & spades & 13    \\\\\n",
       "\\end{tabular}\n"
      ],
      "text/markdown": [
       "\n",
       "| face | suit | value |\n",
       "|---|---|---|\n",
       "| king   | spades | 13     |\n",
       "\n"
      ],
      "text/plain": [
       "  face suit   value\n",
       "1 king spades 13   "
      ]
     },
     "metadata": {},
     "output_type": "display_data"
    },
    {
     "data": {
      "text/html": [
       "<table>\n",
       "<thead><tr><th scope=col>face</th><th scope=col>suit</th><th scope=col>value</th></tr></thead>\n",
       "<tbody>\n",
       "\t<tr><td>king  </td><td>spades</td><td>13    </td></tr>\n",
       "</tbody>\n",
       "</table>\n"
      ],
      "text/latex": [
       "\\begin{tabular}{r|lll}\n",
       " face & suit & value\\\\\n",
       "\\hline\n",
       "\t king   & spades & 13    \\\\\n",
       "\\end{tabular}\n"
      ],
      "text/markdown": [
       "\n",
       "| face | suit | value |\n",
       "|---|---|---|\n",
       "| king   | spades | 13     |\n",
       "\n"
      ],
      "text/plain": [
       "  face suit   value\n",
       "1 king spades 13   "
      ]
     },
     "metadata": {},
     "output_type": "display_data"
    }
   ],
   "source": [
    "#when we use deck repeatedly, it shows the same results. \n",
    "deal(deck)\n",
    "deal(deck)"
   ]
  },
  {
   "cell_type": "markdown",
   "id": "135d2def-7454-4084-8833-0d9c3c2b7ddf",
   "metadata": {},
   "source": [
    "- Deal always returns king of spades as deck doesn’t know that we’ve dealt the card away. So king of spades stays at top of deck ready to be dealt again.\n",
    "- we fix the problem by shuffling your deck after every deal. Then a new card will always be at the top.\n",
    "\n",
    "Shuffling is a temporary compromise, there will still be a probability that the king of spades appears twice in a row. But things are not that bad. Casinos use 5 or 6 decks to prevent card counting. The probabilities encountered in those situations are very close to the ones we will create here."
   ]
  },
  {
   "cell_type": "markdown",
   "id": "ad502aa5-be32-4812-b302-03779b5d3b3b",
   "metadata": {},
   "source": [
    "## 2.3 Shuffle The Deck\n",
    "To shuffle the deck, we need to randomly reorder the rows in the data frame.\n",
    "1. Start by extracting all rows. "
   ]
  },
  {
   "cell_type": "code",
   "execution_count": 132,
   "id": "c61519ef-4dce-43d8-b218-51ac03bb6d30",
   "metadata": {},
   "outputs": [
    {
     "data": {
      "text/html": [
       "<table>\n",
       "<thead><tr><th scope=col>face</th><th scope=col>suit</th><th scope=col>value</th></tr></thead>\n",
       "<tbody>\n",
       "\t<tr><td>king  </td><td>spades</td><td>13    </td></tr>\n",
       "\t<tr><td>queen </td><td>spades</td><td>12    </td></tr>\n",
       "\t<tr><td>jack  </td><td>spades</td><td>11    </td></tr>\n",
       "\t<tr><td>ten   </td><td>spades</td><td>10    </td></tr>\n",
       "\t<tr><td>nine  </td><td>spades</td><td> 9    </td></tr>\n",
       "</tbody>\n",
       "</table>\n"
      ],
      "text/latex": [
       "\\begin{tabular}{r|lll}\n",
       " face & suit & value\\\\\n",
       "\\hline\n",
       "\t king   & spades & 13    \\\\\n",
       "\t queen  & spades & 12    \\\\\n",
       "\t jack   & spades & 11    \\\\\n",
       "\t ten    & spades & 10    \\\\\n",
       "\t nine   & spades &  9    \\\\\n",
       "\\end{tabular}\n"
      ],
      "text/markdown": [
       "\n",
       "| face | suit | value |\n",
       "|---|---|---|\n",
       "| king   | spades | 13     |\n",
       "| queen  | spades | 12     |\n",
       "| jack   | spades | 11     |\n",
       "| ten    | spades | 10     |\n",
       "| nine   | spades |  9     |\n",
       "\n"
      ],
      "text/plain": [
       "  face  suit   value\n",
       "1 king  spades 13   \n",
       "2 queen spades 12   \n",
       "3 jack  spades 11   \n",
       "4 ten   spades 10   \n",
       "5 nine  spades  9   "
      ]
     },
     "metadata": {},
     "output_type": "display_data"
    }
   ],
   "source": [
    "deck2 <- deck[1:52, ]\n",
    "head(deck2, 5) "
   ]
  },
  {
   "cell_type": "markdown",
   "id": "0112ad7f-a814-408e-bb7a-405ebf67c1e6",
   "metadata": {},
   "source": [
    "2. Asking R to extract rows in a different order. "
   ]
  },
  {
   "cell_type": "code",
   "execution_count": 137,
   "id": "f6de93a7-36ff-479f-a294-02728da05b97",
   "metadata": {},
   "outputs": [
    {
     "data": {
      "text/html": [
       "<table>\n",
       "<thead><tr><th></th><th scope=col>face</th><th scope=col>suit</th><th scope=col>value</th></tr></thead>\n",
       "<tbody>\n",
       "\t<tr><th scope=row>3</th><td>jack  </td><td>spades</td><td>11    </td></tr>\n",
       "\t<tr><th scope=row>2</th><td>queen </td><td>spades</td><td>12    </td></tr>\n",
       "\t<tr><th scope=row>1</th><td>king  </td><td>spades</td><td>13    </td></tr>\n",
       "\t<tr><th scope=row>4</th><td>ten   </td><td>spades</td><td>10    </td></tr>\n",
       "\t<tr><th scope=row>5</th><td>nine  </td><td>spades</td><td> 9    </td></tr>\n",
       "\t<tr><th scope=row>6</th><td>eight </td><td>spades</td><td> 8    </td></tr>\n",
       "</tbody>\n",
       "</table>\n"
      ],
      "text/latex": [
       "\\begin{tabular}{r|lll}\n",
       "  & face & suit & value\\\\\n",
       "\\hline\n",
       "\t3 & jack   & spades & 11    \\\\\n",
       "\t2 & queen  & spades & 12    \\\\\n",
       "\t1 & king   & spades & 13    \\\\\n",
       "\t4 & ten    & spades & 10    \\\\\n",
       "\t5 & nine   & spades &  9    \\\\\n",
       "\t6 & eight  & spades &  8    \\\\\n",
       "\\end{tabular}\n"
      ],
      "text/markdown": [
       "\n",
       "| <!--/--> | face | suit | value |\n",
       "|---|---|---|---|\n",
       "| 3 | jack   | spades | 11     |\n",
       "| 2 | queen  | spades | 12     |\n",
       "| 1 | king   | spades | 13     |\n",
       "| 4 | ten    | spades | 10     |\n",
       "| 5 | nine   | spades |  9     |\n",
       "| 6 | eight  | spades |  8     |\n",
       "\n"
      ],
      "text/plain": [
       "  face  suit   value\n",
       "3 jack  spades 11   \n",
       "2 queen spades 12   \n",
       "1 king  spades 13   \n",
       "4 ten   spades 10   \n",
       "5 nine  spades  9   \n",
       "6 eight spades  8   "
      ]
     },
     "metadata": {},
     "output_type": "display_data"
    }
   ],
   "source": [
    "deck3 <- deck [c(3,2,1,4:52), ]\n",
    "head(deck3,6)"
   ]
  },
  {
   "cell_type": "markdown",
   "id": "91dbf7fb-bce6-49af-aa36-308f86b5d225",
   "metadata": {},
   "source": [
    "3. For rows to come in a random order, we sort the integers from 1 to 52 in a random order and use the result as a row index.\n",
    "   using \"sample\" fn to generate random integers"
   ]
  },
  {
   "cell_type": "code",
   "execution_count": 148,
   "id": "4e0fe8a3-2af6-42bc-a7a7-4be300c1840a",
   "metadata": {},
   "outputs": [
    {
     "data": {
      "text/html": [
       "<ol class=list-inline>\n",
       "\t<li>51</li>\n",
       "\t<li>30</li>\n",
       "\t<li>25</li>\n",
       "\t<li>47</li>\n",
       "\t<li>21</li>\n",
       "\t<li>40</li>\n",
       "\t<li>43</li>\n",
       "\t<li>2</li>\n",
       "\t<li>36</li>\n",
       "\t<li>16</li>\n",
       "</ol>\n"
      ],
      "text/latex": [
       "\\begin{enumerate*}\n",
       "\\item 51\n",
       "\\item 30\n",
       "\\item 25\n",
       "\\item 47\n",
       "\\item 21\n",
       "\\item 40\n",
       "\\item 43\n",
       "\\item 2\n",
       "\\item 36\n",
       "\\item 16\n",
       "\\end{enumerate*}\n"
      ],
      "text/markdown": [
       "1. 51\n",
       "2. 30\n",
       "3. 25\n",
       "4. 47\n",
       "5. 21\n",
       "6. 40\n",
       "7. 43\n",
       "8. 2\n",
       "9. 36\n",
       "10. 16\n",
       "\n",
       "\n"
      ],
      "text/plain": [
       " [1] 51 30 25 47 21 40 43  2 36 16"
      ]
     },
     "metadata": {},
     "output_type": "display_data"
    }
   ],
   "source": [
    "randomInt <- sample (1:52 , size=52)\n",
    "head(randomInt, 10)               #we customize our results to a specifc number due to large size of dataset."
   ]
  },
  {
   "cell_type": "code",
   "execution_count": 160,
   "id": "786006fd-8974-402c-ad33-edad0c56803b",
   "metadata": {},
   "outputs": [
    {
     "data": {
      "text/html": [
       "<table>\n",
       "<tbody>\n",
       "\t<tr><td>51 </td><td>30 </td><td>25 </td><td>47 </td><td>21 </td><td>40 </td><td>43 </td><td>2  </td><td>36 </td><td>16 </td><td>...</td><td>18 </td><td>46 </td><td>12 </td><td>24 </td><td>14 </td><td>31 </td><td>27 </td><td>28 </td><td>45 </td><td>11 </td></tr>\n",
       "</tbody>\n",
       "</table>\n"
      ],
      "text/latex": [
       "\\begin{tabular}{llllllllllllllllllllllllllllllllllllllllllllllllllll}\n",
       "\t 51  & 30  & 25  & 47  & 21  & 40  & 43  & 2   & 36  & 16  & ... & 18  & 46  & 12  & 24  & 14  & 31  & 27  & 28  & 45  & 11 \\\\\n",
       "\\end{tabular}\n"
      ],
      "text/markdown": [
       "\n",
       "| 51  | 30  | 25  | 47  | 21  | 40  | 43  | 2   | 36  | 16  | ... | 18  | 46  | 12  | 24  | 14  | 31  | 27  | 28  | 45  | 11  |\n",
       "\n"
      ],
      "text/plain": [
       "     [,1] [,2] [,3] [,4] [,5] [,6] [,7] [,8] [,9] [,10] [,11] [,12] [,13] [,14]\n",
       "[1,] 51   30   25   47   21   40   43   2    36   16    ...   18    46    12   \n",
       "     [,15] [,16] [,17] [,18] [,19] [,20] [,21]\n",
       "[1,] 24    14    31    27    28    45    11   "
      ]
     },
     "metadata": {},
     "output_type": "display_data"
    }
   ],
   "source": [
    "dim(randomInt) <- c(1,52)          #converting into a horizontal array\n",
    "randomInt"
   ]
  },
  {
   "cell_type": "code",
   "execution_count": 152,
   "id": "9b2c71d2-2afd-4107-8c2e-6c5afd635fda",
   "metadata": {},
   "outputs": [
    {
     "data": {
      "text/html": [
       "<table>\n",
       "<thead><tr><th></th><th scope=col>face</th><th scope=col>suit</th><th scope=col>value</th></tr></thead>\n",
       "<tbody>\n",
       "\t<tr><th scope=row>51</th><td>two     </td><td>hearts  </td><td> 2      </td></tr>\n",
       "\t<tr><th scope=row>30</th><td>ten     </td><td>diamonds</td><td>10      </td></tr>\n",
       "\t<tr><th scope=row>25</th><td>two     </td><td>clubs   </td><td> 2      </td></tr>\n",
       "\t<tr><th scope=row>47</th><td>six     </td><td>hearts  </td><td> 6      </td></tr>\n",
       "\t<tr><th scope=row>21</th><td>six     </td><td>clubs   </td><td> 6      </td></tr>\n",
       "\t<tr><th scope=row>40</th><td>king    </td><td>hearts  </td><td>13      </td></tr>\n",
       "</tbody>\n",
       "</table>\n"
      ],
      "text/latex": [
       "\\begin{tabular}{r|lll}\n",
       "  & face & suit & value\\\\\n",
       "\\hline\n",
       "\t51 & two      & hearts   &  2      \\\\\n",
       "\t30 & ten      & diamonds & 10      \\\\\n",
       "\t25 & two      & clubs    &  2      \\\\\n",
       "\t47 & six      & hearts   &  6      \\\\\n",
       "\t21 & six      & clubs    &  6      \\\\\n",
       "\t40 & king     & hearts   & 13      \\\\\n",
       "\\end{tabular}\n"
      ],
      "text/markdown": [
       "\n",
       "| <!--/--> | face | suit | value |\n",
       "|---|---|---|---|\n",
       "| 51 | two      | hearts   |  2       |\n",
       "| 30 | ten      | diamonds | 10       |\n",
       "| 25 | two      | clubs    |  2       |\n",
       "| 47 | six      | hearts   |  6       |\n",
       "| 21 | six      | clubs    |  6       |\n",
       "| 40 | king     | hearts   | 13       |\n",
       "\n"
      ],
      "text/plain": [
       "   face suit     value\n",
       "51 two  hearts    2   \n",
       "30 ten  diamonds 10   \n",
       "25 two  clubs     2   \n",
       "47 six  hearts    6   \n",
       "21 six  clubs     6   \n",
       "40 king hearts   13   "
      ]
     },
     "metadata": {},
     "output_type": "display_data"
    }
   ],
   "source": [
    "deck4 <- deck[randomInt, ]\n",
    "head(deck4)                          #new set is truly shuffled"
   ]
  },
  {
   "cell_type": "code",
   "execution_count": 172,
   "id": "34cb686c-26ff-429a-8cc8-9230b3baed3e",
   "metadata": {},
   "outputs": [
    {
     "data": {
      "text/html": [
       "<table>\n",
       "<thead><tr><th scope=col>face</th><th scope=col>suit</th><th scope=col>value</th></tr></thead>\n",
       "<tbody>\n",
       "\t<tr><td>king  </td><td>spades</td><td>13    </td></tr>\n",
       "</tbody>\n",
       "</table>\n"
      ],
      "text/latex": [
       "\\begin{tabular}{r|lll}\n",
       " face & suit & value\\\\\n",
       "\\hline\n",
       "\t king   & spades & 13    \\\\\n",
       "\\end{tabular}\n"
      ],
      "text/markdown": [
       "\n",
       "| face | suit | value |\n",
       "|---|---|---|\n",
       "| king   | spades | 13     |\n",
       "\n"
      ],
      "text/plain": [
       "  face suit   value\n",
       "1 king spades 13   "
      ]
     },
     "metadata": {},
     "output_type": "display_data"
    },
    {
     "data": {
      "text/html": [
       "<table>\n",
       "<thead><tr><th></th><th scope=col>face</th><th scope=col>suit</th><th scope=col>value</th></tr></thead>\n",
       "<tbody>\n",
       "\t<tr><th scope=row>38</th><td>two     </td><td>diamonds</td><td> 2      </td></tr>\n",
       "\t<tr><th scope=row>13</th><td>ace     </td><td>spades  </td><td> 1      </td></tr>\n",
       "\t<tr><th scope=row>26</th><td>ace     </td><td>clubs   </td><td> 1      </td></tr>\n",
       "\t<tr><th scope=row>1</th><td>king    </td><td>spades  </td><td>13      </td></tr>\n",
       "\t<tr><th scope=row>41</th><td>queen   </td><td>hearts  </td><td>12      </td></tr>\n",
       "\t<tr><th scope=row>27</th><td>king    </td><td>diamonds</td><td>13      </td></tr>\n",
       "\t<tr><th scope=row>10</th><td>four    </td><td>spades  </td><td> 4      </td></tr>\n",
       "\t<tr><th scope=row>47</th><td>six     </td><td>hearts  </td><td> 6      </td></tr>\n",
       "\t<tr><th scope=row>43</th><td>ten     </td><td>hearts  </td><td>10      </td></tr>\n",
       "\t<tr><th scope=row>34</th><td>six     </td><td>diamonds</td><td> 6      </td></tr>\n",
       "\t<tr><th scope=row>51</th><td>two     </td><td>hearts  </td><td> 2      </td></tr>\n",
       "\t<tr><th scope=row>5</th><td>nine    </td><td>spades  </td><td> 9      </td></tr>\n",
       "\t<tr><th scope=row>17</th><td>ten     </td><td>clubs   </td><td>10      </td></tr>\n",
       "\t<tr><th scope=row>44</th><td>nine    </td><td>hearts  </td><td> 9      </td></tr>\n",
       "\t<tr><th scope=row>36</th><td>four    </td><td>diamonds</td><td> 4      </td></tr>\n",
       "\t<tr><th scope=row>12</th><td>two     </td><td>spades  </td><td> 2      </td></tr>\n",
       "\t<tr><th scope=row>6</th><td>eight   </td><td>spades  </td><td> 8      </td></tr>\n",
       "\t<tr><th scope=row>14</th><td>king    </td><td>clubs   </td><td>13      </td></tr>\n",
       "\t<tr><th scope=row>39</th><td>ace     </td><td>diamonds</td><td> 1      </td></tr>\n",
       "\t<tr><th scope=row>29</th><td>jack    </td><td>diamonds</td><td>11      </td></tr>\n",
       "\t<tr><th scope=row>4</th><td>ten     </td><td>spades  </td><td>10      </td></tr>\n",
       "\t<tr><th scope=row>24</th><td>three   </td><td>clubs   </td><td> 3      </td></tr>\n",
       "\t<tr><th scope=row>20</th><td>seven   </td><td>clubs   </td><td> 7      </td></tr>\n",
       "\t<tr><th scope=row>25</th><td>two     </td><td>clubs   </td><td> 2      </td></tr>\n",
       "\t<tr><th scope=row>15</th><td>queen   </td><td>clubs   </td><td>12      </td></tr>\n",
       "\t<tr><th scope=row>37</th><td>three   </td><td>diamonds</td><td> 3      </td></tr>\n",
       "\t<tr><th scope=row>45</th><td>eight   </td><td>hearts  </td><td> 8      </td></tr>\n",
       "\t<tr><th scope=row>16</th><td>jack    </td><td>clubs   </td><td>11      </td></tr>\n",
       "\t<tr><th scope=row>31</th><td>nine    </td><td>diamonds</td><td> 9      </td></tr>\n",
       "\t<tr><th scope=row>32</th><td>eight   </td><td>diamonds</td><td> 8      </td></tr>\n",
       "\t<tr><th scope=row>19</th><td>eight   </td><td>clubs   </td><td> 8      </td></tr>\n",
       "\t<tr><th scope=row>30</th><td>ten     </td><td>diamonds</td><td>10      </td></tr>\n",
       "\t<tr><th scope=row>7</th><td>seven   </td><td>spades  </td><td> 7      </td></tr>\n",
       "\t<tr><th scope=row>28</th><td>queen   </td><td>diamonds</td><td>12      </td></tr>\n",
       "\t<tr><th scope=row>8</th><td>six     </td><td>spades  </td><td> 6      </td></tr>\n",
       "\t<tr><th scope=row>11</th><td>three   </td><td>spades  </td><td> 3      </td></tr>\n",
       "\t<tr><th scope=row>21</th><td>six     </td><td>clubs   </td><td> 6      </td></tr>\n",
       "\t<tr><th scope=row>35</th><td>five    </td><td>diamonds</td><td> 5      </td></tr>\n",
       "\t<tr><th scope=row>22</th><td>five    </td><td>clubs   </td><td> 5      </td></tr>\n",
       "\t<tr><th scope=row>42</th><td>jack    </td><td>hearts  </td><td>11      </td></tr>\n",
       "\t<tr><th scope=row>2</th><td>queen   </td><td>spades  </td><td>12      </td></tr>\n",
       "\t<tr><th scope=row>52</th><td>ace     </td><td>hearts  </td><td> 1      </td></tr>\n",
       "\t<tr><th scope=row>50</th><td>three   </td><td>hearts  </td><td> 3      </td></tr>\n",
       "\t<tr><th scope=row>46</th><td>seven   </td><td>hearts  </td><td> 7      </td></tr>\n",
       "\t<tr><th scope=row>33</th><td>seven   </td><td>diamonds</td><td> 7      </td></tr>\n",
       "\t<tr><th scope=row>40</th><td>king    </td><td>hearts  </td><td>13      </td></tr>\n",
       "\t<tr><th scope=row>49</th><td>four    </td><td>hearts  </td><td> 4      </td></tr>\n",
       "\t<tr><th scope=row>48</th><td>five    </td><td>hearts  </td><td> 5      </td></tr>\n",
       "\t<tr><th scope=row>23</th><td>four    </td><td>clubs   </td><td> 4      </td></tr>\n",
       "\t<tr><th scope=row>3</th><td>jack    </td><td>spades  </td><td>11      </td></tr>\n",
       "\t<tr><th scope=row>9</th><td>five    </td><td>spades  </td><td> 5      </td></tr>\n",
       "\t<tr><th scope=row>18</th><td>nine    </td><td>clubs   </td><td> 9      </td></tr>\n",
       "</tbody>\n",
       "</table>\n"
      ],
      "text/latex": [
       "\\begin{tabular}{r|lll}\n",
       "  & face & suit & value\\\\\n",
       "\\hline\n",
       "\t38 & two      & diamonds &  2      \\\\\n",
       "\t13 & ace      & spades   &  1      \\\\\n",
       "\t26 & ace      & clubs    &  1      \\\\\n",
       "\t1 & king     & spades   & 13      \\\\\n",
       "\t41 & queen    & hearts   & 12      \\\\\n",
       "\t27 & king     & diamonds & 13      \\\\\n",
       "\t10 & four     & spades   &  4      \\\\\n",
       "\t47 & six      & hearts   &  6      \\\\\n",
       "\t43 & ten      & hearts   & 10      \\\\\n",
       "\t34 & six      & diamonds &  6      \\\\\n",
       "\t51 & two      & hearts   &  2      \\\\\n",
       "\t5 & nine     & spades   &  9      \\\\\n",
       "\t17 & ten      & clubs    & 10      \\\\\n",
       "\t44 & nine     & hearts   &  9      \\\\\n",
       "\t36 & four     & diamonds &  4      \\\\\n",
       "\t12 & two      & spades   &  2      \\\\\n",
       "\t6 & eight    & spades   &  8      \\\\\n",
       "\t14 & king     & clubs    & 13      \\\\\n",
       "\t39 & ace      & diamonds &  1      \\\\\n",
       "\t29 & jack     & diamonds & 11      \\\\\n",
       "\t4 & ten      & spades   & 10      \\\\\n",
       "\t24 & three    & clubs    &  3      \\\\\n",
       "\t20 & seven    & clubs    &  7      \\\\\n",
       "\t25 & two      & clubs    &  2      \\\\\n",
       "\t15 & queen    & clubs    & 12      \\\\\n",
       "\t37 & three    & diamonds &  3      \\\\\n",
       "\t45 & eight    & hearts   &  8      \\\\\n",
       "\t16 & jack     & clubs    & 11      \\\\\n",
       "\t31 & nine     & diamonds &  9      \\\\\n",
       "\t32 & eight    & diamonds &  8      \\\\\n",
       "\t19 & eight    & clubs    &  8      \\\\\n",
       "\t30 & ten      & diamonds & 10      \\\\\n",
       "\t7 & seven    & spades   &  7      \\\\\n",
       "\t28 & queen    & diamonds & 12      \\\\\n",
       "\t8 & six      & spades   &  6      \\\\\n",
       "\t11 & three    & spades   &  3      \\\\\n",
       "\t21 & six      & clubs    &  6      \\\\\n",
       "\t35 & five     & diamonds &  5      \\\\\n",
       "\t22 & five     & clubs    &  5      \\\\\n",
       "\t42 & jack     & hearts   & 11      \\\\\n",
       "\t2 & queen    & spades   & 12      \\\\\n",
       "\t52 & ace      & hearts   &  1      \\\\\n",
       "\t50 & three    & hearts   &  3      \\\\\n",
       "\t46 & seven    & hearts   &  7      \\\\\n",
       "\t33 & seven    & diamonds &  7      \\\\\n",
       "\t40 & king     & hearts   & 13      \\\\\n",
       "\t49 & four     & hearts   &  4      \\\\\n",
       "\t48 & five     & hearts   &  5      \\\\\n",
       "\t23 & four     & clubs    &  4      \\\\\n",
       "\t3 & jack     & spades   & 11      \\\\\n",
       "\t9 & five     & spades   &  5      \\\\\n",
       "\t18 & nine     & clubs    &  9      \\\\\n",
       "\\end{tabular}\n"
      ],
      "text/markdown": [
       "\n",
       "| <!--/--> | face | suit | value |\n",
       "|---|---|---|---|\n",
       "| 38 | two      | diamonds |  2       |\n",
       "| 13 | ace      | spades   |  1       |\n",
       "| 26 | ace      | clubs    |  1       |\n",
       "| 1 | king     | spades   | 13       |\n",
       "| 41 | queen    | hearts   | 12       |\n",
       "| 27 | king     | diamonds | 13       |\n",
       "| 10 | four     | spades   |  4       |\n",
       "| 47 | six      | hearts   |  6       |\n",
       "| 43 | ten      | hearts   | 10       |\n",
       "| 34 | six      | diamonds |  6       |\n",
       "| 51 | two      | hearts   |  2       |\n",
       "| 5 | nine     | spades   |  9       |\n",
       "| 17 | ten      | clubs    | 10       |\n",
       "| 44 | nine     | hearts   |  9       |\n",
       "| 36 | four     | diamonds |  4       |\n",
       "| 12 | two      | spades   |  2       |\n",
       "| 6 | eight    | spades   |  8       |\n",
       "| 14 | king     | clubs    | 13       |\n",
       "| 39 | ace      | diamonds |  1       |\n",
       "| 29 | jack     | diamonds | 11       |\n",
       "| 4 | ten      | spades   | 10       |\n",
       "| 24 | three    | clubs    |  3       |\n",
       "| 20 | seven    | clubs    |  7       |\n",
       "| 25 | two      | clubs    |  2       |\n",
       "| 15 | queen    | clubs    | 12       |\n",
       "| 37 | three    | diamonds |  3       |\n",
       "| 45 | eight    | hearts   |  8       |\n",
       "| 16 | jack     | clubs    | 11       |\n",
       "| 31 | nine     | diamonds |  9       |\n",
       "| 32 | eight    | diamonds |  8       |\n",
       "| 19 | eight    | clubs    |  8       |\n",
       "| 30 | ten      | diamonds | 10       |\n",
       "| 7 | seven    | spades   |  7       |\n",
       "| 28 | queen    | diamonds | 12       |\n",
       "| 8 | six      | spades   |  6       |\n",
       "| 11 | three    | spades   |  3       |\n",
       "| 21 | six      | clubs    |  6       |\n",
       "| 35 | five     | diamonds |  5       |\n",
       "| 22 | five     | clubs    |  5       |\n",
       "| 42 | jack     | hearts   | 11       |\n",
       "| 2 | queen    | spades   | 12       |\n",
       "| 52 | ace      | hearts   |  1       |\n",
       "| 50 | three    | hearts   |  3       |\n",
       "| 46 | seven    | hearts   |  7       |\n",
       "| 33 | seven    | diamonds |  7       |\n",
       "| 40 | king     | hearts   | 13       |\n",
       "| 49 | four     | hearts   |  4       |\n",
       "| 48 | five     | hearts   |  5       |\n",
       "| 23 | four     | clubs    |  4       |\n",
       "| 3 | jack     | spades   | 11       |\n",
       "| 9 | five     | spades   |  5       |\n",
       "| 18 | nine     | clubs    |  9       |\n",
       "\n"
      ],
      "text/plain": [
       "   face  suit     value\n",
       "38 two   diamonds  2   \n",
       "13 ace   spades    1   \n",
       "26 ace   clubs     1   \n",
       "1  king  spades   13   \n",
       "41 queen hearts   12   \n",
       "27 king  diamonds 13   \n",
       "10 four  spades    4   \n",
       "47 six   hearts    6   \n",
       "43 ten   hearts   10   \n",
       "34 six   diamonds  6   \n",
       "51 two   hearts    2   \n",
       "5  nine  spades    9   \n",
       "17 ten   clubs    10   \n",
       "44 nine  hearts    9   \n",
       "36 four  diamonds  4   \n",
       "12 two   spades    2   \n",
       "6  eight spades    8   \n",
       "14 king  clubs    13   \n",
       "39 ace   diamonds  1   \n",
       "29 jack  diamonds 11   \n",
       "4  ten   spades   10   \n",
       "24 three clubs     3   \n",
       "20 seven clubs     7   \n",
       "25 two   clubs     2   \n",
       "15 queen clubs    12   \n",
       "37 three diamonds  3   \n",
       "45 eight hearts    8   \n",
       "16 jack  clubs    11   \n",
       "31 nine  diamonds  9   \n",
       "32 eight diamonds  8   \n",
       "19 eight clubs     8   \n",
       "30 ten   diamonds 10   \n",
       "7  seven spades    7   \n",
       "28 queen diamonds 12   \n",
       "8  six   spades    6   \n",
       "11 three spades    3   \n",
       "21 six   clubs     6   \n",
       "35 five  diamonds  5   \n",
       "22 five  clubs     5   \n",
       "42 jack  hearts   11   \n",
       "2  queen spades   12   \n",
       "52 ace   hearts    1   \n",
       "50 three hearts    3   \n",
       "46 seven hearts    7   \n",
       "33 seven diamonds  7   \n",
       "40 king  hearts   13   \n",
       "49 four  hearts    4   \n",
       "48 five  hearts    5   \n",
       "23 four  clubs     4   \n",
       "3  jack  spades   11   \n",
       "9  five  spades    5   \n",
       "18 nine  clubs     9   "
      ]
     },
     "metadata": {},
     "output_type": "display_data"
    }
   ],
   "source": [
    "shuffle <- function (cards) {\n",
    "    random <- sample(1:52, size=52)\n",
    "    cards[random, ]\n",
    "    }\n",
    "deal(deck)                 \n",
    "deckshuff <- shuffle(deck)\n",
    "deckshuff"
   ]
  },
  {
   "cell_type": "markdown",
   "id": "1c4666c0-5d4e-4621-a3d8-a8f65a2dc2d2",
   "metadata": {},
   "source": [
    "## 2.4 Dollar Signs and Double Brackets\n",
    "We can extract values from data frames and lists with the \" \" syntax.Working of \" \" explained:  \" $ \""
   ]
  },
  {
   "cell_type": "code",
   "execution_count": 191,
   "id": "ea31ee2b-0b78-46b5-af45-d56fc4e7c870",
   "metadata": {},
   "outputs": [
    {
     "data": {
      "text/html": [
       "<ol class=list-inline>\n",
       "\t<li>13</li>\n",
       "\t<li>12</li>\n",
       "\t<li>11</li>\n",
       "\t<li>10</li>\n",
       "\t<li>9</li>\n",
       "\t<li>8</li>\n",
       "\t<li>7</li>\n",
       "\t<li>6</li>\n",
       "\t<li>5</li>\n",
       "\t<li>4</li>\n",
       "\t<li>3</li>\n",
       "\t<li>2</li>\n",
       "\t<li>1</li>\n",
       "\t<li>13</li>\n",
       "\t<li>12</li>\n",
       "\t<li>11</li>\n",
       "\t<li>10</li>\n",
       "\t<li>9</li>\n",
       "\t<li>8</li>\n",
       "\t<li>7</li>\n",
       "\t<li>6</li>\n",
       "\t<li>5</li>\n",
       "\t<li>4</li>\n",
       "\t<li>3</li>\n",
       "\t<li>2</li>\n",
       "\t<li>1</li>\n",
       "\t<li>13</li>\n",
       "\t<li>12</li>\n",
       "\t<li>11</li>\n",
       "\t<li>10</li>\n",
       "\t<li>9</li>\n",
       "\t<li>8</li>\n",
       "\t<li>7</li>\n",
       "\t<li>6</li>\n",
       "\t<li>5</li>\n",
       "\t<li>4</li>\n",
       "\t<li>3</li>\n",
       "\t<li>2</li>\n",
       "\t<li>1</li>\n",
       "\t<li>13</li>\n",
       "\t<li>12</li>\n",
       "\t<li>11</li>\n",
       "\t<li>10</li>\n",
       "\t<li>9</li>\n",
       "\t<li>8</li>\n",
       "\t<li>7</li>\n",
       "\t<li>6</li>\n",
       "\t<li>5</li>\n",
       "\t<li>4</li>\n",
       "\t<li>3</li>\n",
       "\t<li>2</li>\n",
       "\t<li>1</li>\n",
       "</ol>\n"
      ],
      "text/latex": [
       "\\begin{enumerate*}\n",
       "\\item 13\n",
       "\\item 12\n",
       "\\item 11\n",
       "\\item 10\n",
       "\\item 9\n",
       "\\item 8\n",
       "\\item 7\n",
       "\\item 6\n",
       "\\item 5\n",
       "\\item 4\n",
       "\\item 3\n",
       "\\item 2\n",
       "\\item 1\n",
       "\\item 13\n",
       "\\item 12\n",
       "\\item 11\n",
       "\\item 10\n",
       "\\item 9\n",
       "\\item 8\n",
       "\\item 7\n",
       "\\item 6\n",
       "\\item 5\n",
       "\\item 4\n",
       "\\item 3\n",
       "\\item 2\n",
       "\\item 1\n",
       "\\item 13\n",
       "\\item 12\n",
       "\\item 11\n",
       "\\item 10\n",
       "\\item 9\n",
       "\\item 8\n",
       "\\item 7\n",
       "\\item 6\n",
       "\\item 5\n",
       "\\item 4\n",
       "\\item 3\n",
       "\\item 2\n",
       "\\item 1\n",
       "\\item 13\n",
       "\\item 12\n",
       "\\item 11\n",
       "\\item 10\n",
       "\\item 9\n",
       "\\item 8\n",
       "\\item 7\n",
       "\\item 6\n",
       "\\item 5\n",
       "\\item 4\n",
       "\\item 3\n",
       "\\item 2\n",
       "\\item 1\n",
       "\\end{enumerate*}\n"
      ],
      "text/markdown": [
       "1. 13\n",
       "2. 12\n",
       "3. 11\n",
       "4. 10\n",
       "5. 9\n",
       "6. 8\n",
       "7. 7\n",
       "8. 6\n",
       "9. 5\n",
       "10. 4\n",
       "11. 3\n",
       "12. 2\n",
       "13. 1\n",
       "14. 13\n",
       "15. 12\n",
       "16. 11\n",
       "17. 10\n",
       "18. 9\n",
       "19. 8\n",
       "20. 7\n",
       "21. 6\n",
       "22. 5\n",
       "23. 4\n",
       "24. 3\n",
       "25. 2\n",
       "26. 1\n",
       "27. 13\n",
       "28. 12\n",
       "29. 11\n",
       "30. 10\n",
       "31. 9\n",
       "32. 8\n",
       "33. 7\n",
       "34. 6\n",
       "35. 5\n",
       "36. 4\n",
       "37. 3\n",
       "38. 2\n",
       "39. 1\n",
       "40. 13\n",
       "41. 12\n",
       "42. 11\n",
       "43. 10\n",
       "44. 9\n",
       "45. 8\n",
       "46. 7\n",
       "47. 6\n",
       "48. 5\n",
       "49. 4\n",
       "50. 3\n",
       "51. 2\n",
       "52. 1\n",
       "\n",
       "\n"
      ],
      "text/plain": [
       " [1] 13 12 11 10  9  8  7  6  5  4  3  2  1 13 12 11 10  9  8  7  6  5  4  3  2\n",
       "[26]  1 13 12 11 10  9  8  7  6  5  4  3  2  1 13 12 11 10  9  8  7  6  5  4  3\n",
       "[51]  2  1"
      ]
     },
     "metadata": {},
     "output_type": "display_data"
    }
   ],
   "source": [
    "deck$value       #To select a column from a data frame, write the data frame’s name and the column name separated by a $\n",
    "                 #R will return all of the values in the column as a vector"
   ]
  },
  {
   "cell_type": "code",
   "execution_count": 189,
   "id": "a16e5c63-5d1f-44a8-83c6-25a341fc8b00",
   "metadata": {},
   "outputs": [
    {
     "data": {
      "text/html": [
       "7"
      ],
      "text/latex": [
       "7"
      ],
      "text/markdown": [
       "7"
      ],
      "text/plain": [
       "[1] 7"
      ]
     },
     "metadata": {},
     "output_type": "display_data"
    },
    {
     "data": {
      "text/html": [
       "7"
      ],
      "text/latex": [
       "7"
      ],
      "text/markdown": [
       "7"
      ],
      "text/plain": [
       "[1] 7"
      ]
     },
     "metadata": {},
     "output_type": "display_data"
    }
   ],
   "source": [
    "mean(deck$value)            #we can run a function like mean or median on the values in a variable\n",
    "median(deck$value)"
   ]
  },
  {
   "cell_type": "code",
   "execution_count": 195,
   "id": "46eb12a7-beae-4314-9695-103f41c2e01a",
   "metadata": {},
   "outputs": [
    {
     "data": {
      "text/html": [
       "<dl>\n",
       "\t<dt>$numbers</dt>\n",
       "\t\t<dd><ol class=list-inline>\n",
       "\t<li>1</li>\n",
       "\t<li>2</li>\n",
       "</ol>\n",
       "</dd>\n",
       "\t<dt>$logical</dt>\n",
       "\t\t<dd>TRUE</dd>\n",
       "\t<dt>$strings</dt>\n",
       "\t\t<dd><ol class=list-inline>\n",
       "\t<li>'a'</li>\n",
       "\t<li>'b'</li>\n",
       "\t<li>'c'</li>\n",
       "</ol>\n",
       "</dd>\n",
       "</dl>\n"
      ],
      "text/latex": [
       "\\begin{description}\n",
       "\\item[\\$numbers] \\begin{enumerate*}\n",
       "\\item 1\n",
       "\\item 2\n",
       "\\end{enumerate*}\n",
       "\n",
       "\\item[\\$logical] TRUE\n",
       "\\item[\\$strings] \\begin{enumerate*}\n",
       "\\item 'a'\n",
       "\\item 'b'\n",
       "\\item 'c'\n",
       "\\end{enumerate*}\n",
       "\n",
       "\\end{description}\n"
      ],
      "text/markdown": [
       "$numbers\n",
       ":   1. 1\n",
       "2. 2\n",
       "\n",
       "\n",
       "\n",
       "$logical\n",
       ":   TRUE\n",
       "$strings\n",
       ":   1. 'a'\n",
       "2. 'b'\n",
       "3. 'c'\n",
       "\n",
       "\n",
       "\n",
       "\n",
       "\n"
      ],
      "text/plain": [
       "$numbers\n",
       "[1] 1 2\n",
       "\n",
       "$logical\n",
       "[1] TRUE\n",
       "\n",
       "$strings\n",
       "[1] \"a\" \"b\" \"c\"\n"
      ]
     },
     "metadata": {},
     "output_type": "display_data"
    }
   ],
   "source": [
    "#use the same $ notation with elements of a list, if they have names. \n",
    "#If you subset a list in the usual way, R will return a new list that has the elements you requested. This is true even if you only request a single element.\n",
    "\n",
    "lst <- list(numbers = c(1, 2), logical = TRUE, strings = c(\"a\", \"b\", \"c\"))\n",
    "lst\n"
   ]
  },
  {
   "cell_type": "code",
   "execution_count": 197,
   "id": "1a575ab9-13db-4f1d-817b-c5cd5afea4a7",
   "metadata": {},
   "outputs": [
    {
     "data": {
      "text/html": [
       "<strong>$numbers</strong> = <ol class=list-inline>\n",
       "\t<li>1</li>\n",
       "\t<li>2</li>\n",
       "</ol>\n"
      ],
      "text/latex": [
       "\\textbf{\\$numbers} = \\begin{enumerate*}\n",
       "\\item 1\n",
       "\\item 2\n",
       "\\end{enumerate*}\n"
      ],
      "text/markdown": [
       "**$numbers** = 1. 1\n",
       "2. 2\n",
       "\n",
       "\n"
      ],
      "text/plain": [
       "$numbers\n",
       "[1] 1 2\n"
      ]
     },
     "metadata": {},
     "output_type": "display_data"
    }
   ],
   "source": [
    "lst[1]      #then subset it"
   ]
  },
  {
   "cell_type": "code",
   "execution_count": 199,
   "id": "a86844bc-d22d-492f-a730-9cf09cd9c4c1",
   "metadata": {},
   "outputs": [
    {
     "data": {
      "text/html": [
       "<ol class=list-inline>\n",
       "\t<li>1</li>\n",
       "\t<li>2</li>\n",
       "</ol>\n"
      ],
      "text/latex": [
       "\\begin{enumerate*}\n",
       "\\item 1\n",
       "\\item 2\n",
       "\\end{enumerate*}\n"
      ],
      "text/markdown": [
       "1. 1\n",
       "2. 2\n",
       "\n",
       "\n"
      ],
      "text/plain": [
       "[1] 1 2"
      ]
     },
     "metadata": {},
     "output_type": "display_data"
    }
   ],
   "source": [
    "#When you use the $ notation, R will return the selected values as they are, with no list structure around them.\n",
    "lst$numbers"
   ]
  },
  {
   "cell_type": "code",
   "execution_count": 201,
   "id": "a07af466-524a-41dd-8785-b2d9938d3348",
   "metadata": {},
   "outputs": [
    {
     "data": {
      "text/html": [
       "3"
      ],
      "text/latex": [
       "3"
      ],
      "text/markdown": [
       "3"
      ],
      "text/plain": [
       "[1] 3"
      ]
     },
     "metadata": {},
     "output_type": "display_data"
    }
   ],
   "source": [
    "sum(lst$numbers)       #we can immediately feed the results to a function"
   ]
  },
  {
   "cell_type": "code",
   "execution_count": 203,
   "id": "b9a04ed1-2faa-44b5-998e-d78afa2f756a",
   "metadata": {},
   "outputs": [
    {
     "data": {
      "text/html": [
       "<ol class=list-inline>\n",
       "\t<li>1</li>\n",
       "\t<li>2</li>\n",
       "</ol>\n"
      ],
      "text/latex": [
       "\\begin{enumerate*}\n",
       "\\item 1\n",
       "\\item 2\n",
       "\\end{enumerate*}\n"
      ],
      "text/markdown": [
       "1. 1\n",
       "2. 2\n",
       "\n",
       "\n"
      ],
      "text/plain": [
       "[1] 1 2"
      ]
     },
     "metadata": {},
     "output_type": "display_data"
    }
   ],
   "source": [
    "#If elements in list don't have names, you can use two brackets instead of one, to subset the list. This notation will do the same thing as the $ notation.\n",
    "lst[[1]]"
   ]
  },
  {
   "cell_type": "code",
   "execution_count": 205,
   "id": "bf39030a-1a05-44cd-96d5-38b3ff368593",
   "metadata": {},
   "outputs": [
    {
     "data": {
      "text/html": [
       "<strong>$numbers</strong> = <ol class=list-inline>\n",
       "\t<li>1</li>\n",
       "\t<li>2</li>\n",
       "</ol>\n"
      ],
      "text/latex": [
       "\\textbf{\\$numbers} = \\begin{enumerate*}\n",
       "\\item 1\n",
       "\\item 2\n",
       "\\end{enumerate*}\n"
      ],
      "text/markdown": [
       "**$numbers** = 1. 1\n",
       "2. 2\n",
       "\n",
       "\n"
      ],
      "text/plain": [
       "$numbers\n",
       "[1] 1 2\n"
      ]
     },
     "metadata": {},
     "output_type": "display_data"
    },
    {
     "data": {
      "text/html": [
       "<ol class=list-inline>\n",
       "\t<li>1</li>\n",
       "\t<li>2</li>\n",
       "</ol>\n"
      ],
      "text/latex": [
       "\\begin{enumerate*}\n",
       "\\item 1\n",
       "\\item 2\n",
       "\\end{enumerate*}\n"
      ],
      "text/markdown": [
       "1. 1\n",
       "2. 2\n",
       "\n",
       "\n"
      ],
      "text/plain": [
       "[1] 1 2"
      ]
     },
     "metadata": {},
     "output_type": "display_data"
    }
   ],
   "source": [
    "#If you subset a list with single-bracket notation, R will return a smaller list. \n",
    "#If you subset a list with double-bracket notation, R will return just the values that were inside an element of the list. \n",
    "#You can combine this feature with any of R’s indexing methods:\n",
    "lst[\"numbers\"]\n",
    "lst[[\"numbers\"]]"
   ]
  },
  {
   "cell_type": "markdown",
   "id": "f3470398-8fac-4cfb-b9c0-94ee6e1a22e1",
   "metadata": {},
   "source": [
    "## 2.5 Summary \n",
    "- We learned how to access values that have been stored in R.\n",
    "- We can retrieve a copy of values that live inside a data frame.\n",
    "\n",
    "R’s notation system can be used to access values in any R object. To use it, write the name of an object followed by brackets and indexes. \n",
    "For n-dimensional object, supply n indexes, each separated by a comma.\n"
   ]
  },
  {
   "cell_type": "code",
   "execution_count": null,
   "id": "bbbc730d-f993-46c2-9247-4ecf5d9faa44",
   "metadata": {},
   "outputs": [],
   "source": []
  }
 ],
 "metadata": {
  "kernelspec": {
   "display_name": "R [conda env:base] *",
   "language": "R",
   "name": "conda-base-r"
  },
  "language_info": {
   "codemirror_mode": "r",
   "file_extension": ".r",
   "mimetype": "text/x-r-source",
   "name": "R",
   "pygments_lexer": "r",
   "version": "3.6.1"
  }
 },
 "nbformat": 4,
 "nbformat_minor": 5
}
