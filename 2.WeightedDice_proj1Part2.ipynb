{
 "cells": [
  {
   "cell_type": "markdown",
   "id": "72c7ed96-e861-462a-8c2d-0469859a260b",
   "metadata": {},
   "source": [
    "### Day 2 | Jan 30th, 2025\n",
    "## Weighted dice, Pt 2"
   ]
  },
  {
   "cell_type": "markdown",
   "id": "ee09a87e-c03a-4e82-b822-52023adafc2b",
   "metadata": {},
   "source": [
    "Previously we created a Function that simulates a rolling pair of dice. \n",
    "\n",
    "Now, we will learn to make the dice roll high numbers slightly more often than it rolls low numbers. Using two tools for repetition & visualization.\n",
    "1. Replicate    (to repeat dice rolls)\n",
    "2. qplot  (to visualize dice rolls)"
   ]
  },
  {
   "cell_type": "code",
   "execution_count": 12,
   "id": "48566c79-c816-44b1-ac81-fa0f2511bf55",
   "metadata": {},
   "outputs": [],
   "source": [
    "#qplot comes in the ggplot2 package, download it first then load the library to notebook\n",
    "library(\"ggplot2\")       #to load R package, we load it with this command"
   ]
  },
  {
   "cell_type": "markdown",
   "id": "601fbf8a-7fe8-4d9c-aaae-18ca4522aaef",
   "metadata": {},
   "source": [
    "## qplot \n",
    "qplot makes quick plots.\n",
    "- creating vectors of numbers with the c function instead of (:) operator. Give c all numbers that you want to appear in the vector, separated by a comma. c stands for concatenate."
   ]
  },
  {
   "cell_type": "code",
   "execution_count": 29,
   "id": "f3beceb0-3d91-46e3-8e1f-8437d256ceea",
   "metadata": {},
   "outputs": [
    {
     "data": {
      "text/html": [
       "<ol class=list-inline>\n",
       "\t<li>-1</li>\n",
       "\t<li>-0.8</li>\n",
       "\t<li>-0.6</li>\n",
       "\t<li>-0.4</li>\n",
       "\t<li>-0.2</li>\n",
       "\t<li>0</li>\n",
       "\t<li>0.2</li>\n",
       "\t<li>0.4</li>\n",
       "\t<li>0.6</li>\n",
       "\t<li>0.8</li>\n",
       "\t<li>1</li>\n",
       "</ol>\n"
      ],
      "text/latex": [
       "\\begin{enumerate*}\n",
       "\\item -1\n",
       "\\item -0.8\n",
       "\\item -0.6\n",
       "\\item -0.4\n",
       "\\item -0.2\n",
       "\\item 0\n",
       "\\item 0.2\n",
       "\\item 0.4\n",
       "\\item 0.6\n",
       "\\item 0.8\n",
       "\\item 1\n",
       "\\end{enumerate*}\n"
      ],
      "text/markdown": [
       "1. -1\n",
       "2. -0.8\n",
       "3. -0.6\n",
       "4. -0.4\n",
       "5. -0.2\n",
       "6. 0\n",
       "7. 0.2\n",
       "8. 0.4\n",
       "9. 0.6\n",
       "10. 0.8\n",
       "11. 1\n",
       "\n",
       "\n"
      ],
      "text/plain": [
       " [1] -1.0 -0.8 -0.6 -0.4 -0.2  0.0  0.2  0.4  0.6  0.8  1.0"
      ]
     },
     "metadata": {},
     "output_type": "display_data"
    },
    {
     "data": {
      "text/html": [
       "<ol class=list-inline>\n",
       "\t<li>-1</li>\n",
       "\t<li>-0.512</li>\n",
       "\t<li>-0.216</li>\n",
       "\t<li>-0.064</li>\n",
       "\t<li>-0.008</li>\n",
       "\t<li>0</li>\n",
       "\t<li>0.008</li>\n",
       "\t<li>0.064</li>\n",
       "\t<li>0.216</li>\n",
       "\t<li>0.512</li>\n",
       "\t<li>1</li>\n",
       "</ol>\n"
      ],
      "text/latex": [
       "\\begin{enumerate*}\n",
       "\\item -1\n",
       "\\item -0.512\n",
       "\\item -0.216\n",
       "\\item -0.064\n",
       "\\item -0.008\n",
       "\\item 0\n",
       "\\item 0.008\n",
       "\\item 0.064\n",
       "\\item 0.216\n",
       "\\item 0.512\n",
       "\\item 1\n",
       "\\end{enumerate*}\n"
      ],
      "text/markdown": [
       "1. -1\n",
       "2. -0.512\n",
       "3. -0.216\n",
       "4. -0.064\n",
       "5. -0.008\n",
       "6. 0\n",
       "7. 0.008\n",
       "8. 0.064\n",
       "9. 0.216\n",
       "10. 0.512\n",
       "11. 1\n",
       "\n",
       "\n"
      ],
      "text/plain": [
       " [1] -1.000 -0.512 -0.216 -0.064 -0.008  0.000  0.008  0.064  0.216  0.512\n",
       "[11]  1.000"
      ]
     },
     "metadata": {},
     "output_type": "display_data"
    }
   ],
   "source": [
    "x <- c(-1, -0.8, -0.6, -0.4, -0.2, 0, 0.2, 0.4, 0.6, 0.8, 1)  #qplot uses first vector as set of x values and second vector as set of y values.\n",
    "x                                                             #giving vectors x and y name isn't necessary \n",
    "y <- x^3\n",
    "y"
   ]
  },
  {
   "cell_type": "code",
   "execution_count": 27,
   "id": "ce3f6400-107e-4db8-a131-b2bd4afccfc9",
   "metadata": {},
   "outputs": [
    {
     "data": {
      "image/png": "[encoded data removed]",
      "text/plain": [
       "plot without title"
      ]
     },
     "metadata": {},
     "output_type": "display_data"
    }
   ],
   "source": [
    "qplot(x, y)              #Give qplot two vectors of equal lengths, it draws a scatterplot for you. "
   ]
  },
  {
   "cell_type": "markdown",
   "id": "96a0d206-2786-4271-ac9b-8c41e6a62075",
   "metadata": {},
   "source": [
    "### A histogram \n",
    "It visualizes the distribution of a single variable; it shows how many times each number appears in x\n",
    "\n",
    "qplot makes histogram when we give it only one vector to plot. To make sure our graphs look the same, use the extra argument binwidth = 1:"
   ]
  },
  {
   "cell_type": "code",
   "execution_count": 51,
   "id": "001dfe24-cb9b-4cc0-ab1a-645dee44aacc",
   "metadata": {},
   "outputs": [
    {
     "data": {
      "image/png": "[encoded data removed]",
      "text/plain": [
       "plot without title"
      ]
     },
     "metadata": {},
     "output_type": "display_data"
    }
   ],
   "source": [
    "x <- c(1, 2, 2, 2, 3, 3)   #binwidth = 1 means that each bar will cover a range of 1 unit like [1,2), [2,3)\n",
    "qplot(x, binwidth = 1)     #[1, 2) means numbers starting from 1 but less than 2.\n",
    "                           #[ means interval includes the first no, ) means interval does'nt include the last number."
   ]
  },
  {
   "cell_type": "code",
   "execution_count": 53,
   "id": "698723ee-d11f-49ff-8f4d-5ef4c8170ceb",
   "metadata": {},
   "outputs": [
    {
     "data": {
      "image/png": "[encoded data removed]",
      "text/plain": [
       "plot without title"
      ]
     },
     "metadata": {},
     "output_type": "display_data"
    }
   ],
   "source": [
    "x2 <- c(1, 1, 1, 1, 1, 2, 2, 2, 2, 3, 3, 4)\n",
    "qplot(x2, binwidth = 1)"
   ]
  },
  {
   "cell_type": "code",
   "execution_count": 105,
   "id": "b7f1b192-64bb-4567-947f-17b1e1006b30",
   "metadata": {},
   "outputs": [
    {
     "data": {
      "image/png": "[encoded data removed]",
      "text/plain": [
       "plot without title"
      ]
     },
     "metadata": {},
     "output_type": "display_data"
    }
   ],
   "source": [
    "x3 <- c(0, 1, 1, 2, 2, 2, 3, 3, 4)    #a pyramid shape graph will be formed\n",
    "qplot(x3, binwidth = 1)"
   ]
  },
  {
   "cell_type": "code",
   "execution_count": 107,
   "id": "a1d33cc7-7199-4d93-a176-9dc2835b0dca",
   "metadata": {},
   "outputs": [
    {
     "data": {
      "text/html": [
       "<ol class=list-inline>\n",
       "\t<li>4</li>\n",
       "\t<li>4</li>\n",
       "\t<li>4</li>\n",
       "</ol>\n"
      ],
      "text/latex": [
       "\\begin{enumerate*}\n",
       "\\item 4\n",
       "\\item 4\n",
       "\\item 4\n",
       "\\end{enumerate*}\n"
      ],
      "text/markdown": [
       "1. 4\n",
       "2. 4\n",
       "3. 4\n",
       "\n",
       "\n"
      ],
      "text/plain": [
       "[1] 4 4 4"
      ]
     },
     "metadata": {},
     "output_type": "display_data"
    }
   ],
   "source": [
    "replicate(3, 2 + 2)   #getting the hang of replicate fn"
   ]
  },
  {
   "cell_type": "code",
   "execution_count": 61,
   "id": "8fca92a7-98c5-429c-ab25-53affade674a",
   "metadata": {},
   "outputs": [],
   "source": [
    "roll <- function() {             #rolling a dice \n",
    "  die <- 1:6                     \n",
    "  dice <- sample(die, size = 2, replace = TRUE)\n",
    "  sum(dice)                                      \n",
    "}           "
   ]
  },
  {
   "cell_type": "code",
   "execution_count": 91,
   "id": "c55aff5f-53fd-4089-b318-9b0d9bf1a40a",
   "metadata": {},
   "outputs": [
    {
     "data": {
      "text/html": [
       "<ol class=list-inline>\n",
       "\t<li>7</li>\n",
       "\t<li>7</li>\n",
       "\t<li>11</li>\n",
       "\t<li>11</li>\n",
       "\t<li>6</li>\n",
       "\t<li>7</li>\n",
       "\t<li>11</li>\n",
       "\t<li>6</li>\n",
       "\t<li>11</li>\n",
       "\t<li>9</li>\n",
       "</ol>\n"
      ],
      "text/latex": [
       "\\begin{enumerate*}\n",
       "\\item 7\n",
       "\\item 7\n",
       "\\item 11\n",
       "\\item 11\n",
       "\\item 6\n",
       "\\item 7\n",
       "\\item 11\n",
       "\\item 6\n",
       "\\item 11\n",
       "\\item 9\n",
       "\\end{enumerate*}\n"
      ],
      "text/markdown": [
       "1. 7\n",
       "2. 7\n",
       "3. 11\n",
       "4. 11\n",
       "5. 6\n",
       "6. 7\n",
       "7. 11\n",
       "8. 6\n",
       "9. 11\n",
       "10. 9\n",
       "\n",
       "\n"
      ],
      "text/plain": [
       " [1]  7  7 11 11  6  7 11  6 11  9"
      ]
     },
     "metadata": {},
     "output_type": "display_data"
    }
   ],
   "source": [
    "replicate(10, roll())        #notice the probability of 7 occuring is more than the others "
   ]
  },
  {
   "cell_type": "code",
   "execution_count": 89,
   "id": "ed92b0dc-31d7-4059-afea-6c6131d740c9",
   "metadata": {},
   "outputs": [
    {
     "data": {
      "image/png": "[encoded data removed]",
      "text/plain": [
       "plot without title"
      ]
     },
     "metadata": {},
     "output_type": "display_data"
    }
   ],
   "source": [
    "rolling <- replicate(10000, roll())     #simulating 10k dice rolls and ploting the results \n",
    "qplot(rolling, binwidth=1)         #behavior of dice suggests results are fair(not biased). Seven occurs more often than any other number"
   ]
  },
  {
   "cell_type": "markdown",
   "id": "8b65b13b-41cd-40ee-a584-81ec55a75e9b",
   "metadata": {},
   "source": [
    "### Probability of Rolling\n",
    "Probability of rolling any single number on a fair die is 1/6.\n",
    "Probabilities can be changed by adding a new argument to the sample function.\n",
    "#### An argument called prob:\n",
    "A vector of probability weights for obtaining the elements of the vector being \n",
    "sampled.\n",
    "### Biasing the dice towards higher number"
   ]
  },
  {
   "cell_type": "code",
   "execution_count": 96,
   "id": "bd051e26-954b-4acf-96b0-93e0668845c5",
   "metadata": {},
   "outputs": [],
   "source": [
    "roll <- function() {            #rewriting roll fn, adding prob argument to the sample function inside of roll\n",
    "  die <- 1:6             #This argument tells the sample to sample the no. 1to5 with probability 1/8 and no. 6 with probability 3/8.\n",
    "  dice <- sample(die, size = 2, replace = TRUE, prob = c(1/8,1/8,1/8,1/8,1/8,3/8))\n",
    "  sum(dice)\n",
    "}"
   ]
  },
  {
   "cell_type": "code",
   "execution_count": 100,
   "id": "e33c6356-eff2-4f68-856e-5faaabe1538b",
   "metadata": {},
   "outputs": [
    {
     "data": {
      "image/png": "[encoded data removed]",
      "text/plain": [
       "plot without title"
      ]
     },
     "metadata": {},
     "output_type": "display_data"
    }
   ],
   "source": [
    "rolling2 <- replicate(10000, roll())          \n",
    "qplot(rolling2, binwidth = 1)"
   ]
  },
  {
   "cell_type": "markdown",
   "id": "cc175b30-ffb4-4630-a2f1-24314d969d4a",
   "metadata": {},
   "source": [
    "- High numbers occur much more often than low numbers.\n",
    "- This behavior is only apparent when examining long-term frequencies. On any single roll, the dice will appear to behave randomly.\n",
    "- The rolling of dice is biased towards higher numbers. "
   ]
  },
  {
   "cell_type": "code",
   "execution_count": null,
   "id": "60e81d33-1303-4849-bd97-72573f7dfeed",
   "metadata": {},
   "outputs": [],
   "source": []
  }
 ],
 "metadata": {
  "kernelspec": {
   "display_name": "R [conda env:base] *",
   "language": "R",
   "name": "conda-base-r"
  },
  "language_info": {
   "codemirror_mode": "r",
   "file_extension": ".r",
   "mimetype": "text/x-r-source",
   "name": "R",
   "pygments_lexer": "r",
   "version": "3.6.1"
  }
 },
 "nbformat": 4,
 "nbformat_minor": 5
}
