{
 "cells": [
  {
   "cell_type": "markdown",
   "id": "8f2977eb-e934-4641-bb78-ab9ebb8cc994",
   "metadata": {},
   "source": [
    "# Playing Cards: Project 2\n",
    "## DAY 4 | Feb 2nd, 2025\n",
    "## Part 3: Modifying Values\n",
    "- We will learn how to change the actual values stored inside our data frame.\n",
    "- This provides complete control of your data.\n",
    "  \n",
    "-> The point system of our deck will be changed 3 times to match 3 different games: war, hearts, and blackjack. "
   ]
  },
  {
   "cell_type": "code",
   "execution_count": 252,
   "id": "7f50c38d-e5f8-4bf3-8eb8-eb029e5e8825",
   "metadata": {},
   "outputs": [],
   "source": [
    "# Uploading the deck of cards dataset here \n",
    "deck <- data.frame(\n",
    "  face = c(\"king\", \"queen\", \"jack\", \"ten\", \"nine\", \"eight\", \"seven\", \"six\",\n",
    "    \"five\", \"four\", \"three\", \"two\", \"ace\", \"king\", \"queen\", \"jack\", \"ten\", \n",
    "    \"nine\", \"eight\", \"seven\", \"six\", \"five\", \"four\", \"three\", \"two\", \"ace\", \n",
    "    \"king\", \"queen\", \"jack\", \"ten\", \"nine\", \"eight\", \"seven\", \"six\", \"five\", \n",
    "    \"four\", \"three\", \"two\", \"ace\", \"king\", \"queen\", \"jack\", \"ten\", \"nine\", \n",
    "    \"eight\", \"seven\", \"six\", \"five\", \"four\", \"three\", \"two\", \"ace\"),  \n",
    "  suit = c(\"spades\", \"spades\", \"spades\", \"spades\", \"spades\", \"spades\", \n",
    "    \"spades\", \"spades\", \"spades\", \"spades\", \"spades\", \"spades\", \"spades\", \n",
    "    \"clubs\", \"clubs\", \"clubs\", \"clubs\", \"clubs\", \"clubs\", \"clubs\", \"clubs\", \n",
    "    \"clubs\", \"clubs\", \"clubs\", \"clubs\", \"clubs\", \"diamonds\", \"diamonds\", \n",
    "    \"diamonds\", \"diamonds\", \"diamonds\", \"diamonds\", \"diamonds\", \"diamonds\", \n",
    "    \"diamonds\", \"diamonds\", \"diamonds\", \"diamonds\", \"diamonds\", \"hearts\", \n",
    "    \"hearts\", \"hearts\", \"hearts\", \"hearts\", \"hearts\", \"hearts\", \"hearts\", \n",
    "    \"hearts\", \"hearts\", \"hearts\", \"hearts\", \"hearts\"), \n",
    "  value = c(13, 12, 11, 10, 9, 8, 7, 6, 5, 4, 3, 2, 1, 13, 12, 11, 10, 9, 8, \n",
    "    7, 6, 5, 4, 3, 2, 1, 13, 12, 11, 10, 9, 8, 7, 6, 5, 4, 3, 2, 1, 13, 12, 11, \n",
    "    10, 9, 8, 7, 6, 5, 4, 3, 2, 1)\n",
    ")"
   ]
  },
  {
   "cell_type": "code",
   "execution_count": null,
   "id": "881bc22b-5fe3-41b0-b0fb-d76ffd393dd3",
   "metadata": {},
   "outputs": [],
   "source": [
    "deck2 <- deck          #making a copy of deck to be manipulated "
   ]
  },
  {
   "cell_type": "markdown",
   "id": "312c5237-5e6c-411a-8baa-cf5dfb857d85",
   "metadata": {},
   "source": [
    "## 3.1 Changing Values in place"
   ]
  },
  {
   "cell_type": "code",
   "execution_count": 165,
   "id": "bbbd40c1-3c67-4c4f-a015-ed1ee9a716fc",
   "metadata": {},
   "outputs": [
    {
     "data": {
      "text/html": [
       "1"
      ],
      "text/latex": [
       "1"
      ],
      "text/markdown": [
       "1"
      ],
      "text/plain": [
       "[1] 1"
      ]
     },
     "metadata": {},
     "output_type": "display_data"
    }
   ],
   "source": [
    "val1 <- c(2,1,0)               #creating an R object\n",
    "val1[2]                          #selecting second value "
   ]
  },
  {
   "cell_type": "code",
   "execution_count": 167,
   "id": "b3d00682-a50b-4ac3-b4f5-ab804b328a49",
   "metadata": {},
   "outputs": [
    {
     "data": {
      "text/html": [
       "<ol class=list-inline>\n",
       "\t<li>2</li>\n",
       "\t<li>0</li>\n",
       "\t<li>0</li>\n",
       "</ol>\n"
      ],
      "text/latex": [
       "\\begin{enumerate*}\n",
       "\\item 2\n",
       "\\item 0\n",
       "\\item 0\n",
       "\\end{enumerate*}\n"
      ],
      "text/markdown": [
       "1. 2\n",
       "2. 0\n",
       "3. 0\n",
       "\n",
       "\n"
      ],
      "text/plain": [
       "[1] 2 0 0"
      ]
     },
     "metadata": {},
     "output_type": "display_data"
    }
   ],
   "source": [
    "val1[2] <- 0                    #we can assign a new value using <- operator \n",
    "val1                            #new value assigned at index 2, 0 replaced 1"
   ]
  },
  {
   "cell_type": "code",
   "execution_count": 169,
   "id": "5738ebbb-a0e5-4cc1-9b81-d6d6deef2b54",
   "metadata": {},
   "outputs": [
    {
     "data": {
      "text/html": [
       "<ol class=list-inline>\n",
       "\t<li>2</li>\n",
       "\t<li>4</li>\n",
       "\t<li>2</li>\n",
       "</ol>\n"
      ],
      "text/latex": [
       "\\begin{enumerate*}\n",
       "\\item 2\n",
       "\\item 4\n",
       "\\item 2\n",
       "\\end{enumerate*}\n"
      ],
      "text/markdown": [
       "1. 2\n",
       "2. 4\n",
       "3. 2\n",
       "\n",
       "\n"
      ],
      "text/plain": [
       "[1] 2 4 2"
      ]
     },
     "metadata": {},
     "output_type": "display_data"
    }
   ],
   "source": [
    "val1[c(2,3)] <- c(4,2)          #we can replace multiple values at once only if the number or old and newly given values match\n",
    "val1"
   ]
  },
  {
   "cell_type": "code",
   "execution_count": 171,
   "id": "7d412b7f-8afc-40ed-8650-34b5e1ba3e76",
   "metadata": {},
   "outputs": [
    {
     "data": {
      "text/html": [
       "<ol class=list-inline>\n",
       "\t<li>2</li>\n",
       "\t<li>4</li>\n",
       "\t<li>2</li>\n",
       "\t<li>2</li>\n",
       "</ol>\n"
      ],
      "text/latex": [
       "\\begin{enumerate*}\n",
       "\\item 2\n",
       "\\item 4\n",
       "\\item 2\n",
       "\\item 2\n",
       "\\end{enumerate*}\n"
      ],
      "text/markdown": [
       "1. 2\n",
       "2. 4\n",
       "3. 2\n",
       "4. 2\n",
       "\n",
       "\n"
      ],
      "text/plain": [
       "[1] 2 4 2 2"
      ]
     },
     "metadata": {},
     "output_type": "display_data"
    }
   ],
   "source": [
    "val1[4] <- 2                #we can also add values that did not exist previously\n",
    "val1"
   ]
  },
  {
   "cell_type": "code",
   "execution_count": 173,
   "id": "88aee10b-21bc-4d8f-9087-6b761b68a41b",
   "metadata": {},
   "outputs": [
    {
     "data": {
      "text/html": [
       "<ol class=list-inline>\n",
       "\t<li>0</li>\n",
       "\t<li>2</li>\n",
       "\t<li>0</li>\n",
       "\t<li>2</li>\n",
       "</ol>\n"
      ],
      "text/latex": [
       "\\begin{enumerate*}\n",
       "\\item 0\n",
       "\\item 2\n",
       "\\item 0\n",
       "\\item 2\n",
       "\\end{enumerate*}\n"
      ],
      "text/markdown": [
       "1. 0\n",
       "2. 2\n",
       "3. 0\n",
       "4. 2\n",
       "\n",
       "\n"
      ],
      "text/plain": [
       "[1] 0 2 0 2"
      ]
     },
     "metadata": {},
     "output_type": "display_data"
    }
   ],
   "source": [
    "val1[1:3] <- c(0,2,0)         #we can also replace values like this\n",
    "val1"
   ]
  },
  {
   "cell_type": "markdown",
   "id": "d04904b9-4fbc-4754-8e59-066c570125fd",
   "metadata": {},
   "source": [
    "using these methods we can add new variable to our data set:"
   ]
  },
  {
   "cell_type": "code",
   "execution_count": null,
   "id": "7c152b2e-f681-4493-bd21-dc8b8f3dff93",
   "metadata": {},
   "outputs": [],
   "source": [
    "deck2$new <- 1:52\n",
    "tail(deck2,5)"
   ]
  },
  {
   "cell_type": "code",
   "execution_count": null,
   "id": "09938676-17dc-4f9c-8832-e3e958e5a18e",
   "metadata": {},
   "outputs": [],
   "source": [
    "#removing column from a dataframe \n",
    "deck2$new <- NULL\n",
    "tail(deck2, 5)"
   ]
  },
  {
   "cell_type": "markdown",
   "id": "357d1dba-eb2a-496e-9e60-6f907f6bdf8f",
   "metadata": {},
   "source": [
    "Replacing the value of aces from 14 (old value 1), as in the game of war aces have a value 14. :"
   ]
  },
  {
   "cell_type": "code",
   "execution_count": null,
   "id": "3c022889-64d6-4d6a-8431-fc032483881c",
   "metadata": {},
   "outputs": [],
   "source": [
    "#before shuffling the cards we know where the aces occur, after every 13 cards. \n",
    "deck2 [c(13,26,39,52), ]                         #displaying all 4 aces"
   ]
  },
  {
   "cell_type": "code",
   "execution_count": null,
   "id": "b8535fe2-b370-42cc-a8ba-df0a39af7862",
   "metadata": {},
   "outputs": [],
   "source": [
    "deck2$value[c(13,26,39,52)]                    #displaying there values"
   ]
  },
  {
   "cell_type": "code",
   "execution_count": null,
   "id": "6f9dfc1d-30b7-4bd2-9198-8ef1c9f259f1",
   "metadata": {},
   "outputs": [],
   "source": [
    "deck2$value [c(13,26,39,52)] <- c(14,14,14,14)        #assigning them a new set of values "
   ]
  },
  {
   "cell_type": "code",
   "execution_count": null,
   "id": "f032d90e-1389-4cbd-8b7e-d5d3a86f844c",
   "metadata": {},
   "outputs": [],
   "source": [
    "deck2 [ (1:13) ,  ]                 #now u can see the values replaced in place. "
   ]
  },
  {
   "cell_type": "code",
   "execution_count": 151,
   "id": "7a48f291-034e-482a-ba14-bffea5fa65e1",
   "metadata": {},
   "outputs": [],
   "source": [
    "shuffle <- function (cards) {\n",
    "    random <- sample(1:52, size=52)\n",
    "    cards[random, ]\n",
    "    }               \n",
    "deck3 <- shuffle(deck)                      #shuffling deck2 and saving into deck3"
   ]
  },
  {
   "cell_type": "markdown",
   "id": "82ecc726-a1d2-4d5e-9406-2eedf524e17f",
   "metadata": {},
   "source": [
    "## 3.2 Logical Subsetting \n",
    "It was easier to find the aces when they were orderly arranged, but once the cards are shuffled we can't find them easily. To solve this issue we can use logical subsetting. \n",
    "- It provides an easy way to do targeted extraction and modification with R objects, provides a sort of search and destroy mission inside our own data sets.\n",
    "- It quickly identifies, extracts, and modifies individual values in our data set. We do not need to know where a value exists. We only need to know how to describe the value with a logical test."
   ]
  },
  {
   "cell_type": "code",
   "execution_count": 175,
   "id": "1783aba1-76f8-46d0-9f77-1bc11c44aa10",
   "metadata": {},
   "outputs": [
    {
     "data": {
      "text/html": [
       "1"
      ],
      "text/latex": [
       "1"
      ],
      "text/markdown": [
       "1"
      ],
      "text/plain": [
       "[1] 1"
      ]
     },
     "metadata": {},
     "output_type": "display_data"
    }
   ],
   "source": [
    "#We will be using logical index system. \n",
    "vec <- c(0,1,0,1)\n",
    "vec[c(FALSE, TRUE, FALSE, FALSE)]          #But typing so many T and F is laborious, so we use Logical tests.  "
   ]
  },
  {
   "cell_type": "markdown",
   "id": "b4073041-8494-4f7f-af7a-3c43e0274675",
   "metadata": {},
   "source": [
    "### 3.2.1 Logical Tests\n",
    "There are 7 logical operators in R that we can use from. Here we will use \" == \" (equal to) operator."
   ]
  },
  {
   "cell_type": "code",
   "execution_count": 153,
   "id": "ecedc7cb-e8a2-4104-98ed-9d8593cb7f3a",
   "metadata": {},
   "outputs": [
    {
     "data": {
      "text/html": [
       "<ol class=list-inline>\n",
       "\t<li>queen</li>\n",
       "\t<li>nine</li>\n",
       "\t<li>four</li>\n",
       "\t<li>eight</li>\n",
       "\t<li>nine</li>\n",
       "\t<li>eight</li>\n",
       "\t<li>queen</li>\n",
       "\t<li>nine</li>\n",
       "\t<li>eight</li>\n",
       "\t<li>five</li>\n",
       "\t<li>four</li>\n",
       "\t<li>four</li>\n",
       "\t<li>seven</li>\n",
       "\t<li>six</li>\n",
       "\t<li>two</li>\n",
       "\t<li>three</li>\n",
       "\t<li>ace</li>\n",
       "\t<li>seven</li>\n",
       "\t<li>six</li>\n",
       "\t<li>ace</li>\n",
       "\t<li>five</li>\n",
       "\t<li>four</li>\n",
       "\t<li>king</li>\n",
       "\t<li>ten</li>\n",
       "\t<li>ace</li>\n",
       "\t<li>king</li>\n",
       "\t<li>five</li>\n",
       "\t<li>king</li>\n",
       "\t<li>ten</li>\n",
       "\t<li>seven</li>\n",
       "\t<li>two</li>\n",
       "\t<li>six</li>\n",
       "\t<li>jack</li>\n",
       "\t<li>ten</li>\n",
       "\t<li>ten</li>\n",
       "\t<li>jack</li>\n",
       "\t<li>three</li>\n",
       "\t<li>three</li>\n",
       "\t<li>queen</li>\n",
       "\t<li>two</li>\n",
       "\t<li>king</li>\n",
       "\t<li>nine</li>\n",
       "\t<li>five</li>\n",
       "\t<li>seven</li>\n",
       "\t<li>ace</li>\n",
       "\t<li>jack</li>\n",
       "\t<li>two</li>\n",
       "\t<li>three</li>\n",
       "\t<li>eight</li>\n",
       "\t<li>queen</li>\n",
       "\t<li>jack</li>\n",
       "\t<li>six</li>\n",
       "</ol>\n",
       "\n",
       "<details>\n",
       "\t<summary style=display:list-item;cursor:pointer>\n",
       "\t\t<strong>Levels</strong>:\n",
       "\t</summary>\n",
       "\t<ol class=list-inline>\n",
       "\t\t<li>'ace'</li>\n",
       "\t\t<li>'eight'</li>\n",
       "\t\t<li>'five'</li>\n",
       "\t\t<li>'four'</li>\n",
       "\t\t<li>'jack'</li>\n",
       "\t\t<li>'king'</li>\n",
       "\t\t<li>'nine'</li>\n",
       "\t\t<li>'queen'</li>\n",
       "\t\t<li>'seven'</li>\n",
       "\t\t<li>'six'</li>\n",
       "\t\t<li>'ten'</li>\n",
       "\t\t<li>'three'</li>\n",
       "\t\t<li>'two'</li>\n",
       "\t</ol>\n",
       "</details>"
      ],
      "text/latex": [
       "\\begin{enumerate*}\n",
       "\\item queen\n",
       "\\item nine\n",
       "\\item four\n",
       "\\item eight\n",
       "\\item nine\n",
       "\\item eight\n",
       "\\item queen\n",
       "\\item nine\n",
       "\\item eight\n",
       "\\item five\n",
       "\\item four\n",
       "\\item four\n",
       "\\item seven\n",
       "\\item six\n",
       "\\item two\n",
       "\\item three\n",
       "\\item ace\n",
       "\\item seven\n",
       "\\item six\n",
       "\\item ace\n",
       "\\item five\n",
       "\\item four\n",
       "\\item king\n",
       "\\item ten\n",
       "\\item ace\n",
       "\\item king\n",
       "\\item five\n",
       "\\item king\n",
       "\\item ten\n",
       "\\item seven\n",
       "\\item two\n",
       "\\item six\n",
       "\\item jack\n",
       "\\item ten\n",
       "\\item ten\n",
       "\\item jack\n",
       "\\item three\n",
       "\\item three\n",
       "\\item queen\n",
       "\\item two\n",
       "\\item king\n",
       "\\item nine\n",
       "\\item five\n",
       "\\item seven\n",
       "\\item ace\n",
       "\\item jack\n",
       "\\item two\n",
       "\\item three\n",
       "\\item eight\n",
       "\\item queen\n",
       "\\item jack\n",
       "\\item six\n",
       "\\end{enumerate*}\n",
       "\n",
       "\\emph{Levels}: \\begin{enumerate*}\n",
       "\\item 'ace'\n",
       "\\item 'eight'\n",
       "\\item 'five'\n",
       "\\item 'four'\n",
       "\\item 'jack'\n",
       "\\item 'king'\n",
       "\\item 'nine'\n",
       "\\item 'queen'\n",
       "\\item 'seven'\n",
       "\\item 'six'\n",
       "\\item 'ten'\n",
       "\\item 'three'\n",
       "\\item 'two'\n",
       "\\end{enumerate*}\n"
      ],
      "text/markdown": [
       "1. queen\n",
       "2. nine\n",
       "3. four\n",
       "4. eight\n",
       "5. nine\n",
       "6. eight\n",
       "7. queen\n",
       "8. nine\n",
       "9. eight\n",
       "10. five\n",
       "11. four\n",
       "12. four\n",
       "13. seven\n",
       "14. six\n",
       "15. two\n",
       "16. three\n",
       "17. ace\n",
       "18. seven\n",
       "19. six\n",
       "20. ace\n",
       "21. five\n",
       "22. four\n",
       "23. king\n",
       "24. ten\n",
       "25. ace\n",
       "26. king\n",
       "27. five\n",
       "28. king\n",
       "29. ten\n",
       "30. seven\n",
       "31. two\n",
       "32. six\n",
       "33. jack\n",
       "34. ten\n",
       "35. ten\n",
       "36. jack\n",
       "37. three\n",
       "38. three\n",
       "39. queen\n",
       "40. two\n",
       "41. king\n",
       "42. nine\n",
       "43. five\n",
       "44. seven\n",
       "45. ace\n",
       "46. jack\n",
       "47. two\n",
       "48. three\n",
       "49. eight\n",
       "50. queen\n",
       "51. jack\n",
       "52. six\n",
       "\n",
       "\n",
       "\n",
       "**Levels**: 1. 'ace'\n",
       "2. 'eight'\n",
       "3. 'five'\n",
       "4. 'four'\n",
       "5. 'jack'\n",
       "6. 'king'\n",
       "7. 'nine'\n",
       "8. 'queen'\n",
       "9. 'seven'\n",
       "10. 'six'\n",
       "11. 'ten'\n",
       "12. 'three'\n",
       "13. 'two'\n",
       "\n",
       "\n"
      ],
      "text/plain": [
       " [1] queen nine  four  eight nine  eight queen nine  eight five  four  four \n",
       "[13] seven six   two   three ace   seven six   ace   five  four  king  ten  \n",
       "[25] ace   king  five  king  ten   seven two   six   jack  ten   ten   jack \n",
       "[37] three three queen two   king  nine  five  seven ace   jack  two   three\n",
       "[49] eight queen jack  six  \n",
       "Levels: ace eight five four jack king nine queen seven six ten three two"
      ]
     },
     "metadata": {},
     "output_type": "display_data"
    }
   ],
   "source": [
    "#finding the aces and replacing value:\n",
    "deck3$face                      #extracting face column of deck2"
   ]
  },
  {
   "cell_type": "code",
   "execution_count": 155,
   "id": "dfe12634-2499-4d49-8886-8b6ff39ffe78",
   "metadata": {},
   "outputs": [
    {
     "data": {
      "text/html": [
       "<ol class=list-inline>\n",
       "\t<li>FALSE</li>\n",
       "\t<li>FALSE</li>\n",
       "\t<li>FALSE</li>\n",
       "\t<li>FALSE</li>\n",
       "\t<li>FALSE</li>\n",
       "\t<li>FALSE</li>\n",
       "\t<li>FALSE</li>\n",
       "\t<li>FALSE</li>\n",
       "\t<li>FALSE</li>\n",
       "\t<li>FALSE</li>\n",
       "\t<li>FALSE</li>\n",
       "\t<li>FALSE</li>\n",
       "\t<li>FALSE</li>\n",
       "\t<li>FALSE</li>\n",
       "\t<li>FALSE</li>\n",
       "\t<li>FALSE</li>\n",
       "\t<li>TRUE</li>\n",
       "\t<li>FALSE</li>\n",
       "\t<li>FALSE</li>\n",
       "\t<li>TRUE</li>\n",
       "\t<li>FALSE</li>\n",
       "\t<li>FALSE</li>\n",
       "\t<li>FALSE</li>\n",
       "\t<li>FALSE</li>\n",
       "\t<li>TRUE</li>\n",
       "\t<li>FALSE</li>\n",
       "\t<li>FALSE</li>\n",
       "\t<li>FALSE</li>\n",
       "\t<li>FALSE</li>\n",
       "\t<li>FALSE</li>\n",
       "\t<li>FALSE</li>\n",
       "\t<li>FALSE</li>\n",
       "\t<li>FALSE</li>\n",
       "\t<li>FALSE</li>\n",
       "\t<li>FALSE</li>\n",
       "\t<li>FALSE</li>\n",
       "\t<li>FALSE</li>\n",
       "\t<li>FALSE</li>\n",
       "\t<li>FALSE</li>\n",
       "\t<li>FALSE</li>\n",
       "\t<li>FALSE</li>\n",
       "\t<li>FALSE</li>\n",
       "\t<li>FALSE</li>\n",
       "\t<li>FALSE</li>\n",
       "\t<li>TRUE</li>\n",
       "\t<li>FALSE</li>\n",
       "\t<li>FALSE</li>\n",
       "\t<li>FALSE</li>\n",
       "\t<li>FALSE</li>\n",
       "\t<li>FALSE</li>\n",
       "\t<li>FALSE</li>\n",
       "\t<li>FALSE</li>\n",
       "</ol>\n"
      ],
      "text/latex": [
       "\\begin{enumerate*}\n",
       "\\item FALSE\n",
       "\\item FALSE\n",
       "\\item FALSE\n",
       "\\item FALSE\n",
       "\\item FALSE\n",
       "\\item FALSE\n",
       "\\item FALSE\n",
       "\\item FALSE\n",
       "\\item FALSE\n",
       "\\item FALSE\n",
       "\\item FALSE\n",
       "\\item FALSE\n",
       "\\item FALSE\n",
       "\\item FALSE\n",
       "\\item FALSE\n",
       "\\item FALSE\n",
       "\\item TRUE\n",
       "\\item FALSE\n",
       "\\item FALSE\n",
       "\\item TRUE\n",
       "\\item FALSE\n",
       "\\item FALSE\n",
       "\\item FALSE\n",
       "\\item FALSE\n",
       "\\item TRUE\n",
       "\\item FALSE\n",
       "\\item FALSE\n",
       "\\item FALSE\n",
       "\\item FALSE\n",
       "\\item FALSE\n",
       "\\item FALSE\n",
       "\\item FALSE\n",
       "\\item FALSE\n",
       "\\item FALSE\n",
       "\\item FALSE\n",
       "\\item FALSE\n",
       "\\item FALSE\n",
       "\\item FALSE\n",
       "\\item FALSE\n",
       "\\item FALSE\n",
       "\\item FALSE\n",
       "\\item FALSE\n",
       "\\item FALSE\n",
       "\\item FALSE\n",
       "\\item TRUE\n",
       "\\item FALSE\n",
       "\\item FALSE\n",
       "\\item FALSE\n",
       "\\item FALSE\n",
       "\\item FALSE\n",
       "\\item FALSE\n",
       "\\item FALSE\n",
       "\\end{enumerate*}\n"
      ],
      "text/markdown": [
       "1. FALSE\n",
       "2. FALSE\n",
       "3. FALSE\n",
       "4. FALSE\n",
       "5. FALSE\n",
       "6. FALSE\n",
       "7. FALSE\n",
       "8. FALSE\n",
       "9. FALSE\n",
       "10. FALSE\n",
       "11. FALSE\n",
       "12. FALSE\n",
       "13. FALSE\n",
       "14. FALSE\n",
       "15. FALSE\n",
       "16. FALSE\n",
       "17. TRUE\n",
       "18. FALSE\n",
       "19. FALSE\n",
       "20. TRUE\n",
       "21. FALSE\n",
       "22. FALSE\n",
       "23. FALSE\n",
       "24. FALSE\n",
       "25. TRUE\n",
       "26. FALSE\n",
       "27. FALSE\n",
       "28. FALSE\n",
       "29. FALSE\n",
       "30. FALSE\n",
       "31. FALSE\n",
       "32. FALSE\n",
       "33. FALSE\n",
       "34. FALSE\n",
       "35. FALSE\n",
       "36. FALSE\n",
       "37. FALSE\n",
       "38. FALSE\n",
       "39. FALSE\n",
       "40. FALSE\n",
       "41. FALSE\n",
       "42. FALSE\n",
       "43. FALSE\n",
       "44. FALSE\n",
       "45. TRUE\n",
       "46. FALSE\n",
       "47. FALSE\n",
       "48. FALSE\n",
       "49. FALSE\n",
       "50. FALSE\n",
       "51. FALSE\n",
       "52. FALSE\n",
       "\n",
       "\n"
      ],
      "text/plain": [
       " [1] FALSE FALSE FALSE FALSE FALSE FALSE FALSE FALSE FALSE FALSE FALSE FALSE\n",
       "[13] FALSE FALSE FALSE FALSE  TRUE FALSE FALSE  TRUE FALSE FALSE FALSE FALSE\n",
       "[25]  TRUE FALSE FALSE FALSE FALSE FALSE FALSE FALSE FALSE FALSE FALSE FALSE\n",
       "[37] FALSE FALSE FALSE FALSE FALSE FALSE FALSE FALSE  TRUE FALSE FALSE FALSE\n",
       "[49] FALSE FALSE FALSE FALSE"
      ]
     },
     "metadata": {},
     "output_type": "display_data"
    }
   ],
   "source": [
    "deck3$face == \"ace\"         #testing the values equal to ace"
   ]
  },
  {
   "cell_type": "code",
   "execution_count": 157,
   "id": "3001fcdf-fd96-4c0e-915e-4a9c0ee5cd1a",
   "metadata": {},
   "outputs": [
    {
     "data": {
      "text/html": [
       "4"
      ],
      "text/latex": [
       "4"
      ],
      "text/markdown": [
       "4"
      ],
      "text/plain": [
       "[1] 4"
      ]
     },
     "metadata": {},
     "output_type": "display_data"
    }
   ],
   "source": [
    "sum(deck3$face == \"ace\")                        #using sum to count the total T's "
   ]
  },
  {
   "cell_type": "code",
   "execution_count": 159,
   "id": "6988df12-2f48-4f49-b10c-04d544b07892",
   "metadata": {},
   "outputs": [
    {
     "data": {
      "text/html": [
       "<ol class=list-inline>\n",
       "\t<li>1</li>\n",
       "\t<li>1</li>\n",
       "\t<li>1</li>\n",
       "\t<li>1</li>\n",
       "</ol>\n"
      ],
      "text/latex": [
       "\\begin{enumerate*}\n",
       "\\item 1\n",
       "\\item 1\n",
       "\\item 1\n",
       "\\item 1\n",
       "\\end{enumerate*}\n"
      ],
      "text/markdown": [
       "1. 1\n",
       "2. 1\n",
       "3. 1\n",
       "4. 1\n",
       "\n",
       "\n"
      ],
      "text/plain": [
       "[1] 1 1 1 1"
      ]
     },
     "metadata": {},
     "output_type": "display_data"
    }
   ],
   "source": [
    "deck3$value[deck3$face ==\"ace\"]                 #to show the values of aces"
   ]
  },
  {
   "cell_type": "code",
   "execution_count": 161,
   "id": "7de3bc3e-468b-4f2a-867f-a604e4d948dc",
   "metadata": {},
   "outputs": [
    {
     "data": {
      "text/html": [
       "<ol class=list-inline>\n",
       "\t<li>14</li>\n",
       "\t<li>14</li>\n",
       "\t<li>14</li>\n",
       "\t<li>14</li>\n",
       "</ol>\n"
      ],
      "text/latex": [
       "\\begin{enumerate*}\n",
       "\\item 14\n",
       "\\item 14\n",
       "\\item 14\n",
       "\\item 14\n",
       "\\end{enumerate*}\n"
      ],
      "text/markdown": [
       "1. 14\n",
       "2. 14\n",
       "3. 14\n",
       "4. 14\n",
       "\n",
       "\n"
      ],
      "text/plain": [
       "[1] 14 14 14 14"
      ]
     },
     "metadata": {},
     "output_type": "display_data"
    }
   ],
   "source": [
    "deck3$value[deck3$face ==\"ace\"]  <- c(14,14,14,14)       #assigning the aces a new value in deck 3\n",
    "deck3$value[deck3$face ==\"ace\"]                          #the value is changed to 14"
   ]
  },
  {
   "cell_type": "markdown",
   "id": "faa620d7-747c-4a06-ab06-a04672cf6c64",
   "metadata": {},
   "source": [
    "### Second game; Hearts\n",
    "Every card has a zero value except card in the suit of heart and queen of spades. "
   ]
  },
  {
   "cell_type": "code",
   "execution_count": 232,
   "id": "3890d1f6-2bd9-442f-9e23-4eeba16ece7d",
   "metadata": {},
   "outputs": [
    {
     "data": {
      "text/html": [
       "<table>\n",
       "<thead><tr><th scope=col>face</th><th scope=col>suit</th><th scope=col>value</th></tr></thead>\n",
       "<tbody>\n",
       "\t<tr><td>king  </td><td>spades</td><td>0     </td></tr>\n",
       "\t<tr><td>queen </td><td>spades</td><td>0     </td></tr>\n",
       "\t<tr><td>jack  </td><td>spades</td><td>0     </td></tr>\n",
       "\t<tr><td>ten   </td><td>spades</td><td>0     </td></tr>\n",
       "\t<tr><td>nine  </td><td>spades</td><td>0     </td></tr>\n",
       "</tbody>\n",
       "</table>\n"
      ],
      "text/latex": [
       "\\begin{tabular}{r|lll}\n",
       " face & suit & value\\\\\n",
       "\\hline\n",
       "\t king   & spades & 0     \\\\\n",
       "\t queen  & spades & 0     \\\\\n",
       "\t jack   & spades & 0     \\\\\n",
       "\t ten    & spades & 0     \\\\\n",
       "\t nine   & spades & 0     \\\\\n",
       "\\end{tabular}\n"
      ],
      "text/markdown": [
       "\n",
       "| face | suit | value |\n",
       "|---|---|---|\n",
       "| king   | spades | 0      |\n",
       "| queen  | spades | 0      |\n",
       "| jack   | spades | 0      |\n",
       "| ten    | spades | 0      |\n",
       "| nine   | spades | 0      |\n",
       "\n"
      ],
      "text/plain": [
       "  face  suit   value\n",
       "1 king  spades 0    \n",
       "2 queen spades 0    \n",
       "3 jack  spades 0    \n",
       "4 ten   spades 0    \n",
       "5 nine  spades 0    "
      ]
     },
     "metadata": {},
     "output_type": "display_data"
    }
   ],
   "source": [
    "deck4 <- deck\n",
    "deck4$value <- 0            #setting all values to 0\n",
    "head(deck4, 5)"
   ]
  },
  {
   "cell_type": "markdown",
   "id": "22a39e5d-2c75-4645-a015-70f681c97bb3",
   "metadata": {},
   "source": [
    "1. Assigning 1 to every card with a suit of heart"
   ]
  },
  {
   "cell_type": "code",
   "execution_count": 186,
   "id": "4e06abfe-8782-4dea-acd6-3420a3bf7c34",
   "metadata": {},
   "outputs": [
    {
     "data": {
      "text/html": [
       "<ol class=list-inline>\n",
       "\t<li>FALSE</li>\n",
       "\t<li>FALSE</li>\n",
       "\t<li>FALSE</li>\n",
       "\t<li>FALSE</li>\n",
       "\t<li>FALSE</li>\n",
       "\t<li>FALSE</li>\n",
       "\t<li>FALSE</li>\n",
       "\t<li>FALSE</li>\n",
       "\t<li>FALSE</li>\n",
       "\t<li>FALSE</li>\n",
       "\t<li>FALSE</li>\n",
       "\t<li>FALSE</li>\n",
       "\t<li>FALSE</li>\n",
       "\t<li>FALSE</li>\n",
       "\t<li>FALSE</li>\n",
       "\t<li>FALSE</li>\n",
       "\t<li>FALSE</li>\n",
       "\t<li>FALSE</li>\n",
       "\t<li>FALSE</li>\n",
       "\t<li>FALSE</li>\n",
       "\t<li>FALSE</li>\n",
       "\t<li>FALSE</li>\n",
       "\t<li>FALSE</li>\n",
       "\t<li>FALSE</li>\n",
       "\t<li>FALSE</li>\n",
       "\t<li>FALSE</li>\n",
       "\t<li>FALSE</li>\n",
       "\t<li>FALSE</li>\n",
       "\t<li>FALSE</li>\n",
       "\t<li>FALSE</li>\n",
       "\t<li>FALSE</li>\n",
       "\t<li>FALSE</li>\n",
       "\t<li>FALSE</li>\n",
       "\t<li>FALSE</li>\n",
       "\t<li>FALSE</li>\n",
       "\t<li>FALSE</li>\n",
       "\t<li>FALSE</li>\n",
       "\t<li>FALSE</li>\n",
       "\t<li>FALSE</li>\n",
       "\t<li>TRUE</li>\n",
       "\t<li>TRUE</li>\n",
       "\t<li>TRUE</li>\n",
       "\t<li>TRUE</li>\n",
       "\t<li>TRUE</li>\n",
       "\t<li>TRUE</li>\n",
       "\t<li>TRUE</li>\n",
       "\t<li>TRUE</li>\n",
       "\t<li>TRUE</li>\n",
       "\t<li>TRUE</li>\n",
       "\t<li>TRUE</li>\n",
       "\t<li>TRUE</li>\n",
       "\t<li>TRUE</li>\n",
       "</ol>\n"
      ],
      "text/latex": [
       "\\begin{enumerate*}\n",
       "\\item FALSE\n",
       "\\item FALSE\n",
       "\\item FALSE\n",
       "\\item FALSE\n",
       "\\item FALSE\n",
       "\\item FALSE\n",
       "\\item FALSE\n",
       "\\item FALSE\n",
       "\\item FALSE\n",
       "\\item FALSE\n",
       "\\item FALSE\n",
       "\\item FALSE\n",
       "\\item FALSE\n",
       "\\item FALSE\n",
       "\\item FALSE\n",
       "\\item FALSE\n",
       "\\item FALSE\n",
       "\\item FALSE\n",
       "\\item FALSE\n",
       "\\item FALSE\n",
       "\\item FALSE\n",
       "\\item FALSE\n",
       "\\item FALSE\n",
       "\\item FALSE\n",
       "\\item FALSE\n",
       "\\item FALSE\n",
       "\\item FALSE\n",
       "\\item FALSE\n",
       "\\item FALSE\n",
       "\\item FALSE\n",
       "\\item FALSE\n",
       "\\item FALSE\n",
       "\\item FALSE\n",
       "\\item FALSE\n",
       "\\item FALSE\n",
       "\\item FALSE\n",
       "\\item FALSE\n",
       "\\item FALSE\n",
       "\\item FALSE\n",
       "\\item TRUE\n",
       "\\item TRUE\n",
       "\\item TRUE\n",
       "\\item TRUE\n",
       "\\item TRUE\n",
       "\\item TRUE\n",
       "\\item TRUE\n",
       "\\item TRUE\n",
       "\\item TRUE\n",
       "\\item TRUE\n",
       "\\item TRUE\n",
       "\\item TRUE\n",
       "\\item TRUE\n",
       "\\end{enumerate*}\n"
      ],
      "text/markdown": [
       "1. FALSE\n",
       "2. FALSE\n",
       "3. FALSE\n",
       "4. FALSE\n",
       "5. FALSE\n",
       "6. FALSE\n",
       "7. FALSE\n",
       "8. FALSE\n",
       "9. FALSE\n",
       "10. FALSE\n",
       "11. FALSE\n",
       "12. FALSE\n",
       "13. FALSE\n",
       "14. FALSE\n",
       "15. FALSE\n",
       "16. FALSE\n",
       "17. FALSE\n",
       "18. FALSE\n",
       "19. FALSE\n",
       "20. FALSE\n",
       "21. FALSE\n",
       "22. FALSE\n",
       "23. FALSE\n",
       "24. FALSE\n",
       "25. FALSE\n",
       "26. FALSE\n",
       "27. FALSE\n",
       "28. FALSE\n",
       "29. FALSE\n",
       "30. FALSE\n",
       "31. FALSE\n",
       "32. FALSE\n",
       "33. FALSE\n",
       "34. FALSE\n",
       "35. FALSE\n",
       "36. FALSE\n",
       "37. FALSE\n",
       "38. FALSE\n",
       "39. FALSE\n",
       "40. TRUE\n",
       "41. TRUE\n",
       "42. TRUE\n",
       "43. TRUE\n",
       "44. TRUE\n",
       "45. TRUE\n",
       "46. TRUE\n",
       "47. TRUE\n",
       "48. TRUE\n",
       "49. TRUE\n",
       "50. TRUE\n",
       "51. TRUE\n",
       "52. TRUE\n",
       "\n",
       "\n"
      ],
      "text/plain": [
       " [1] FALSE FALSE FALSE FALSE FALSE FALSE FALSE FALSE FALSE FALSE FALSE FALSE\n",
       "[13] FALSE FALSE FALSE FALSE FALSE FALSE FALSE FALSE FALSE FALSE FALSE FALSE\n",
       "[25] FALSE FALSE FALSE FALSE FALSE FALSE FALSE FALSE FALSE FALSE FALSE FALSE\n",
       "[37] FALSE FALSE FALSE  TRUE  TRUE  TRUE  TRUE  TRUE  TRUE  TRUE  TRUE  TRUE\n",
       "[49]  TRUE  TRUE  TRUE  TRUE"
      ]
     },
     "metadata": {},
     "output_type": "display_data"
    }
   ],
   "source": [
    "#writing a test that identifies and the hearts.\n",
    "deck4$suit == \"hearts\" "
   ]
  },
  {
   "cell_type": "code",
   "execution_count": 190,
   "id": "e7f9b997-5ba3-456f-a982-d6e86c3ae94b",
   "metadata": {},
   "outputs": [
    {
     "data": {
      "text/html": [
       "<ol class=list-inline>\n",
       "\t<li>0</li>\n",
       "\t<li>0</li>\n",
       "\t<li>0</li>\n",
       "\t<li>0</li>\n",
       "\t<li>0</li>\n",
       "\t<li>0</li>\n",
       "\t<li>0</li>\n",
       "\t<li>0</li>\n",
       "\t<li>0</li>\n",
       "\t<li>0</li>\n",
       "\t<li>0</li>\n",
       "\t<li>0</li>\n",
       "\t<li>0</li>\n",
       "</ol>\n"
      ],
      "text/latex": [
       "\\begin{enumerate*}\n",
       "\\item 0\n",
       "\\item 0\n",
       "\\item 0\n",
       "\\item 0\n",
       "\\item 0\n",
       "\\item 0\n",
       "\\item 0\n",
       "\\item 0\n",
       "\\item 0\n",
       "\\item 0\n",
       "\\item 0\n",
       "\\item 0\n",
       "\\item 0\n",
       "\\end{enumerate*}\n"
      ],
      "text/markdown": [
       "1. 0\n",
       "2. 0\n",
       "3. 0\n",
       "4. 0\n",
       "5. 0\n",
       "6. 0\n",
       "7. 0\n",
       "8. 0\n",
       "9. 0\n",
       "10. 0\n",
       "11. 0\n",
       "12. 0\n",
       "13. 0\n",
       "\n",
       "\n"
      ],
      "text/plain": [
       " [1] 0 0 0 0 0 0 0 0 0 0 0 0 0"
      ]
     },
     "metadata": {},
     "output_type": "display_data"
    }
   ],
   "source": [
    "deck4$value[ deck4$suit == \"hearts\" ]       #selecting value of the cards\n"
   ]
  },
  {
   "cell_type": "code",
   "execution_count": 194,
   "id": "a87a0398-416b-459f-a02f-02895463dd3d",
   "metadata": {},
   "outputs": [
    {
     "data": {
      "text/html": [
       "<ol class=list-inline>\n",
       "\t<li>1</li>\n",
       "\t<li>1</li>\n",
       "\t<li>1</li>\n",
       "\t<li>1</li>\n",
       "\t<li>1</li>\n",
       "\t<li>1</li>\n",
       "\t<li>1</li>\n",
       "\t<li>1</li>\n",
       "\t<li>1</li>\n",
       "\t<li>1</li>\n",
       "\t<li>1</li>\n",
       "\t<li>1</li>\n",
       "\t<li>1</li>\n",
       "</ol>\n"
      ],
      "text/latex": [
       "\\begin{enumerate*}\n",
       "\\item 1\n",
       "\\item 1\n",
       "\\item 1\n",
       "\\item 1\n",
       "\\item 1\n",
       "\\item 1\n",
       "\\item 1\n",
       "\\item 1\n",
       "\\item 1\n",
       "\\item 1\n",
       "\\item 1\n",
       "\\item 1\n",
       "\\item 1\n",
       "\\end{enumerate*}\n"
      ],
      "text/markdown": [
       "1. 1\n",
       "2. 1\n",
       "3. 1\n",
       "4. 1\n",
       "5. 1\n",
       "6. 1\n",
       "7. 1\n",
       "8. 1\n",
       "9. 1\n",
       "10. 1\n",
       "11. 1\n",
       "12. 1\n",
       "13. 1\n",
       "\n",
       "\n"
      ],
      "text/plain": [
       " [1] 1 1 1 1 1 1 1 1 1 1 1 1 1"
      ]
     },
     "metadata": {},
     "output_type": "display_data"
    }
   ],
   "source": [
    "deck4$value[ deck4$suit == \"hearts\" ]  <- 1       #replacing value by one\n",
    "deck4$value[ deck4$suit == \"hearts\" ]  "
   ]
  },
  {
   "cell_type": "markdown",
   "id": "4cea7595-5894-419d-beb8-356dc68fbbfc",
   "metadata": {},
   "source": [
    "2. Queen of Spades, It's a bit hard to find her as we need to find the cards that have both a face value equal to queen and a suit value equal to spades.\n",
    "so we use Boolean operators.\n",
    "### 3.2.2 Boolean Operator \n",
    "They combine multiple logical tests together into a single test, (AND, OR, NOT)"
   ]
  },
  {
   "cell_type": "code",
   "execution_count": 200,
   "id": "9b3dedd7-aea5-424d-8f40-ec9d69079df3",
   "metadata": {},
   "outputs": [
    {
     "data": {
      "text/html": [
       "<ol class=list-inline>\n",
       "\t<li>TRUE</li>\n",
       "\t<li>TRUE</li>\n",
       "\t<li>TRUE</li>\n",
       "</ol>\n"
      ],
      "text/latex": [
       "\\begin{enumerate*}\n",
       "\\item TRUE\n",
       "\\item TRUE\n",
       "\\item TRUE\n",
       "\\end{enumerate*}\n"
      ],
      "text/markdown": [
       "1. TRUE\n",
       "2. TRUE\n",
       "3. TRUE\n",
       "\n",
       "\n"
      ],
      "text/plain": [
       "[1] TRUE TRUE TRUE"
      ]
     },
     "metadata": {},
     "output_type": "display_data"
    },
    {
     "data": {
      "text/html": [
       "<ol class=list-inline>\n",
       "\t<li>TRUE</li>\n",
       "\t<li>TRUE</li>\n",
       "\t<li>FALSE</li>\n",
       "</ol>\n"
      ],
      "text/latex": [
       "\\begin{enumerate*}\n",
       "\\item TRUE\n",
       "\\item TRUE\n",
       "\\item FALSE\n",
       "\\end{enumerate*}\n"
      ],
      "text/markdown": [
       "1. TRUE\n",
       "2. TRUE\n",
       "3. FALSE\n",
       "\n",
       "\n"
      ],
      "text/plain": [
       "[1]  TRUE  TRUE FALSE"
      ]
     },
     "metadata": {},
     "output_type": "display_data"
    },
    {
     "data": {
      "text/html": [
       "<ol class=list-inline>\n",
       "\t<li>TRUE</li>\n",
       "\t<li>TRUE</li>\n",
       "\t<li>FALSE</li>\n",
       "</ol>\n"
      ],
      "text/latex": [
       "\\begin{enumerate*}\n",
       "\\item TRUE\n",
       "\\item TRUE\n",
       "\\item FALSE\n",
       "\\end{enumerate*}\n"
      ],
      "text/markdown": [
       "1. TRUE\n",
       "2. TRUE\n",
       "3. FALSE\n",
       "\n",
       "\n"
      ],
      "text/plain": [
       "[1]  TRUE  TRUE FALSE"
      ]
     },
     "metadata": {},
     "output_type": "display_data"
    }
   ],
   "source": [
    "#use in vector, perform element wise execution\n",
    "a <- c(1, 2, 3)\n",
    "b <- c(1, 2, 3)\n",
    "c <- c(1, 2, 4)\n",
    "\n",
    "a == b\n",
    "b == c\n",
    "a == b & b == c"
   ]
  },
  {
   "cell_type": "code",
   "execution_count": 230,
   "id": "f66d36c2-a0d5-4c6c-8330-c097a4aa6593",
   "metadata": {},
   "outputs": [
    {
     "data": {
      "text/html": [
       "<ol class=list-inline>\n",
       "\t<li>FALSE</li>\n",
       "\t<li>TRUE</li>\n",
       "\t<li>FALSE</li>\n",
       "\t<li>FALSE</li>\n",
       "\t<li>FALSE</li>\n",
       "\t<li>FALSE</li>\n",
       "\t<li>FALSE</li>\n",
       "\t<li>FALSE</li>\n",
       "\t<li>FALSE</li>\n",
       "\t<li>FALSE</li>\n",
       "\t<li>FALSE</li>\n",
       "\t<li>FALSE</li>\n",
       "\t<li>FALSE</li>\n",
       "\t<li>FALSE</li>\n",
       "\t<li>FALSE</li>\n",
       "\t<li>FALSE</li>\n",
       "\t<li>FALSE</li>\n",
       "\t<li>FALSE</li>\n",
       "\t<li>FALSE</li>\n",
       "\t<li>FALSE</li>\n",
       "\t<li>FALSE</li>\n",
       "\t<li>FALSE</li>\n",
       "\t<li>FALSE</li>\n",
       "\t<li>FALSE</li>\n",
       "\t<li>FALSE</li>\n",
       "\t<li>FALSE</li>\n",
       "\t<li>FALSE</li>\n",
       "\t<li>FALSE</li>\n",
       "\t<li>FALSE</li>\n",
       "\t<li>FALSE</li>\n",
       "\t<li>FALSE</li>\n",
       "\t<li>FALSE</li>\n",
       "\t<li>FALSE</li>\n",
       "\t<li>FALSE</li>\n",
       "\t<li>FALSE</li>\n",
       "\t<li>FALSE</li>\n",
       "\t<li>FALSE</li>\n",
       "\t<li>FALSE</li>\n",
       "\t<li>FALSE</li>\n",
       "\t<li>FALSE</li>\n",
       "\t<li>FALSE</li>\n",
       "\t<li>FALSE</li>\n",
       "\t<li>FALSE</li>\n",
       "\t<li>FALSE</li>\n",
       "\t<li>FALSE</li>\n",
       "\t<li>FALSE</li>\n",
       "\t<li>FALSE</li>\n",
       "\t<li>FALSE</li>\n",
       "\t<li>FALSE</li>\n",
       "\t<li>FALSE</li>\n",
       "\t<li>FALSE</li>\n",
       "\t<li>FALSE</li>\n",
       "</ol>\n"
      ],
      "text/latex": [
       "\\begin{enumerate*}\n",
       "\\item FALSE\n",
       "\\item TRUE\n",
       "\\item FALSE\n",
       "\\item FALSE\n",
       "\\item FALSE\n",
       "\\item FALSE\n",
       "\\item FALSE\n",
       "\\item FALSE\n",
       "\\item FALSE\n",
       "\\item FALSE\n",
       "\\item FALSE\n",
       "\\item FALSE\n",
       "\\item FALSE\n",
       "\\item FALSE\n",
       "\\item FALSE\n",
       "\\item FALSE\n",
       "\\item FALSE\n",
       "\\item FALSE\n",
       "\\item FALSE\n",
       "\\item FALSE\n",
       "\\item FALSE\n",
       "\\item FALSE\n",
       "\\item FALSE\n",
       "\\item FALSE\n",
       "\\item FALSE\n",
       "\\item FALSE\n",
       "\\item FALSE\n",
       "\\item FALSE\n",
       "\\item FALSE\n",
       "\\item FALSE\n",
       "\\item FALSE\n",
       "\\item FALSE\n",
       "\\item FALSE\n",
       "\\item FALSE\n",
       "\\item FALSE\n",
       "\\item FALSE\n",
       "\\item FALSE\n",
       "\\item FALSE\n",
       "\\item FALSE\n",
       "\\item FALSE\n",
       "\\item FALSE\n",
       "\\item FALSE\n",
       "\\item FALSE\n",
       "\\item FALSE\n",
       "\\item FALSE\n",
       "\\item FALSE\n",
       "\\item FALSE\n",
       "\\item FALSE\n",
       "\\item FALSE\n",
       "\\item FALSE\n",
       "\\item FALSE\n",
       "\\item FALSE\n",
       "\\end{enumerate*}\n"
      ],
      "text/markdown": [
       "1. FALSE\n",
       "2. TRUE\n",
       "3. FALSE\n",
       "4. FALSE\n",
       "5. FALSE\n",
       "6. FALSE\n",
       "7. FALSE\n",
       "8. FALSE\n",
       "9. FALSE\n",
       "10. FALSE\n",
       "11. FALSE\n",
       "12. FALSE\n",
       "13. FALSE\n",
       "14. FALSE\n",
       "15. FALSE\n",
       "16. FALSE\n",
       "17. FALSE\n",
       "18. FALSE\n",
       "19. FALSE\n",
       "20. FALSE\n",
       "21. FALSE\n",
       "22. FALSE\n",
       "23. FALSE\n",
       "24. FALSE\n",
       "25. FALSE\n",
       "26. FALSE\n",
       "27. FALSE\n",
       "28. FALSE\n",
       "29. FALSE\n",
       "30. FALSE\n",
       "31. FALSE\n",
       "32. FALSE\n",
       "33. FALSE\n",
       "34. FALSE\n",
       "35. FALSE\n",
       "36. FALSE\n",
       "37. FALSE\n",
       "38. FALSE\n",
       "39. FALSE\n",
       "40. FALSE\n",
       "41. FALSE\n",
       "42. FALSE\n",
       "43. FALSE\n",
       "44. FALSE\n",
       "45. FALSE\n",
       "46. FALSE\n",
       "47. FALSE\n",
       "48. FALSE\n",
       "49. FALSE\n",
       "50. FALSE\n",
       "51. FALSE\n",
       "52. FALSE\n",
       "\n",
       "\n"
      ],
      "text/plain": [
       " [1] FALSE  TRUE FALSE FALSE FALSE FALSE FALSE FALSE FALSE FALSE FALSE FALSE\n",
       "[13] FALSE FALSE FALSE FALSE FALSE FALSE FALSE FALSE FALSE FALSE FALSE FALSE\n",
       "[25] FALSE FALSE FALSE FALSE FALSE FALSE FALSE FALSE FALSE FALSE FALSE FALSE\n",
       "[37] FALSE FALSE FALSE FALSE FALSE FALSE FALSE FALSE FALSE FALSE FALSE FALSE\n",
       "[49] FALSE FALSE FALSE FALSE"
      ]
     },
     "metadata": {},
     "output_type": "display_data"
    }
   ],
   "source": [
    "#finding queen of spades using & operator. \n",
    "deck4$face == \"queen\" & deck4$suit == \"spades\""
   ]
  },
  {
   "cell_type": "code",
   "execution_count": 234,
   "id": "4bd2c9d3-7a74-455c-8d54-09c673b59f9f",
   "metadata": {},
   "outputs": [
    {
     "data": {
      "text/html": [
       "0"
      ],
      "text/latex": [
       "0"
      ],
      "text/markdown": [
       "0"
      ],
      "text/plain": [
       "[1] 0"
      ]
     },
     "metadata": {},
     "output_type": "display_data"
    }
   ],
   "source": [
    "deck4$value [deck4$face == \"queen\" & deck4$suit == \"spades\"]             #representing value "
   ]
  },
  {
   "cell_type": "code",
   "execution_count": 244,
   "id": "cf7ce5f8-c4c1-4e99-a544-e08b13255efd",
   "metadata": {},
   "outputs": [
    {
     "data": {
      "text/html": [
       "13"
      ],
      "text/latex": [
       "13"
      ],
      "text/markdown": [
       "13"
      ],
      "text/plain": [
       "[1] 13"
      ]
     },
     "metadata": {},
     "output_type": "display_data"
    }
   ],
   "source": [
    "deck4$value [deck4$face == \"queen\" & deck4$suit == \"spades\"] <- 13      #replacing value\n",
    "deck4$value [deck4$face == \"queen\" & deck4$suit == \"spades\"]            #value has been changed"
   ]
  },
  {
   "cell_type": "markdown",
   "id": "a8492767-b320-4215-8b44-e84177534a1b",
   "metadata": {},
   "source": [
    "### Third Game Blackjack \n",
    "Each number card has a value equal to its face value. Each face card (king, queen, or jack) has a value of 10. Each ace has a value of 11 or 1, depending on the final results of the game."
   ]
  },
  {
   "cell_type": "code",
   "execution_count": 254,
   "id": "d17f5545-4a44-4423-b8eb-9434c4fa9cae",
   "metadata": {},
   "outputs": [
    {
     "data": {
      "text/html": [
       "<table>\n",
       "<thead><tr><th scope=col>face</th><th scope=col>suit</th><th scope=col>value</th></tr></thead>\n",
       "<tbody>\n",
       "\t<tr><td>king  </td><td>spades</td><td>13    </td></tr>\n",
       "\t<tr><td>queen </td><td>spades</td><td>12    </td></tr>\n",
       "\t<tr><td>jack  </td><td>spades</td><td>11    </td></tr>\n",
       "\t<tr><td>ten   </td><td>spades</td><td>10    </td></tr>\n",
       "\t<tr><td>nine  </td><td>spades</td><td> 9    </td></tr>\n",
       "</tbody>\n",
       "</table>\n"
      ],
      "text/latex": [
       "\\begin{tabular}{r|lll}\n",
       " face & suit & value\\\\\n",
       "\\hline\n",
       "\t king   & spades & 13    \\\\\n",
       "\t queen  & spades & 12    \\\\\n",
       "\t jack   & spades & 11    \\\\\n",
       "\t ten    & spades & 10    \\\\\n",
       "\t nine   & spades &  9    \\\\\n",
       "\\end{tabular}\n"
      ],
      "text/markdown": [
       "\n",
       "| face | suit | value |\n",
       "|---|---|---|\n",
       "| king   | spades | 13     |\n",
       "| queen  | spades | 12     |\n",
       "| jack   | spades | 11     |\n",
       "| ten    | spades | 10     |\n",
       "| nine   | spades |  9     |\n",
       "\n"
      ],
      "text/plain": [
       "  face  suit   value\n",
       "1 king  spades 13   \n",
       "2 queen spades 12   \n",
       "3 jack  spades 11   \n",
       "4 ten   spades 10   \n",
       "5 nine  spades  9   "
      ]
     },
     "metadata": {},
     "output_type": "display_data"
    }
   ],
   "source": [
    "deck5 <- deck\n",
    "head(deck5, 5)"
   ]
  },
  {
   "cell_type": "markdown",
   "id": "0cdc853e-2d69-4a79-8011-eceec3bce838",
   "metadata": {},
   "source": [
    "- using operator %in%"
   ]
  },
  {
   "cell_type": "code",
   "execution_count": 264,
   "id": "6834f186-6936-4c53-8d92-67c267b06443",
   "metadata": {},
   "outputs": [
    {
     "data": {
      "text/html": [
       "<table>\n",
       "<thead><tr><th></th><th scope=col>face</th><th scope=col>suit</th><th scope=col>value</th></tr></thead>\n",
       "<tbody>\n",
       "\t<tr><th scope=row>1</th><td>king    </td><td>spades  </td><td>13      </td></tr>\n",
       "\t<tr><th scope=row>2</th><td>queen   </td><td>spades  </td><td>12      </td></tr>\n",
       "\t<tr><th scope=row>3</th><td>jack    </td><td>spades  </td><td>11      </td></tr>\n",
       "\t<tr><th scope=row>14</th><td>king    </td><td>clubs   </td><td>13      </td></tr>\n",
       "\t<tr><th scope=row>15</th><td>queen   </td><td>clubs   </td><td>12      </td></tr>\n",
       "\t<tr><th scope=row>16</th><td>jack    </td><td>clubs   </td><td>11      </td></tr>\n",
       "\t<tr><th scope=row>27</th><td>king    </td><td>diamonds</td><td>13      </td></tr>\n",
       "\t<tr><th scope=row>28</th><td>queen   </td><td>diamonds</td><td>12      </td></tr>\n",
       "\t<tr><th scope=row>29</th><td>jack    </td><td>diamonds</td><td>11      </td></tr>\n",
       "\t<tr><th scope=row>40</th><td>king    </td><td>hearts  </td><td>13      </td></tr>\n",
       "\t<tr><th scope=row>41</th><td>queen   </td><td>hearts  </td><td>12      </td></tr>\n",
       "\t<tr><th scope=row>42</th><td>jack    </td><td>hearts  </td><td>11      </td></tr>\n",
       "</tbody>\n",
       "</table>\n"
      ],
      "text/latex": [
       "\\begin{tabular}{r|lll}\n",
       "  & face & suit & value\\\\\n",
       "\\hline\n",
       "\t1 & king     & spades   & 13      \\\\\n",
       "\t2 & queen    & spades   & 12      \\\\\n",
       "\t3 & jack     & spades   & 11      \\\\\n",
       "\t14 & king     & clubs    & 13      \\\\\n",
       "\t15 & queen    & clubs    & 12      \\\\\n",
       "\t16 & jack     & clubs    & 11      \\\\\n",
       "\t27 & king     & diamonds & 13      \\\\\n",
       "\t28 & queen    & diamonds & 12      \\\\\n",
       "\t29 & jack     & diamonds & 11      \\\\\n",
       "\t40 & king     & hearts   & 13      \\\\\n",
       "\t41 & queen    & hearts   & 12      \\\\\n",
       "\t42 & jack     & hearts   & 11      \\\\\n",
       "\\end{tabular}\n"
      ],
      "text/markdown": [
       "\n",
       "| <!--/--> | face | suit | value |\n",
       "|---|---|---|---|\n",
       "| 1 | king     | spades   | 13       |\n",
       "| 2 | queen    | spades   | 12       |\n",
       "| 3 | jack     | spades   | 11       |\n",
       "| 14 | king     | clubs    | 13       |\n",
       "| 15 | queen    | clubs    | 12       |\n",
       "| 16 | jack     | clubs    | 11       |\n",
       "| 27 | king     | diamonds | 13       |\n",
       "| 28 | queen    | diamonds | 12       |\n",
       "| 29 | jack     | diamonds | 11       |\n",
       "| 40 | king     | hearts   | 13       |\n",
       "| 41 | queen    | hearts   | 12       |\n",
       "| 42 | jack     | hearts   | 11       |\n",
       "\n"
      ],
      "text/plain": [
       "   face  suit     value\n",
       "1  king  spades   13   \n",
       "2  queen spades   12   \n",
       "3  jack  spades   11   \n",
       "14 king  clubs    13   \n",
       "15 queen clubs    12   \n",
       "16 jack  clubs    11   \n",
       "27 king  diamonds 13   \n",
       "28 queen diamonds 12   \n",
       "29 jack  diamonds 11   \n",
       "40 king  hearts   13   \n",
       "41 queen hearts   12   \n",
       "42 jack  hearts   11   "
      ]
     },
     "metadata": {},
     "output_type": "display_data"
    }
   ],
   "source": [
    "facecard <- deck5$face %in% c( \"king\", \"queen\", \"jack\")\n",
    "deck5[facecard, ]"
   ]
  },
  {
   "cell_type": "code",
   "execution_count": 270,
   "id": "21d229b8-d1a9-476b-85b5-0073e02e71a5",
   "metadata": {},
   "outputs": [
    {
     "data": {
      "text/html": [
       "<table>\n",
       "<thead><tr><th scope=col>face</th><th scope=col>suit</th><th scope=col>value</th></tr></thead>\n",
       "<tbody>\n",
       "\t<tr><td>king  </td><td>spades</td><td>10    </td></tr>\n",
       "\t<tr><td>queen </td><td>spades</td><td>10    </td></tr>\n",
       "\t<tr><td>jack  </td><td>spades</td><td>10    </td></tr>\n",
       "\t<tr><td>ten   </td><td>spades</td><td>10    </td></tr>\n",
       "\t<tr><td>nine  </td><td>spades</td><td> 9    </td></tr>\n",
       "\t<tr><td>eight </td><td>spades</td><td> 8    </td></tr>\n",
       "\t<tr><td>seven </td><td>spades</td><td> 7    </td></tr>\n",
       "\t<tr><td>six   </td><td>spades</td><td> 6    </td></tr>\n",
       "\t<tr><td>five  </td><td>spades</td><td> 5    </td></tr>\n",
       "\t<tr><td>four  </td><td>spades</td><td> 4    </td></tr>\n",
       "\t<tr><td>three </td><td>spades</td><td> 3    </td></tr>\n",
       "\t<tr><td>two   </td><td>spades</td><td> 2    </td></tr>\n",
       "\t<tr><td>ace   </td><td>spades</td><td> 1    </td></tr>\n",
       "</tbody>\n",
       "</table>\n"
      ],
      "text/latex": [
       "\\begin{tabular}{r|lll}\n",
       " face & suit & value\\\\\n",
       "\\hline\n",
       "\t king   & spades & 10    \\\\\n",
       "\t queen  & spades & 10    \\\\\n",
       "\t jack   & spades & 10    \\\\\n",
       "\t ten    & spades & 10    \\\\\n",
       "\t nine   & spades &  9    \\\\\n",
       "\t eight  & spades &  8    \\\\\n",
       "\t seven  & spades &  7    \\\\\n",
       "\t six    & spades &  6    \\\\\n",
       "\t five   & spades &  5    \\\\\n",
       "\t four   & spades &  4    \\\\\n",
       "\t three  & spades &  3    \\\\\n",
       "\t two    & spades &  2    \\\\\n",
       "\t ace    & spades &  1    \\\\\n",
       "\\end{tabular}\n"
      ],
      "text/markdown": [
       "\n",
       "| face | suit | value |\n",
       "|---|---|---|\n",
       "| king   | spades | 10     |\n",
       "| queen  | spades | 10     |\n",
       "| jack   | spades | 10     |\n",
       "| ten    | spades | 10     |\n",
       "| nine   | spades |  9     |\n",
       "| eight  | spades |  8     |\n",
       "| seven  | spades |  7     |\n",
       "| six    | spades |  6     |\n",
       "| five   | spades |  5     |\n",
       "| four   | spades |  4     |\n",
       "| three  | spades |  3     |\n",
       "| two    | spades |  2     |\n",
       "| ace    | spades |  1     |\n",
       "\n"
      ],
      "text/plain": [
       "   face  suit   value\n",
       "1  king  spades 10   \n",
       "2  queen spades 10   \n",
       "3  jack  spades 10   \n",
       "4  ten   spades 10   \n",
       "5  nine  spades  9   \n",
       "6  eight spades  8   \n",
       "7  seven spades  7   \n",
       "8  six   spades  6   \n",
       "9  five  spades  5   \n",
       "10 four  spades  4   \n",
       "11 three spades  3   \n",
       "12 two   spades  2   \n",
       "13 ace   spades  1   "
      ]
     },
     "metadata": {},
     "output_type": "display_data"
    }
   ],
   "source": [
    "deck5$value [facecard] <- 10            #values changed\n",
    "head(deck5,13)"
   ]
  },
  {
   "cell_type": "markdown",
   "id": "dd723ba9-f39d-41d3-a6ac-5c7b4de2d5bc",
   "metadata": {},
   "source": [
    "We are not sure about the value we can assign aces because their exact value will change from hand to hand. At the end of each hand, an ace will be equal to 11 if the sum of the player’s cards does not exceed 21. Otherwise, the ace will equal 1. \n",
    "- The actual value of the ace will depend on the other cards in the player’s hand. This is a case of missing information. Right now we don't have enough information to assign a correct point value to the ace cards."
   ]
  },
  {
   "cell_type": "markdown",
   "id": "24e83292-c53a-46b8-9e23-8fdf6a4f3348",
   "metadata": {},
   "source": [
    "##  3.3 Missing information\n",
    "- Measurement was lost, corrupted, or never taken to begin with,this problem usually occurs in data science, but there is a way to manage missing values in R. \n",
    "- The NA character is a special symbol in R. It stands for “not available” and can be used as a placeholder for missing information"
   ]
  },
  {
   "cell_type": "code",
   "execution_count": 280,
   "id": "e6b574f1-1ca7-41eb-8cdf-d8f696c6e22a",
   "metadata": {},
   "outputs": [
    {
     "data": {
      "text/html": [
       "&lt;NA&gt;"
      ],
      "text/latex": [
       "<NA>"
      ],
      "text/markdown": [
       "&lt;NA&gt;"
      ],
      "text/plain": [
       "[1] NA"
      ]
     },
     "metadata": {},
     "output_type": "display_data"
    }
   ],
   "source": [
    "1 + NA      #adding NA to a value \n",
    "#R will return a second piece of missing information. We don't have enough information to determine the result."
   ]
  },
  {
   "cell_type": "markdown",
   "id": "9228b255-75a9-4967-a84f-e4503e2eac95",
   "metadata": {},
   "source": [
    "### 3.3.1 na.rm"
   ]
  },
  {
   "cell_type": "code",
   "execution_count": 283,
   "id": "8d08c06d-188b-47fd-a099-94c2c459fcd0",
   "metadata": {},
   "outputs": [
    {
     "data": {
      "text/html": [
       "<ol class=list-inline>\n",
       "\t<li>&lt;NA&gt;</li>\n",
       "\t<li>1</li>\n",
       "\t<li>2</li>\n",
       "\t<li>3</li>\n",
       "\t<li>4</li>\n",
       "\t<li>5</li>\n",
       "\t<li>6</li>\n",
       "\t<li>7</li>\n",
       "\t<li>8</li>\n",
       "\t<li>9</li>\n",
       "\t<li>10</li>\n",
       "</ol>\n"
      ],
      "text/latex": [
       "\\begin{enumerate*}\n",
       "\\item <NA>\n",
       "\\item 1\n",
       "\\item 2\n",
       "\\item 3\n",
       "\\item 4\n",
       "\\item 5\n",
       "\\item 6\n",
       "\\item 7\n",
       "\\item 8\n",
       "\\item 9\n",
       "\\item 10\n",
       "\\end{enumerate*}\n"
      ],
      "text/markdown": [
       "1. &lt;NA&gt;\n",
       "2. 1\n",
       "3. 2\n",
       "4. 3\n",
       "5. 4\n",
       "6. 5\n",
       "7. 6\n",
       "8. 7\n",
       "9. 8\n",
       "10. 9\n",
       "11. 10\n",
       "\n",
       "\n"
      ],
      "text/plain": [
       " [1] NA  1  2  3  4  5  6  7  8  9 10"
      ]
     },
     "metadata": {},
     "output_type": "display_data"
    },
    {
     "data": {
      "text/html": [
       "&lt;NA&gt;"
      ],
      "text/latex": [
       "<NA>"
      ],
      "text/markdown": [
       "&lt;NA&gt;"
      ],
      "text/plain": [
       "[1] NA"
      ]
     },
     "metadata": {},
     "output_type": "display_data"
    }
   ],
   "source": [
    "c(NA, 1:10)      \n",
    "mean(c(NA, 1:50))        #If one of the values is NA, the result will be NA"
   ]
  },
  {
   "cell_type": "markdown",
   "id": "1fb6b3dd-8914-4a01-b78c-794a4e262560",
   "metadata": {},
   "source": [
    "- Most R functions come with the optional argument, na.rm, which stands for NA remove. R will ignore NAs when it evaluates a function if you add the argument na.rm = TRUE."
   ]
  },
  {
   "cell_type": "code",
   "execution_count": 287,
   "id": "b5138e7b-1eef-4dfc-bccd-88762412fb24",
   "metadata": {},
   "outputs": [
    {
     "data": {
      "text/html": [
       "25.5"
      ],
      "text/latex": [
       "25.5"
      ],
      "text/markdown": [
       "25.5"
      ],
      "text/plain": [
       "[1] 25.5"
      ]
     },
     "metadata": {},
     "output_type": "display_data"
    }
   ],
   "source": [
    "mean(c(NA, 1:50), na.rm = TRUE)"
   ]
  },
  {
   "cell_type": "markdown",
   "id": "0836d123-bcfd-48fd-9c71-345da9418977",
   "metadata": {},
   "source": [
    "### 3.3.2 is.na\n",
    "If something is a missing value, any logical test that uses it will return a missing value, even this test:"
   ]
  },
  {
   "cell_type": "code",
   "execution_count": 289,
   "id": "d146d8fa-1d88-4916-8b81-2bbcf959b556",
   "metadata": {},
   "outputs": [
    {
     "data": {
      "text/html": [
       "&lt;NA&gt;"
      ],
      "text/latex": [
       "<NA>"
      ],
      "text/markdown": [
       "&lt;NA&gt;"
      ],
      "text/plain": [
       "[1] NA"
      ]
     },
     "metadata": {},
     "output_type": "display_data"
    }
   ],
   "source": [
    "NA == NA       "
   ]
  },
  {
   "cell_type": "code",
   "execution_count": 291,
   "id": "e65a03b1-ddd6-488b-b7b0-5c0be8c66b9b",
   "metadata": {},
   "outputs": [
    {
     "data": {
      "text/html": [
       "<ol class=list-inline>\n",
       "\t<li>&lt;NA&gt;</li>\n",
       "\t<li>&lt;NA&gt;</li>\n",
       "\t<li>&lt;NA&gt;</li>\n",
       "\t<li>&lt;NA&gt;</li>\n",
       "</ol>\n"
      ],
      "text/latex": [
       "\\begin{enumerate*}\n",
       "\\item <NA>\n",
       "\\item <NA>\n",
       "\\item <NA>\n",
       "\\item <NA>\n",
       "\\end{enumerate*}\n"
      ],
      "text/markdown": [
       "1. &lt;NA&gt;\n",
       "2. &lt;NA&gt;\n",
       "3. &lt;NA&gt;\n",
       "4. &lt;NA&gt;\n",
       "\n",
       "\n"
      ],
      "text/plain": [
       "[1] NA NA NA NA"
      ]
     },
     "metadata": {},
     "output_type": "display_data"
    }
   ],
   "source": [
    "c(1, 2, 3, NA) == NA       #tests like this won’t help you find missing values, as the output will be NA"
   ]
  },
  {
   "cell_type": "markdown",
   "id": "db64e9d8-e3e7-4edb-a1dc-313b4050ad9a",
   "metadata": {},
   "source": [
    "R supplies a special function that can test whether a value is an NA. The function is named is.na:"
   ]
  },
  {
   "cell_type": "code",
   "execution_count": 295,
   "id": "c0110141-5739-46c2-9644-fd2f91055643",
   "metadata": {},
   "outputs": [
    {
     "data": {
      "text/html": [
       "TRUE"
      ],
      "text/latex": [
       "TRUE"
      ],
      "text/markdown": [
       "TRUE"
      ],
      "text/plain": [
       "[1] TRUE"
      ]
     },
     "metadata": {},
     "output_type": "display_data"
    }
   ],
   "source": [
    "is.na(NA)"
   ]
  },
  {
   "cell_type": "code",
   "execution_count": 297,
   "id": "cfac4220-76ac-49cc-abbc-211bbe3d772f",
   "metadata": {},
   "outputs": [
    {
     "data": {
      "text/html": [
       "<ol class=list-inline>\n",
       "\t<li>FALSE</li>\n",
       "\t<li>FALSE</li>\n",
       "\t<li>FALSE</li>\n",
       "\t<li>TRUE</li>\n",
       "</ol>\n"
      ],
      "text/latex": [
       "\\begin{enumerate*}\n",
       "\\item FALSE\n",
       "\\item FALSE\n",
       "\\item FALSE\n",
       "\\item TRUE\n",
       "\\end{enumerate*}\n"
      ],
      "text/markdown": [
       "1. FALSE\n",
       "2. FALSE\n",
       "3. FALSE\n",
       "4. TRUE\n",
       "\n",
       "\n"
      ],
      "text/plain": [
       "[1] FALSE FALSE FALSE  TRUE"
      ]
     },
     "metadata": {},
     "output_type": "display_data"
    }
   ],
   "source": [
    "vec <- c(1, 2, 3, NA)\n",
    "is.na(vec)"
   ]
  },
  {
   "cell_type": "markdown",
   "id": "3cf5189b-f9e8-4c95-ad8d-598544fd3cbd",
   "metadata": {},
   "source": [
    "- We will set the value of all our aces to NA. This will accomplish two things: \n",
    "1. First, it will remind that we do not know the final value of each ace. \n",
    "2. Second, it will prevent from accidentally scoring a hand that has an ace before we determine the ace’s final value."
   ]
  },
  {
   "cell_type": "code",
   "execution_count": 302,
   "id": "38564c1d-37f0-4266-b1ad-e88eb9386bb5",
   "metadata": {},
   "outputs": [],
   "source": [
    "deck5$value[deck5$face == \"ace\"] <- NA         #setting value of ace to NA"
   ]
  },
  {
   "cell_type": "code",
   "execution_count": 304,
   "id": "b090e592-5646-4dc6-81b4-d703db263683",
   "metadata": {},
   "outputs": [
    {
     "data": {
      "text/html": [
       "<table>\n",
       "<thead><tr><th scope=col>face</th><th scope=col>suit</th><th scope=col>value</th></tr></thead>\n",
       "<tbody>\n",
       "\t<tr><td>king  </td><td>spades</td><td>10    </td></tr>\n",
       "\t<tr><td>queen </td><td>spades</td><td>10    </td></tr>\n",
       "\t<tr><td>jack  </td><td>spades</td><td>10    </td></tr>\n",
       "\t<tr><td>ten   </td><td>spades</td><td>10    </td></tr>\n",
       "\t<tr><td>nine  </td><td>spades</td><td> 9    </td></tr>\n",
       "\t<tr><td>eight </td><td>spades</td><td> 8    </td></tr>\n",
       "\t<tr><td>seven </td><td>spades</td><td> 7    </td></tr>\n",
       "\t<tr><td>six   </td><td>spades</td><td> 6    </td></tr>\n",
       "\t<tr><td>five  </td><td>spades</td><td> 5    </td></tr>\n",
       "\t<tr><td>four  </td><td>spades</td><td> 4    </td></tr>\n",
       "\t<tr><td>three </td><td>spades</td><td> 3    </td></tr>\n",
       "\t<tr><td>two   </td><td>spades</td><td> 2    </td></tr>\n",
       "\t<tr><td>ace   </td><td>spades</td><td>NA    </td></tr>\n",
       "</tbody>\n",
       "</table>\n"
      ],
      "text/latex": [
       "\\begin{tabular}{r|lll}\n",
       " face & suit & value\\\\\n",
       "\\hline\n",
       "\t king   & spades & 10    \\\\\n",
       "\t queen  & spades & 10    \\\\\n",
       "\t jack   & spades & 10    \\\\\n",
       "\t ten    & spades & 10    \\\\\n",
       "\t nine   & spades &  9    \\\\\n",
       "\t eight  & spades &  8    \\\\\n",
       "\t seven  & spades &  7    \\\\\n",
       "\t six    & spades &  6    \\\\\n",
       "\t five   & spades &  5    \\\\\n",
       "\t four   & spades &  4    \\\\\n",
       "\t three  & spades &  3    \\\\\n",
       "\t two    & spades &  2    \\\\\n",
       "\t ace    & spades & NA    \\\\\n",
       "\\end{tabular}\n"
      ],
      "text/markdown": [
       "\n",
       "| face | suit | value |\n",
       "|---|---|---|\n",
       "| king   | spades | 10     |\n",
       "| queen  | spades | 10     |\n",
       "| jack   | spades | 10     |\n",
       "| ten    | spades | 10     |\n",
       "| nine   | spades |  9     |\n",
       "| eight  | spades |  8     |\n",
       "| seven  | spades |  7     |\n",
       "| six    | spades |  6     |\n",
       "| five   | spades |  5     |\n",
       "| four   | spades |  4     |\n",
       "| three  | spades |  3     |\n",
       "| two    | spades |  2     |\n",
       "| ace    | spades | NA     |\n",
       "\n"
      ],
      "text/plain": [
       "   face  suit   value\n",
       "1  king  spades 10   \n",
       "2  queen spades 10   \n",
       "3  jack  spades 10   \n",
       "4  ten   spades 10   \n",
       "5  nine  spades  9   \n",
       "6  eight spades  8   \n",
       "7  seven spades  7   \n",
       "8  six   spades  6   \n",
       "9  five  spades  5   \n",
       "10 four  spades  4   \n",
       "11 three spades  3   \n",
       "12 two   spades  2   \n",
       "13 ace   spades NA   "
      ]
     },
     "metadata": {},
     "output_type": "display_data"
    }
   ],
   "source": [
    "head(deck5, 13)"
   ]
  },
  {
   "cell_type": "markdown",
   "id": "3b658453-3854-42aa-a750-c13d5104af6f",
   "metadata": {},
   "source": [
    "The Deck is now ready to play blackjack."
   ]
  },
  {
   "cell_type": "code",
   "execution_count": null,
   "id": "e85cb8ad-23ae-4ef3-b26d-bb32a7de9e69",
   "metadata": {},
   "outputs": [],
   "source": []
  }
 ],
 "metadata": {
  "kernelspec": {
   "display_name": "R [conda env:base] *",
   "language": "R",
   "name": "conda-base-r"
  },
  "language_info": {
   "codemirror_mode": "r",
   "file_extension": ".r",
   "mimetype": "text/x-r-source",
   "name": "R",
   "pygments_lexer": "r",
   "version": "3.6.1"
  }
 },
 "nbformat": 4,
 "nbformat_minor": 5
}
