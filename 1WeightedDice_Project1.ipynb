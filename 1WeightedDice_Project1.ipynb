{
 "cells": [
  {
   "cell_type": "markdown",
   "id": "ae71af10-7b40-4253-a37d-575250729da8",
   "metadata": {},
   "source": [
    "### DAY 1 | Jan 28th, 2025 \n",
    "# The Basics Of R language \n",
    "## Project 1 : Weighted Dice\n",
    "#### Using R to build a pair of dice that generates random numbers upon rolling\n",
    "### 1.1 Syntax \n",
    "The interface is quite user-friendly. A fresh prompt is displayed for every next command.\n",
    "Let's perform an operation to better understand. "
   ]
  },
  {
   "cell_type": "code",
   "execution_count": null,
   "id": "c6ac9fc9-42cb-4754-88b7-60c1bf6d803e",
   "metadata": {},
   "outputs": [],
   "source": [
    "1+1 "
   ]
  },
  {
   "cell_type": "markdown",
   "id": "617e0c50-8f83-44b4-9814-6d4031123682",
   "metadata": {},
   "source": [
    "Using R as a Calculator"
   ]
  },
  {
   "cell_type": "code",
   "execution_count": null,
   "id": "ff0660e1-f5e3-40b2-858c-201e8b2be5d7",
   "metadata": {},
   "outputs": [],
   "source": [
    "6*5\n",
    "8-9\n",
    "6/(4-1)  "
   ]
  },
  {
   "cell_type": "markdown",
   "id": "b5ded33a-ebee-4d6c-b51e-e397bfb58262",
   "metadata": {},
   "source": [
    "### The colon operator ( : ) \n",
    "It returns all the integers between two integers. It is an easy way to create a sequence of numbers.\n",
    "For example"
   ]
  },
  {
   "cell_type": "code",
   "execution_count": null,
   "id": "b83e666c-5c65-42f3-af29-58810d08a9ab",
   "metadata": {},
   "outputs": [],
   "source": [
    "10:15"
   ]
  },
  {
   "cell_type": "markdown",
   "id": "884dd21d-a141-451d-8188-d0fb12224477",
   "metadata": {},
   "source": [
    "### 1.2 OBJECTS \n",
    "R lets you save data by storing it inside an R object. An object is used to call up stored data. "
   ]
  },
  {
   "cell_type": "code",
   "execution_count": null,
   "id": "3968dcb3-10f6-4903-9b27-dc783eeb4a00",
   "metadata": {},
   "outputs": [],
   "source": [
    "1:6"
   ]
  },
  {
   "cell_type": "markdown",
   "id": "26406288-4a3f-4f9c-800d-6cb0bb079506",
   "metadata": {},
   "source": [
    "- Running 1:6 generated a vector of numbers but that vector isn't saved in the computer’s memory.\n",
    "- These are the footprints of six numbers that existed briefly and then melted back in the computer’s RAM.\n",
    "- To use these numbers again, we save them by creating an R object."
   ]
  },
  {
   "cell_type": "markdown",
   "id": "7541e0c4-c331-40e9-86dd-3590174f719e",
   "metadata": {},
   "source": [
    "The symbol <- assigns a value to any variable, this creates an object. "
   ]
  },
  {
   "cell_type": "code",
   "execution_count": null,
   "id": "a89ad1a8-5c8e-400a-8bdd-84168ba4d1b1",
   "metadata": {},
   "outputs": [],
   "source": [
    "a <- 10\n",
    "b <- 20"
   ]
  },
  {
   "cell_type": "markdown",
   "id": "5965c6d5-b2bd-465b-8d01-a4e5b02964a0",
   "metadata": {},
   "source": [
    "when you tyoe the objects name, the value it holds is given in output "
   ]
  },
  {
   "cell_type": "code",
   "execution_count": null,
   "id": "d536fde2-dd0c-4e2f-9628-f43309622a92",
   "metadata": {},
   "outputs": [],
   "source": [
    "a"
   ]
  },
  {
   "cell_type": "markdown",
   "id": "ec37e1ab-c278-4701-91a0-162efd273c70",
   "metadata": {},
   "source": [
    "objects can be used to perform calculations, such as "
   ]
  },
  {
   "cell_type": "code",
   "execution_count": null,
   "id": "1a6e095e-91f4-48fb-8292-d744446b74ed",
   "metadata": {},
   "outputs": [],
   "source": [
    "b - 5 "
   ]
  },
  {
   "cell_type": "markdown",
   "id": "d1d827a8-0411-4a05-9aee-fc33efe23ef6",
   "metadata": {},
   "source": [
    "Now, assigning the values 1:6 to the object \"die\" "
   ]
  },
  {
   "cell_type": "code",
   "execution_count": 5,
   "id": "983f5e53-d43c-4a09-81be-940b5b9c08af",
   "metadata": {},
   "outputs": [],
   "source": [
    "die <- 1:6     #die has 6 important pieces of information: when you roll a die, it results from 1 to 6 numbers \n",
    "               #work on saving these numbers first, then consider a method for “rolling” die."
   ]
  },
  {
   "cell_type": "code",
   "execution_count": 7,
   "id": "49a8b94f-cace-4281-b3dc-ffc300e268b5",
   "metadata": {},
   "outputs": [
    {
     "data": {
      "text/html": [
       "<ol class=list-inline>\n",
       "\t<li>1</li>\n",
       "\t<li>2</li>\n",
       "\t<li>3</li>\n",
       "\t<li>4</li>\n",
       "\t<li>5</li>\n",
       "\t<li>6</li>\n",
       "</ol>\n"
      ],
      "text/latex": [
       "\\begin{enumerate*}\n",
       "\\item 1\n",
       "\\item 2\n",
       "\\item 3\n",
       "\\item 4\n",
       "\\item 5\n",
       "\\item 6\n",
       "\\end{enumerate*}\n"
      ],
      "text/markdown": [
       "1. 1\n",
       "2. 2\n",
       "3. 3\n",
       "4. 4\n",
       "5. 5\n",
       "6. 6\n",
       "\n",
       "\n"
      ],
      "text/plain": [
       "[1] 1 2 3 4 5 6"
      ]
     },
     "metadata": {},
     "output_type": "display_data"
    }
   ],
   "source": [
    "die"
   ]
  },
  {
   "cell_type": "markdown",
   "id": "0000e049-d2ce-433a-bb66-6909c63d6ab3",
   "metadata": {},
   "source": [
    "It is advised to not use names that are already taken as R will overwrite any previous information stored in an object without asking you for permission."
   ]
  },
  {
   "cell_type": "code",
   "execution_count": null,
   "id": "df754de4-59b0-4867-a5b9-953c7224996b",
   "metadata": {},
   "outputs": [],
   "source": [
    "a <- 30"
   ]
  },
  {
   "cell_type": "markdown",
   "id": "2fe31931-8951-4ba7-baff-3b997c5bb9eb",
   "metadata": {},
   "source": [
    "Now when we give the command for object a, 30 is given in output instead of 10 as the value of object \"a\" was overwritten. "
   ]
  },
  {
   "cell_type": "code",
   "execution_count": null,
   "id": "90587d8a-8c73-4714-8780-aa600cfb66a1",
   "metadata": {},
   "outputs": [],
   "source": [
    "a"
   ]
  },
  {
   "cell_type": "markdown",
   "id": "3d1db50e-849c-4a01-8b00-ef63153070da",
   "metadata": {},
   "source": [
    "### 1.3 The function ls()\n",
    "It is used to see the names of the objects already used."
   ]
  },
  {
   "cell_type": "code",
   "execution_count": null,
   "id": "cefb542b-c618-4589-af40-44c95b4d3b99",
   "metadata": {},
   "outputs": [],
   "source": [
    "ls() "
   ]
  },
  {
   "cell_type": "markdown",
   "id": "0a9c5b46-b212-46e1-aa4d-b00ffc28492f",
   "metadata": {},
   "source": [
    "### 1.4 Element-Wise Execution\n",
    "- R uses element-wise execution. \n",
    "#### Importance: \n",
    "This feature manipulates groups of values in an orderly way. \n",
    "When working with data sets, it ensures that values from one case are only paired with values from the same case."
   ]
  },
  {
   "cell_type": "markdown",
   "id": "c6de9152-1404-4797-8034-06b4bfe62d4e",
   "metadata": {},
   "source": [
    "- When you manipulate a set of numbers, R will apply the same operation to each element in the set. \n",
    "- For example, when you run die - 1, R subtracts one from each element of die."
   ]
  },
  {
   "cell_type": "code",
   "execution_count": null,
   "id": "7de4226e-8184-45d1-b601-048a111f1557",
   "metadata": {},
   "outputs": [],
   "source": [
    "die -1 "
   ]
  },
  {
   "cell_type": "markdown",
   "id": "39f51572-0542-451a-a38c-463b58a6697b",
   "metadata": {},
   "source": [
    "#### Using two or more vectors in an operation\n",
    "- R will line up the vectors and perform a sequence of individual operations. \n",
    "- For example, when you run die * die, R lines up the two die vectors and then multiplies the first element of vector 1 by the first element of vector 2 until every element has been multiplied. The result will be a new vector the same length as the first two."
   ]
  },
  {
   "cell_type": "code",
   "execution_count": null,
   "id": "37bbee97-18ab-4b18-a1bf-c50242620491",
   "metadata": {},
   "outputs": [],
   "source": [
    "die*die"
   ]
  },
  {
   "cell_type": "markdown",
   "id": "86a9e8d6-1d48-4a07-b205-bd9a9ff1f2c4",
   "metadata": {},
   "source": [
    "#### Two vectors of unequal lengths\n",
    "- R will repeat the shorter vector until it is as long as the longer vector, then calculates. \n",
    "This change isn’t permanent, the shorter vector is its original size after the calculation.\n",
    "- If the length of the short vector is not divided evenly by the length of the long vector, no calculation can be performed.\n"
   ]
  },
  {
   "cell_type": "code",
   "execution_count": 30,
   "id": "d9cb048f-11af-4a84-a964-18db47ea5cef",
   "metadata": {},
   "outputs": [],
   "source": [
    "x <- 1:2\n",
    "y <- 1:4"
   ]
  },
  {
   "cell_type": "code",
   "execution_count": 32,
   "id": "d979c8e0-edd7-42a7-b97e-eb07ee25dc6b",
   "metadata": {},
   "outputs": [
    {
     "data": {
      "text/html": [
       "<ol class=list-inline>\n",
       "\t<li>1</li>\n",
       "\t<li>4</li>\n",
       "\t<li>3</li>\n",
       "\t<li>8</li>\n",
       "\t<li>5</li>\n",
       "\t<li>12</li>\n",
       "</ol>\n"
      ],
      "text/latex": [
       "\\begin{enumerate*}\n",
       "\\item 1\n",
       "\\item 4\n",
       "\\item 3\n",
       "\\item 8\n",
       "\\item 5\n",
       "\\item 12\n",
       "\\end{enumerate*}\n"
      ],
      "text/markdown": [
       "1. 1\n",
       "2. 4\n",
       "3. 3\n",
       "4. 8\n",
       "5. 5\n",
       "6. 12\n",
       "\n",
       "\n"
      ],
      "text/plain": [
       "[1]  1  4  3  8  5 12"
      ]
     },
     "metadata": {},
     "output_type": "display_data"
    }
   ],
   "source": [
    "die * x"
   ]
  },
  {
   "cell_type": "markdown",
   "id": "9734730d-625b-43d4-b1e6-742a5523897d",
   "metadata": {},
   "source": [
    "An error message will be displayed when we perform the function, (die * y) as the length of y(4) cannot be evenly divided by the length of die (6)"
   ]
  },
  {
   "cell_type": "code",
   "execution_count": null,
   "id": "4f0474a5-476f-4526-b3d6-b93eefffd360",
   "metadata": {},
   "outputs": [],
   "source": [
    "die * y "
   ]
  },
  {
   "cell_type": "markdown",
   "id": "98ca6a57-4437-4f9c-8aa5-a2bc79248e31",
   "metadata": {},
   "source": [
    "### 2.1 Functions\n",
    "R comes with many functions to do sophisticated tasks. \n",
    "For example, \n",
    "- Round function rounds a number. \n",
    "- Factorial function calculates the factorial of a number."
   ]
  },
  {
   "cell_type": "code",
   "execution_count": null,
   "id": "e1e5e420-1515-44a5-9e1b-5b1dac5fb084",
   "metadata": {},
   "outputs": [],
   "source": [
    "round(2.78)"
   ]
  },
  {
   "cell_type": "code",
   "execution_count": null,
   "id": "edbe69f2-5bf5-4fca-acd6-71154461c316",
   "metadata": {},
   "outputs": [],
   "source": [
    "factorial(4)"
   ]
  },
  {
   "cell_type": "markdown",
   "id": "cc5de333-2bc6-48b3-8b16-74285463c4c3",
   "metadata": {},
   "source": [
    "#### Function’s argument: \n",
    "The data that you pass into the function. \n",
    "The argument can be raw data, an R object, or result of another R function."
   ]
  },
  {
   "cell_type": "code",
   "execution_count": null,
   "id": "1c6771e2-bbb4-48cf-86aa-065d11f5139a",
   "metadata": {},
   "outputs": [],
   "source": [
    "mean(1:4)\n",
    "mean(y)\n",
    "round(mean(y))"
   ]
  },
  {
   "cell_type": "markdown",
   "id": "70e64d3c-ce84-4826-8174-11c8bc5ef164",
   "metadata": {},
   "source": [
    "#### linking functions together\n",
    "R resolves it from the innermost operation to the outermost. \n",
    "Here, R first looks up y, then calculates the mean of y, then rounds the mean. [round(mean(y))]"
   ]
  },
  {
   "cell_type": "markdown",
   "id": "f756ed79-2d61-483f-8959-924269359f1f",
   "metadata": {},
   "source": [
    "### 2.2 Rolling the Dice\n",
    "#### Sample function: \n",
    "The roll of the die can be simulated using the sample function. \n",
    "It takes two arguments: a vector named x and a number named \"size\". It returns 'size\" elements from the vector. \n",
    "when giving more than one argument, we separate them using a comma"
   ]
  },
  {
   "cell_type": "code",
   "execution_count": 20,
   "id": "c9375eda-a98c-4357-ac80-f0c90cd75fa6",
   "metadata": {},
   "outputs": [
    {
     "data": {
      "text/html": [
       "<ol class=list-inline>\n",
       "\t<li>2</li>\n",
       "\t<li>3</li>\n",
       "\t<li>4</li>\n",
       "</ol>\n"
      ],
      "text/latex": [
       "\\begin{enumerate*}\n",
       "\\item 2\n",
       "\\item 3\n",
       "\\item 4\n",
       "\\end{enumerate*}\n"
      ],
      "text/markdown": [
       "1. 2\n",
       "2. 3\n",
       "3. 4\n",
       "\n",
       "\n"
      ],
      "text/plain": [
       "[1] 2 3 4"
      ]
     },
     "metadata": {},
     "output_type": "display_data"
    }
   ],
   "source": [
    "sample(x = 1:6, size = 3)   #it displayed 3 random numbers from 1 to 6"
   ]
  },
  {
   "cell_type": "code",
   "execution_count": 34,
   "id": "86d791d2-7c8d-4ef4-8edd-e3596c709c02",
   "metadata": {},
   "outputs": [
    {
     "data": {
      "text/html": [
       "6"
      ],
      "text/latex": [
       "6"
      ],
      "text/markdown": [
       "6"
      ],
      "text/plain": [
       "[1] 6"
      ]
     },
     "metadata": {},
     "output_type": "display_data"
    }
   ],
   "source": [
    "sample(x = die, size = 1)  #we set x=die to roll the dice, keeping size one only gives us one number."
   ]
  },
  {
   "cell_type": "code",
   "execution_count": 49,
   "id": "f52bf372-87b1-4ef4-a2b3-7f5892c3838e",
   "metadata": {},
   "outputs": [
    {
     "data": {
      "text/html": [
       "1"
      ],
      "text/latex": [
       "1"
      ],
      "text/markdown": [
       "1"
      ],
      "text/plain": [
       "[1] 1"
      ]
     },
     "metadata": {},
     "output_type": "display_data"
    }
   ],
   "source": [
    "sample(die, size = 1)     #it can also be written like this as using names is optional, BUT writing argument names prevents errors.\n",
    "                          #it is usually obvious what the first piece of data refers to"
   ]
  },
  {
   "cell_type": "code",
   "execution_count": 43,
   "id": "0b545d99-77e9-4627-b7d6-c4e49e2bc73f",
   "metadata": {},
   "outputs": [
    {
     "data": {
      "text/html": [
       "3.79"
      ],
      "text/latex": [
       "3.79"
      ],
      "text/markdown": [
       "3.79"
      ],
      "text/plain": [
       "[1] 3.79"
      ]
     },
     "metadata": {},
     "output_type": "display_data"
    },
    {
     "data": {
      "text/html": [
       "3.79"
      ],
      "text/latex": [
       "3.79"
      ],
      "text/markdown": [
       "3.79"
      ],
      "text/plain": [
       "[1] 3.79"
      ]
     },
     "metadata": {},
     "output_type": "display_data"
    },
    {
     "data": {
      "text/html": [
       "3.8"
      ],
      "text/latex": [
       "3.8"
      ],
      "text/markdown": [
       "3.8"
      ],
      "text/plain": [
       "[1] 3.8"
      ]
     },
     "metadata": {},
     "output_type": "display_data"
    }
   ],
   "source": [
    "round(3.7896, digits=3)\n",
    "round(3.7895, digits=2)\n",
    "round(3.7895, digits=1)   #we can customize the results using arguments "
   ]
  },
  {
   "cell_type": "code",
   "execution_count": 55,
   "id": "8271f652-da0d-4081-a74f-f392594e4696",
   "metadata": {},
   "outputs": [
    {
     "data": {
      "text/html": [
       "<pre class=language-r><code>function (x, digits = 0) \n",
       "NULL</code></pre>"
      ],
      "text/latex": [
       "\\begin{minted}{r}\n",
       "function (x, digits = 0) \n",
       "NULL\n",
       "\\end{minted}"
      ],
      "text/markdown": [
       "```r\n",
       "function (x, digits = 0) \n",
       "NULL\n",
       "```"
      ],
      "text/plain": [
       "function (x, digits = 0) \n",
       "NULL"
      ]
     },
     "metadata": {},
     "output_type": "display_data"
    }
   ],
   "source": [
    "args(round)              #using args( ) to find out the appropriate names that can be given for passing arguments\n",
    "                         #the default value to round a number is set to 0. To override the default, supply your own value as done above."
   ]
  },
  {
   "cell_type": "markdown",
   "id": "0594c8d2-887d-4efa-9e22-452a02eae9ed",
   "metadata": {},
   "source": [
    "### 2.2 Sample with Replacement \n",
    "On giving the argument \"sample(die, size = 2)\" multiple times, the second die never has the same value as the first die,"
   ]
  },
  {
   "cell_type": "code",
   "execution_count": 67,
   "id": "29a59952-23fb-4488-88d4-1f3219181233",
   "metadata": {},
   "outputs": [
    {
     "data": {
      "text/html": [
       "<ol class=list-inline>\n",
       "\t<li>4</li>\n",
       "\t<li>2</li>\n",
       "</ol>\n"
      ],
      "text/latex": [
       "\\begin{enumerate*}\n",
       "\\item 4\n",
       "\\item 2\n",
       "\\end{enumerate*}\n"
      ],
      "text/markdown": [
       "1. 4\n",
       "2. 2\n",
       "\n",
       "\n"
      ],
      "text/plain": [
       "[1] 4 2"
      ]
     },
     "metadata": {},
     "output_type": "display_data"
    },
    {
     "data": {
      "text/html": [
       "<ol class=list-inline>\n",
       "\t<li>5</li>\n",
       "\t<li>2</li>\n",
       "</ol>\n"
      ],
      "text/latex": [
       "\\begin{enumerate*}\n",
       "\\item 5\n",
       "\\item 2\n",
       "\\end{enumerate*}\n"
      ],
      "text/markdown": [
       "1. 5\n",
       "2. 2\n",
       "\n",
       "\n"
      ],
      "text/plain": [
       "[1] 5 2"
      ]
     },
     "metadata": {},
     "output_type": "display_data"
    },
    {
     "data": {
      "text/html": [
       "<ol class=list-inline>\n",
       "\t<li>2</li>\n",
       "\t<li>4</li>\n",
       "</ol>\n"
      ],
      "text/latex": [
       "\\begin{enumerate*}\n",
       "\\item 2\n",
       "\\item 4\n",
       "\\end{enumerate*}\n"
      ],
      "text/markdown": [
       "1. 2\n",
       "2. 4\n",
       "\n",
       "\n"
      ],
      "text/plain": [
       "[1] 2 4"
      ]
     },
     "metadata": {},
     "output_type": "display_data"
    }
   ],
   "source": [
    "sample(die, size = 2)\n",
    "sample(die, size = 2)\n",
    "sample(die, size = 2)"
   ]
  },
  {
   "cell_type": "markdown",
   "id": "ef5000cb-b172-4f6d-81e1-cb8c3d835484",
   "metadata": {},
   "source": [
    "It builds without replacement. But when we roll a dice in actual this is not true, we can get two same values. \n",
    "To make each die independent of the other add another argument:"
   ]
  },
  {
   "cell_type": "code",
   "execution_count": 59,
   "id": "8ef104d6-b2b5-4b2d-986b-eb9145a6945e",
   "metadata": {},
   "outputs": [
    {
     "data": {
      "text/html": [
       "<ol class=list-inline>\n",
       "\t<li>4</li>\n",
       "\t<li>4</li>\n",
       "</ol>\n"
      ],
      "text/latex": [
       "\\begin{enumerate*}\n",
       "\\item 4\n",
       "\\item 4\n",
       "\\end{enumerate*}\n"
      ],
      "text/markdown": [
       "1. 4\n",
       "2. 4\n",
       "\n",
       "\n"
      ],
      "text/plain": [
       "[1] 4 4"
      ]
     },
     "metadata": {},
     "output_type": "display_data"
    }
   ],
   "source": [
    "sample(die, size = 2, replace = TRUE)  #Sampling with replacement creates independent random samples"
   ]
  },
  {
   "cell_type": "code",
   "execution_count": 11,
   "id": "69e13b0c-3adc-48da-a04e-4735aea85a58",
   "metadata": {},
   "outputs": [
    {
     "data": {
      "text/html": [
       "<ol class=list-inline>\n",
       "\t<li>2</li>\n",
       "\t<li>2</li>\n",
       "</ol>\n"
      ],
      "text/latex": [
       "\\begin{enumerate*}\n",
       "\\item 2\n",
       "\\item 2\n",
       "\\end{enumerate*}\n"
      ],
      "text/markdown": [
       "1. 2\n",
       "2. 2\n",
       "\n",
       "\n"
      ],
      "text/plain": [
       "[1] 2 2"
      ]
     },
     "metadata": {},
     "output_type": "display_data"
    }
   ],
   "source": [
    "dice <- sample(die, size = 2, replace = TRUE)  #we just created a method for simulating the result of rolling a pair of dice\n",
    "dice                                           #we created an object \"dice\" & gave it the value obtained upon rolling the dice"
   ]
  },
  {
   "cell_type": "code",
   "execution_count": 13,
   "id": "e0bd367b-fcca-471e-b819-b66e56c5b99d",
   "metadata": {},
   "outputs": [
    {
     "data": {
      "text/html": [
       "4"
      ],
      "text/latex": [
       "4"
      ],
      "text/markdown": [
       "4"
      ],
      "text/plain": [
       "[1] 4"
      ]
     },
     "metadata": {},
     "output_type": "display_data"
    }
   ],
   "source": [
    "sum(dice)    #we used sum function to add up the values"
   ]
  },
  {
   "cell_type": "code",
   "execution_count": 21,
   "id": "f9b34c88-45ab-4d3c-ba03-2ab7f69cd74d",
   "metadata": {},
   "outputs": [
    {
     "data": {
      "text/html": [
       "<ol class=list-inline>\n",
       "\t<li>2</li>\n",
       "\t<li>2</li>\n",
       "</ol>\n"
      ],
      "text/latex": [
       "\\begin{enumerate*}\n",
       "\\item 2\n",
       "\\item 2\n",
       "\\end{enumerate*}\n"
      ],
      "text/markdown": [
       "1. 2\n",
       "2. 2\n",
       "\n",
       "\n"
      ],
      "text/plain": [
       "[1] 2 2"
      ]
     },
     "metadata": {},
     "output_type": "display_data"
    },
    {
     "data": {
      "text/html": [
       "<ol class=list-inline>\n",
       "\t<li>2</li>\n",
       "\t<li>2</li>\n",
       "</ol>\n"
      ],
      "text/latex": [
       "\\begin{enumerate*}\n",
       "\\item 2\n",
       "\\item 2\n",
       "\\end{enumerate*}\n"
      ],
      "text/markdown": [
       "1. 2\n",
       "2. 2\n",
       "\n",
       "\n"
      ],
      "text/plain": [
       "[1] 2 2"
      ]
     },
     "metadata": {},
     "output_type": "display_data"
    }
   ],
   "source": [
    "dice          #every time we call dice, it gives us the same value stored in dice when we ran the sample function.\n",
    "dice          #R won’t rerun the sample function(die, 2, replace = TRUE) to create a new roll of the dice."
   ]
  },
  {
   "cell_type": "markdown",
   "id": "89155286-7d35-4672-84e9-1d2bfb7e794e",
   "metadata": {},
   "source": [
    "- This shows that once we save results to an R object they don't change. \n",
    "- Programming would be quite hard if the values of objects changed each time we called them.\n",
    "For the object that re-rolls the dice whenever we call it, we make it by writing our own R function."
   ]
  },
  {
   "cell_type": "markdown",
   "id": "8d271ed1-0017-4d22-89f0-37fd0972d47c",
   "metadata": {},
   "source": [
    "### 2.3 Writing our Own Functions\n",
    "Retyping the whole code to re-roll the dice is quite labourous. So we create a function.\n",
    "function has three parts: name, body of code, set of arguments."
   ]
  },
  {
   "cell_type": "code",
   "execution_count": 39,
   "id": "ba36d56e-f244-4c21-ac7e-ad21d725bb1a",
   "metadata": {},
   "outputs": [],
   "source": [
    "                                 #stored our function in an object named \"roll\"\n",
    "roll <- function() {             #we converted our dice code into a function\n",
    "  die <- 1:6                     \n",
    "  dice <- sample(die, size = 2, replace = TRUE)\n",
    "  sum(dice)                                       #We saved the output of the function to an R object\n",
    "}                                                 #This object becomes our new function."
   ]
  },
  {
   "cell_type": "code",
   "execution_count": 35,
   "id": "05d768b1-0b8e-4bb8-880b-ee46067b77e5",
   "metadata": {},
   "outputs": [
    {
     "data": {
      "text/html": [
       "6"
      ],
      "text/latex": [
       "6"
      ],
      "text/markdown": [
       "6"
      ],
      "text/plain": [
       "[1] 6"
      ]
     },
     "metadata": {},
     "output_type": "display_data"
    }
   ],
   "source": [
    "roll()"
   ]
  },
  {
   "cell_type": "code",
   "execution_count": 41,
   "id": "7de3f343-948b-44bf-a18f-213f96c46240",
   "metadata": {},
   "outputs": [
    {
     "data": {
      "text/html": [
       "<pre class=language-r><code>function () \n",
       "{\n",
       "<span style=white-space:pre-wrap>    die &lt;- 1:6</span>\n",
       "<span style=white-space:pre-wrap>    dice &lt;- sample(die, size = 2, replace = TRUE)</span>\n",
       "<span style=white-space:pre-wrap>    sum(dice)</span>\n",
       "}</code></pre>"
      ],
      "text/latex": [
       "\\begin{minted}{r}\n",
       "function () \n",
       "\\{\n",
       "    die <- 1:6\n",
       "    dice <- sample(die, size = 2, replace = TRUE)\n",
       "    sum(dice)\n",
       "\\}\n",
       "\\end{minted}"
      ],
      "text/markdown": [
       "```r\n",
       "function () \n",
       "{\n",
       "    die <- 1:6\n",
       "    dice <- sample(die, size = 2, replace = TRUE)\n",
       "    sum(dice)\n",
       "}\n",
       "```"
      ],
      "text/plain": [
       "function() {             #we converted our dice code into a function\n",
       "  die <- 1:6                     \n",
       "  dice <- sample(die, size = 2, replace = TRUE)\n",
       "  sum(dice)                                       #We saved the output of the function to an R object\n",
       "}"
      ]
     },
     "metadata": {},
     "output_type": "display_data"
    }
   ],
   "source": [
    "roll              #if u type the object name without parenthesis, it gives the code written in it."
   ]
  },
  {
   "cell_type": "code",
   "execution_count": 45,
   "id": "dfff1f38-f130-4589-93b0-0193dba24809",
   "metadata": {},
   "outputs": [
    {
     "data": {
      "text/html": [
       "2"
      ],
      "text/latex": [
       "2"
      ],
      "text/markdown": [
       "2"
      ],
      "text/plain": [
       "[1] 2"
      ]
     },
     "metadata": {},
     "output_type": "display_data"
    },
    {
     "data": {
      "text/html": [
       "9"
      ],
      "text/latex": [
       "9"
      ],
      "text/markdown": [
       "9"
      ],
      "text/plain": [
       "[1] 9"
      ]
     },
     "metadata": {},
     "output_type": "display_data"
    }
   ],
   "source": [
    "roll()            #rolling a dice gives us a unique value everytime\n",
    "roll() "
   ]
  },
  {
   "cell_type": "markdown",
   "id": "008109fb-6059-4207-8c4c-2efeb7c284d6",
   "metadata": {},
   "source": [
    "### 2.4 Returning value in a function\n",
    "- R executes all the code in the body and then returns the result of the last line of code. \n",
    "- If the last line of code doesn’t return a value, neither does the function. "
   ]
  },
  {
   "cell_type": "code",
   "execution_count": 62,
   "id": "df19f6b6-7f4a-44c3-8629-faf21d401e86",
   "metadata": {},
   "outputs": [
    {
     "data": {
      "text/html": [
       "2"
      ],
      "text/latex": [
       "2"
      ],
      "text/markdown": [
       "2"
      ],
      "text/plain": [
       "[1] 2"
      ]
     },
     "metadata": {},
     "output_type": "display_data"
    }
   ],
   "source": [
    "a <- 2+2\n",
    "sqrt(a)            #this code will display a result"
   ]
  },
  {
   "cell_type": "code",
   "execution_count": 68,
   "id": "699d401b-50e1-4fe7-9cf1-bc96f95400b4",
   "metadata": {},
   "outputs": [],
   "source": [
    "a <- 2+2\n",
    "b <- sqrt(a)       #no result displayed as these lines of code dont return a value to the command line, they save a value to an object."
   ]
  },
  {
   "cell_type": "markdown",
   "id": "f8531fcf-5f3c-49c0-a1c0-92e0d9fb4cbc",
   "metadata": {},
   "source": [
    "### 2.5 Arguments \n",
    "- We can give function an argument by putting its name in the paranthesis that follows function.\n",
    "- You can take advantage of this to roll different types of dice each time we call the function."
   ]
  },
  {
   "cell_type": "code",
   "execution_count": 80,
   "id": "0c4dbea4-baee-48ea-aa69-5883dfd22f52",
   "metadata": {},
   "outputs": [],
   "source": [
    "rolling <- function(wood) {\n",
    "  dice <- sample(wood, size = 2, replace = TRUE)\n",
    "  sum(dice)\n",
    "}"
   ]
  },
  {
   "cell_type": "code",
   "execution_count": 78,
   "id": "6225669d-de70-4a8d-b86f-d23e2aa5e8c7",
   "metadata": {},
   "outputs": [
    {
     "ename": "ERROR",
     "evalue": "Error in sample(bones, size = 2, replace = TRUE): object 'bones' not found\n",
     "output_type": "error",
     "traceback": [
      "Error in sample(bones, size = 2, replace = TRUE): object 'bones' not found\nTraceback:\n",
      "1. rolling()",
      "2. sample(bones, size = 2, replace = TRUE)   # at line 2 of file <text>"
     ]
    }
   ],
   "source": [
    "rolling()     #it gives and error bcs we did not supply a value to wood argument. "
   ]
  },
  {
   "cell_type": "code",
   "execution_count": 84,
   "id": "acae7c27-6314-4dac-841f-e3a3f6bb2a0b",
   "metadata": {},
   "outputs": [],
   "source": [
    "rolling <- function(wood = 1:6) {                           #You prevent this error by giving wood argument a default value.\n",
    "  dice <- sample(wood, size = 2, replace = TRUE)\n",
    "  sum(dice)\n",
    "}"
   ]
  },
  {
   "cell_type": "code",
   "execution_count": 88,
   "id": "3d37f5ce-cf2f-4581-8504-5fbeca84aa82",
   "metadata": {},
   "outputs": [
    {
     "data": {
      "text/html": [
       "6"
      ],
      "text/latex": [
       "6"
      ],
      "text/markdown": [
       "6"
      ],
      "text/plain": [
       "[1] 6"
      ]
     },
     "metadata": {},
     "output_type": "display_data"
    },
    {
     "data": {
      "text/html": [
       "3"
      ],
      "text/latex": [
       "3"
      ],
      "text/markdown": [
       "3"
      ],
      "text/plain": [
       "[1] 3"
      ]
     },
     "metadata": {},
     "output_type": "display_data"
    }
   ],
   "source": [
    "rolling()\n",
    "rolling(wood = 1:4)         #we can also supply a new value to wood, if we don't it uses the default value. "
   ]
  },
  {
   "cell_type": "markdown",
   "id": "f7034ae0-5f47-4b33-968f-bda0760c9299",
   "metadata": {},
   "source": [
    "- When a function is run, R will replace each argument name in the function body with the value that the user supplies for the argument. If the user does not supply a value, R will replace the argument name with the argument’s default value.\n",
    "- Once we create our function, R treats it like every other function in R. "
   ]
  }
 ],
 "metadata": {
  "kernelspec": {
   "display_name": "R [conda env:base] *",
   "language": "R",
   "name": "conda-base-r"
  },
  "language_info": {
   "codemirror_mode": "r",
   "file_extension": ".r",
   "mimetype": "text/x-r-source",
   "name": "R",
   "pygments_lexer": "r",
   "version": "3.6.1"
  }
 },
 "nbformat": 4,
 "nbformat_minor": 5
}
